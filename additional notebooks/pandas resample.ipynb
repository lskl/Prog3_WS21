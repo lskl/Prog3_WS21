{
 "cells": [
  {
   "cell_type": "markdown",
   "metadata": {
    "slideshow": {
     "slide_type": "slide"
    }
   },
   "source": [
    " # Examples of the use of _pandas.resample()_ to calculate sum and average in different periods"
   ]
  },
  {
   "cell_type": "markdown",
   "metadata": {
    "slideshow": {
     "slide_type": "slide"
    }
   },
   "source": [
    "## The input file has measurements of air temperature, relative humidity and radiation, as well as a timestamp field for each measurement. It includes one complete day of measurements, taken every 5 minutes, approximately. The measurements are _not_ exactly equidistant in time (isochronal)."
   ]
  },
  {
   "cell_type": "markdown",
   "metadata": {
    "slideshow": {
     "slide_type": "slide"
    }
   },
   "source": [
    "## The function _pandas.resample()_ will be used to help aggregate the measurements of temperature and radiation in two different ways:\n",
    "    * The temperature will be averaged into hourly temperature\n",
    "    * The radiation will be integrated (added up)"
   ]
  },
  {
   "cell_type": "markdown",
   "metadata": {
    "slideshow": {
     "slide_type": "fragment"
    }
   },
   "source": [
    "# <center>*</center>"
   ]
  },
  {
   "cell_type": "markdown",
   "metadata": {
    "slideshow": {
     "slide_type": "slide"
    }
   },
   "source": [
    "## Import needed libraries"
   ]
  },
  {
   "cell_type": "code",
   "execution_count": 1,
   "metadata": {
    "slideshow": {
     "slide_type": "fragment"
    }
   },
   "outputs": [],
   "source": [
    "%matplotlib inline\n",
    "import pandas as pd\n",
    "import matplotlib.pyplot as plt\n",
    "plt.ioff()"
   ]
  },
  {
   "cell_type": "markdown",
   "metadata": {
    "slideshow": {
     "slide_type": "slide"
    }
   },
   "source": [
    "## Read data"
   ]
  },
  {
   "cell_type": "code",
   "execution_count": 2,
   "metadata": {
    "slideshow": {
     "slide_type": "fragment"
    }
   },
   "outputs": [],
   "source": [
    "df = pd.read_csv( '../../../data/sensors_to_resample.csv', sep=';' )"
   ]
  },
  {
   "cell_type": "markdown",
   "metadata": {
    "slideshow": {
     "slide_type": "subslide"
    }
   },
   "source": [
    "### First lines of the table, just to check"
   ]
  },
  {
   "cell_type": "code",
   "execution_count": 3,
   "metadata": {
    "slideshow": {
     "slide_type": "fragment"
    }
   },
   "outputs": [
    {
     "data": {
      "text/html": [
       "<div>\n",
       "<style scoped>\n",
       "    .dataframe tbody tr th:only-of-type {\n",
       "        vertical-align: middle;\n",
       "    }\n",
       "\n",
       "    .dataframe tbody tr th {\n",
       "        vertical-align: top;\n",
       "    }\n",
       "\n",
       "    .dataframe thead th {\n",
       "        text-align: right;\n",
       "    }\n",
       "</style>\n",
       "<table border=\"1\" class=\"dataframe\">\n",
       "  <thead>\n",
       "    <tr style=\"text-align: right;\">\n",
       "      <th></th>\n",
       "      <th>Timestamp</th>\n",
       "      <th>Temperature</th>\n",
       "      <th>Rel_Humidity</th>\n",
       "      <th>PAR_Radiation</th>\n",
       "    </tr>\n",
       "  </thead>\n",
       "  <tbody>\n",
       "    <tr>\n",
       "      <th>0</th>\n",
       "      <td>2018-09-16 00:05:00</td>\n",
       "      <td>22.640</td>\n",
       "      <td>34.649</td>\n",
       "      <td>0.032</td>\n",
       "    </tr>\n",
       "    <tr>\n",
       "      <th>1</th>\n",
       "      <td>2018-09-16 00:10:00</td>\n",
       "      <td>22.699</td>\n",
       "      <td>35.280</td>\n",
       "      <td>0.024</td>\n",
       "    </tr>\n",
       "    <tr>\n",
       "      <th>2</th>\n",
       "      <td>2018-09-16 00:15:00</td>\n",
       "      <td>22.700</td>\n",
       "      <td>35.237</td>\n",
       "      <td>0.051</td>\n",
       "    </tr>\n",
       "    <tr>\n",
       "      <th>3</th>\n",
       "      <td>2018-09-16 00:20:00</td>\n",
       "      <td>22.700</td>\n",
       "      <td>34.618</td>\n",
       "      <td>0.013</td>\n",
       "    </tr>\n",
       "    <tr>\n",
       "      <th>4</th>\n",
       "      <td>2018-09-16 00:25:00</td>\n",
       "      <td>22.603</td>\n",
       "      <td>34.133</td>\n",
       "      <td>0.000</td>\n",
       "    </tr>\n",
       "  </tbody>\n",
       "</table>\n",
       "</div>"
      ],
      "text/plain": [
       "             Timestamp  Temperature  Rel_Humidity  PAR_Radiation\n",
       "0  2018-09-16 00:05:00       22.640        34.649          0.032\n",
       "1  2018-09-16 00:10:00       22.699        35.280          0.024\n",
       "2  2018-09-16 00:15:00       22.700        35.237          0.051\n",
       "3  2018-09-16 00:20:00       22.700        34.618          0.013\n",
       "4  2018-09-16 00:25:00       22.603        34.133          0.000"
      ]
     },
     "execution_count": 3,
     "metadata": {},
     "output_type": "execute_result"
    }
   ],
   "source": [
    "df.head()"
   ]
  },
  {
   "cell_type": "markdown",
   "metadata": {
    "slideshow": {
     "slide_type": "subslide"
    }
   },
   "source": [
    "### And the last lines"
   ]
  },
  {
   "cell_type": "code",
   "execution_count": 4,
   "metadata": {
    "slideshow": {
     "slide_type": "fragment"
    }
   },
   "outputs": [
    {
     "data": {
      "text/html": [
       "<div>\n",
       "<style scoped>\n",
       "    .dataframe tbody tr th:only-of-type {\n",
       "        vertical-align: middle;\n",
       "    }\n",
       "\n",
       "    .dataframe tbody tr th {\n",
       "        vertical-align: top;\n",
       "    }\n",
       "\n",
       "    .dataframe thead th {\n",
       "        text-align: right;\n",
       "    }\n",
       "</style>\n",
       "<table border=\"1\" class=\"dataframe\">\n",
       "  <thead>\n",
       "    <tr style=\"text-align: right;\">\n",
       "      <th></th>\n",
       "      <th>Timestamp</th>\n",
       "      <th>Temperature</th>\n",
       "      <th>Rel_Humidity</th>\n",
       "      <th>PAR_Radiation</th>\n",
       "    </tr>\n",
       "  </thead>\n",
       "  <tbody>\n",
       "    <tr>\n",
       "      <th>282</th>\n",
       "      <td>2018-09-16 23:37:25</td>\n",
       "      <td>22.492</td>\n",
       "      <td>35.027</td>\n",
       "      <td>0.051</td>\n",
       "    </tr>\n",
       "    <tr>\n",
       "      <th>283</th>\n",
       "      <td>2018-09-16 23:42:25</td>\n",
       "      <td>22.386</td>\n",
       "      <td>34.442</td>\n",
       "      <td>0.051</td>\n",
       "    </tr>\n",
       "    <tr>\n",
       "      <th>284</th>\n",
       "      <td>2018-09-16 23:47:25</td>\n",
       "      <td>22.198</td>\n",
       "      <td>33.610</td>\n",
       "      <td>0.025</td>\n",
       "    </tr>\n",
       "    <tr>\n",
       "      <th>285</th>\n",
       "      <td>2018-09-16 23:52:26</td>\n",
       "      <td>22.172</td>\n",
       "      <td>35.041</td>\n",
       "      <td>0.025</td>\n",
       "    </tr>\n",
       "    <tr>\n",
       "      <th>286</th>\n",
       "      <td>2018-09-16 23:57:27</td>\n",
       "      <td>22.200</td>\n",
       "      <td>35.314</td>\n",
       "      <td>0.025</td>\n",
       "    </tr>\n",
       "  </tbody>\n",
       "</table>\n",
       "</div>"
      ],
      "text/plain": [
       "               Timestamp  Temperature  Rel_Humidity  PAR_Radiation\n",
       "282  2018-09-16 23:37:25       22.492        35.027          0.051\n",
       "283  2018-09-16 23:42:25       22.386        34.442          0.051\n",
       "284  2018-09-16 23:47:25       22.198        33.610          0.025\n",
       "285  2018-09-16 23:52:26       22.172        35.041          0.025\n",
       "286  2018-09-16 23:57:27       22.200        35.314          0.025"
      ]
     },
     "execution_count": 4,
     "metadata": {},
     "output_type": "execute_result"
    }
   ],
   "source": [
    "df.tail()"
   ]
  },
  {
   "cell_type": "markdown",
   "metadata": {
    "slideshow": {
     "slide_type": "slide"
    }
   },
   "source": [
    "## We define the index of the table (previously a consecutive number) to be the data column _Timestamp_"
   ]
  },
  {
   "cell_type": "code",
   "execution_count": 5,
   "metadata": {
    "slideshow": {
     "slide_type": "fragment"
    }
   },
   "outputs": [
    {
     "data": {
      "text/plain": [
       "DatetimeIndex(['2018-09-16 00:05:00', '2018-09-16 00:10:00',\n",
       "               '2018-09-16 00:15:00', '2018-09-16 00:20:00',\n",
       "               '2018-09-16 00:25:00', '2018-09-16 00:30:00',\n",
       "               '2018-09-16 00:35:01', '2018-09-16 00:40:02',\n",
       "               '2018-09-16 00:45:03', '2018-09-16 00:50:04',\n",
       "               ...\n",
       "               '2018-09-16 23:12:23', '2018-09-16 23:17:24',\n",
       "               '2018-09-16 23:22:25', '2018-09-16 23:27:25',\n",
       "               '2018-09-16 23:32:25', '2018-09-16 23:37:25',\n",
       "               '2018-09-16 23:42:25', '2018-09-16 23:47:25',\n",
       "               '2018-09-16 23:52:26', '2018-09-16 23:57:27'],\n",
       "              dtype='datetime64[ns]', name='Timestamp', length=287, freq=None)"
      ]
     },
     "execution_count": 5,
     "metadata": {},
     "output_type": "execute_result"
    }
   ],
   "source": [
    "df.index = pd.DatetimeIndex( df['Timestamp'] )\n",
    "df.index"
   ]
  },
  {
   "cell_type": "markdown",
   "metadata": {
    "slideshow": {
     "slide_type": "slide"
    }
   },
   "source": [
    "## Notice that the data type of the column was from \"whatever\" (_object_, in this case) into _DatetimeIndex_ (datetime64 bits)\n",
    "## This is the crucial step!"
   ]
  },
  {
   "cell_type": "code",
   "execution_count": 6,
   "metadata": {
    "slideshow": {
     "slide_type": "fragment"
    }
   },
   "outputs": [
    {
     "name": "stdout",
     "output_type": "stream",
     "text": [
      "datetime64[ns]\n",
      "object\n"
     ]
    }
   ],
   "source": [
    "print( df.index.dtype) \n",
    "print( df['Timestamp'].dtype )"
   ]
  },
  {
   "cell_type": "markdown",
   "metadata": {
    "slideshow": {
     "slide_type": "slide"
    }
   },
   "source": [
    "### First lines of the table (you never check too much)"
   ]
  },
  {
   "cell_type": "code",
   "execution_count": 7,
   "metadata": {
    "slideshow": {
     "slide_type": "fragment"
    }
   },
   "outputs": [
    {
     "data": {
      "text/html": [
       "<div>\n",
       "<style scoped>\n",
       "    .dataframe tbody tr th:only-of-type {\n",
       "        vertical-align: middle;\n",
       "    }\n",
       "\n",
       "    .dataframe tbody tr th {\n",
       "        vertical-align: top;\n",
       "    }\n",
       "\n",
       "    .dataframe thead th {\n",
       "        text-align: right;\n",
       "    }\n",
       "</style>\n",
       "<table border=\"1\" class=\"dataframe\">\n",
       "  <thead>\n",
       "    <tr style=\"text-align: right;\">\n",
       "      <th></th>\n",
       "      <th>Timestamp</th>\n",
       "      <th>Temperature</th>\n",
       "      <th>Rel_Humidity</th>\n",
       "      <th>PAR_Radiation</th>\n",
       "    </tr>\n",
       "    <tr>\n",
       "      <th>Timestamp</th>\n",
       "      <th></th>\n",
       "      <th></th>\n",
       "      <th></th>\n",
       "      <th></th>\n",
       "    </tr>\n",
       "  </thead>\n",
       "  <tbody>\n",
       "    <tr>\n",
       "      <th>2018-09-16 00:05:00</th>\n",
       "      <td>2018-09-16 00:05:00</td>\n",
       "      <td>22.640</td>\n",
       "      <td>34.649</td>\n",
       "      <td>0.032</td>\n",
       "    </tr>\n",
       "    <tr>\n",
       "      <th>2018-09-16 00:10:00</th>\n",
       "      <td>2018-09-16 00:10:00</td>\n",
       "      <td>22.699</td>\n",
       "      <td>35.280</td>\n",
       "      <td>0.024</td>\n",
       "    </tr>\n",
       "    <tr>\n",
       "      <th>2018-09-16 00:15:00</th>\n",
       "      <td>2018-09-16 00:15:00</td>\n",
       "      <td>22.700</td>\n",
       "      <td>35.237</td>\n",
       "      <td>0.051</td>\n",
       "    </tr>\n",
       "    <tr>\n",
       "      <th>2018-09-16 00:20:00</th>\n",
       "      <td>2018-09-16 00:20:00</td>\n",
       "      <td>22.700</td>\n",
       "      <td>34.618</td>\n",
       "      <td>0.013</td>\n",
       "    </tr>\n",
       "    <tr>\n",
       "      <th>2018-09-16 00:25:00</th>\n",
       "      <td>2018-09-16 00:25:00</td>\n",
       "      <td>22.603</td>\n",
       "      <td>34.133</td>\n",
       "      <td>0.000</td>\n",
       "    </tr>\n",
       "  </tbody>\n",
       "</table>\n",
       "</div>"
      ],
      "text/plain": [
       "                               Timestamp  Temperature  Rel_Humidity  \\\n",
       "Timestamp                                                             \n",
       "2018-09-16 00:05:00  2018-09-16 00:05:00       22.640        34.649   \n",
       "2018-09-16 00:10:00  2018-09-16 00:10:00       22.699        35.280   \n",
       "2018-09-16 00:15:00  2018-09-16 00:15:00       22.700        35.237   \n",
       "2018-09-16 00:20:00  2018-09-16 00:20:00       22.700        34.618   \n",
       "2018-09-16 00:25:00  2018-09-16 00:25:00       22.603        34.133   \n",
       "\n",
       "                     PAR_Radiation  \n",
       "Timestamp                           \n",
       "2018-09-16 00:05:00          0.032  \n",
       "2018-09-16 00:10:00          0.024  \n",
       "2018-09-16 00:15:00          0.051  \n",
       "2018-09-16 00:20:00          0.013  \n",
       "2018-09-16 00:25:00          0.000  "
      ]
     },
     "execution_count": 7,
     "metadata": {},
     "output_type": "execute_result"
    }
   ],
   "source": [
    "df.head()"
   ]
  },
  {
   "cell_type": "markdown",
   "metadata": {
    "slideshow": {
     "slide_type": "slide"
    }
   },
   "source": [
    "### And the last lines again"
   ]
  },
  {
   "cell_type": "code",
   "execution_count": 8,
   "metadata": {
    "slideshow": {
     "slide_type": "fragment"
    }
   },
   "outputs": [
    {
     "data": {
      "text/html": [
       "<div>\n",
       "<style scoped>\n",
       "    .dataframe tbody tr th:only-of-type {\n",
       "        vertical-align: middle;\n",
       "    }\n",
       "\n",
       "    .dataframe tbody tr th {\n",
       "        vertical-align: top;\n",
       "    }\n",
       "\n",
       "    .dataframe thead th {\n",
       "        text-align: right;\n",
       "    }\n",
       "</style>\n",
       "<table border=\"1\" class=\"dataframe\">\n",
       "  <thead>\n",
       "    <tr style=\"text-align: right;\">\n",
       "      <th></th>\n",
       "      <th>Timestamp</th>\n",
       "      <th>Temperature</th>\n",
       "      <th>Rel_Humidity</th>\n",
       "      <th>PAR_Radiation</th>\n",
       "    </tr>\n",
       "    <tr>\n",
       "      <th>Timestamp</th>\n",
       "      <th></th>\n",
       "      <th></th>\n",
       "      <th></th>\n",
       "      <th></th>\n",
       "    </tr>\n",
       "  </thead>\n",
       "  <tbody>\n",
       "    <tr>\n",
       "      <th>2018-09-16 23:37:25</th>\n",
       "      <td>2018-09-16 23:37:25</td>\n",
       "      <td>22.492</td>\n",
       "      <td>35.027</td>\n",
       "      <td>0.051</td>\n",
       "    </tr>\n",
       "    <tr>\n",
       "      <th>2018-09-16 23:42:25</th>\n",
       "      <td>2018-09-16 23:42:25</td>\n",
       "      <td>22.386</td>\n",
       "      <td>34.442</td>\n",
       "      <td>0.051</td>\n",
       "    </tr>\n",
       "    <tr>\n",
       "      <th>2018-09-16 23:47:25</th>\n",
       "      <td>2018-09-16 23:47:25</td>\n",
       "      <td>22.198</td>\n",
       "      <td>33.610</td>\n",
       "      <td>0.025</td>\n",
       "    </tr>\n",
       "    <tr>\n",
       "      <th>2018-09-16 23:52:26</th>\n",
       "      <td>2018-09-16 23:52:26</td>\n",
       "      <td>22.172</td>\n",
       "      <td>35.041</td>\n",
       "      <td>0.025</td>\n",
       "    </tr>\n",
       "    <tr>\n",
       "      <th>2018-09-16 23:57:27</th>\n",
       "      <td>2018-09-16 23:57:27</td>\n",
       "      <td>22.200</td>\n",
       "      <td>35.314</td>\n",
       "      <td>0.025</td>\n",
       "    </tr>\n",
       "  </tbody>\n",
       "</table>\n",
       "</div>"
      ],
      "text/plain": [
       "                               Timestamp  Temperature  Rel_Humidity  \\\n",
       "Timestamp                                                             \n",
       "2018-09-16 23:37:25  2018-09-16 23:37:25       22.492        35.027   \n",
       "2018-09-16 23:42:25  2018-09-16 23:42:25       22.386        34.442   \n",
       "2018-09-16 23:47:25  2018-09-16 23:47:25       22.198        33.610   \n",
       "2018-09-16 23:52:26  2018-09-16 23:52:26       22.172        35.041   \n",
       "2018-09-16 23:57:27  2018-09-16 23:57:27       22.200        35.314   \n",
       "\n",
       "                     PAR_Radiation  \n",
       "Timestamp                           \n",
       "2018-09-16 23:37:25          0.051  \n",
       "2018-09-16 23:42:25          0.051  \n",
       "2018-09-16 23:47:25          0.025  \n",
       "2018-09-16 23:52:26          0.025  \n",
       "2018-09-16 23:57:27          0.025  "
      ]
     },
     "execution_count": 8,
     "metadata": {},
     "output_type": "execute_result"
    }
   ],
   "source": [
    "df.tail()"
   ]
  },
  {
   "cell_type": "markdown",
   "metadata": {
    "slideshow": {
     "slide_type": "slide"
    }
   },
   "source": [
    "## Notice that the timestamps are __not__ exactly isochronal: that is our main problem here"
   ]
  },
  {
   "cell_type": "code",
   "execution_count": 9,
   "metadata": {
    "slideshow": {
     "slide_type": "subslide"
    }
   },
   "outputs": [
    {
     "data": {
      "text/plain": [
       "Timestamp\n",
       "2018-09-16 00:05:00    2018-09-16 00:05:00\n",
       "2018-09-16 00:10:00    2018-09-16 00:10:00\n",
       "2018-09-16 00:15:00    2018-09-16 00:15:00\n",
       "2018-09-16 00:20:00    2018-09-16 00:20:00\n",
       "2018-09-16 00:25:00    2018-09-16 00:25:00\n",
       "Name: Timestamp, dtype: object"
      ]
     },
     "execution_count": 9,
     "metadata": {},
     "output_type": "execute_result"
    }
   ],
   "source": [
    "df['Timestamp'].head()"
   ]
  },
  {
   "cell_type": "code",
   "execution_count": 10,
   "metadata": {
    "slideshow": {
     "slide_type": "subslide"
    }
   },
   "outputs": [
    {
     "data": {
      "text/plain": [
       "Timestamp\n",
       "2018-09-16 23:37:25    2018-09-16 23:37:25\n",
       "2018-09-16 23:42:25    2018-09-16 23:42:25\n",
       "2018-09-16 23:47:25    2018-09-16 23:47:25\n",
       "2018-09-16 23:52:26    2018-09-16 23:52:26\n",
       "2018-09-16 23:57:27    2018-09-16 23:57:27\n",
       "Name: Timestamp, dtype: object"
      ]
     },
     "execution_count": 10,
     "metadata": {},
     "output_type": "execute_result"
    }
   ],
   "source": [
    "df['Timestamp'].tail()"
   ]
  },
  {
   "cell_type": "markdown",
   "metadata": {
    "slideshow": {
     "slide_type": "subslide"
    }
   },
   "source": [
    "## Just to show it more clearly, we can check the difference (discret derivative, for the sake of precision) between timestamps"
   ]
  },
  {
   "cell_type": "code",
   "execution_count": 11,
   "metadata": {
    "slideshow": {
     "slide_type": "fragment"
    }
   },
   "outputs": [],
   "source": [
    "duration_between_timestamps = df.index.to_series().diff()"
   ]
  },
  {
   "cell_type": "markdown",
   "metadata": {
    "slideshow": {
     "slide_type": "subslide"
    }
   },
   "source": [
    "## Convert to seconds to compare more easily"
   ]
  },
  {
   "cell_type": "code",
   "execution_count": 12,
   "metadata": {
    "slideshow": {
     "slide_type": "fragment"
    }
   },
   "outputs": [],
   "source": [
    "duration_between_timestamps = duration_between_timestamps.dt.seconds"
   ]
  },
  {
   "cell_type": "code",
   "execution_count": 13,
   "metadata": {
    "slideshow": {
     "slide_type": "fragment"
    }
   },
   "outputs": [
    {
     "name": "stdout",
     "output_type": "stream",
     "text": [
      "300.0\n",
      "302.0\n"
     ]
    }
   ],
   "source": [
    "print( duration_between_timestamps.min() )\n",
    "print( duration_between_timestamps.max() )"
   ]
  },
  {
   "cell_type": "markdown",
   "metadata": {
    "slideshow": {
     "slide_type": "subslide"
    }
   },
   "source": [
    "## Plot the number of seconds between measurements"
   ]
  },
  {
   "cell_type": "code",
   "execution_count": 14,
   "metadata": {
    "slideshow": {
     "slide_type": "fragment"
    }
   },
   "outputs": [
    {
     "data": {
      "image/png": "[encoded data removed]",
      "text/plain": [
       "<Figure size 1440x360 with 1 Axes>"
      ]
     },
     "metadata": {
      "needs_background": "light"
     },
     "output_type": "display_data"
    }
   ],
   "source": [
    "fig, ax = plt.subplots( nrows=1, ncols=1, figsize=(20,5) )\n",
    "ax.plot( df.index, duration_between_timestamps, linestyle='', marker='s' ) \n",
    "plt.show()"
   ]
  },
  {
   "cell_type": "markdown",
   "metadata": {
    "slideshow": {
     "slide_type": "subslide"
    }
   },
   "source": [
    "### Doesn't seem like a big deal, a shift of one or two seconds, but towards midnight it adds up to a couple of minutes, we don't have the measurements at the \"minute 5\" anymore"
   ]
  },
  {
   "cell_type": "code",
   "execution_count": 15,
   "metadata": {
    "slideshow": {
     "slide_type": "fragment"
    }
   },
   "outputs": [
    {
     "data": {
      "text/plain": [
       "Timestamp\n",
       "2018-09-16 23:37:25    2018-09-16 23:37:25\n",
       "2018-09-16 23:42:25    2018-09-16 23:42:25\n",
       "2018-09-16 23:47:25    2018-09-16 23:47:25\n",
       "2018-09-16 23:52:26    2018-09-16 23:52:26\n",
       "2018-09-16 23:57:27    2018-09-16 23:57:27\n",
       "Name: Timestamp, dtype: object"
      ]
     },
     "execution_count": 15,
     "metadata": {},
     "output_type": "execute_result"
    }
   ],
   "source": [
    "df['Timestamp'].tail()"
   ]
  },
  {
   "cell_type": "markdown",
   "metadata": {
    "slideshow": {
     "slide_type": "slide"
    }
   },
   "source": [
    "## This is the problem to solve, and we want to do it with _pandas.resample_"
   ]
  },
  {
   "cell_type": "markdown",
   "metadata": {
    "slideshow": {
     "slide_type": "subslide"
    }
   },
   "source": [
    "### For _resample_ to work properly, the series must have a time index, as stated in the [documentation](https://pandas.pydata.org/pandas-docs/stable/generated/pandas.DataFrame.resample.html):\n",
    "    Convenience method for frequency conversion and resampling of time series. Object must have a datetime-like index (DatetimeIndex, PeriodIndex, or TimedeltaIndex), or pass datetime-like values to the on or level keyword.\n",
    "\n",
    "#### (that was the reason to use DatetimeIndex previously)"
   ]
  },
  {
   "cell_type": "markdown",
   "metadata": {
    "slideshow": {
     "slide_type": "subslide"
    }
   },
   "source": [
    "## If we have that index, we can do things like:"
   ]
  },
  {
   "cell_type": "code",
   "execution_count": 16,
   "metadata": {
    "slideshow": {
     "slide_type": "fragment"
    }
   },
   "outputs": [
    {
     "name": "stdout",
     "output_type": "stream",
     "text": [
      "2018-09-16 00:05:00 2018-09-16 23:57:27\n"
     ]
    }
   ],
   "source": [
    "print( df.index.min(), df.index.max() )"
   ]
  },
  {
   "cell_type": "code",
   "execution_count": 17,
   "metadata": {
    "slideshow": {
     "slide_type": "fragment"
    }
   },
   "outputs": [
    {
     "name": "stdout",
     "output_type": "stream",
     "text": [
      "2018-09-16 00:00:00 2018-09-16 23:00:00\n"
     ]
    }
   ],
   "source": [
    "print( df.resample( '1H' ).mean().index.min(), df.resample( '1H' ).mean().index.max() )"
   ]
  },
  {
   "cell_type": "code",
   "execution_count": 18,
   "metadata": {
    "slideshow": {
     "slide_type": "fragment"
    }
   },
   "outputs": [
    {
     "name": "stdout",
     "output_type": "stream",
     "text": [
      "2018-09-16 00:05:00 2018-09-16 23:55:00\n"
     ]
    }
   ],
   "source": [
    "print( df.resample( '5Min' ).mean().index.min(), df.resample( '5Min' ).mean().index.max() )"
   ]
  },
  {
   "cell_type": "markdown",
   "metadata": {
    "slideshow": {
     "slide_type": "subslide"
    }
   },
   "source": [
    "#### For the record, _5 minutes_ can be '5Min' or '5T' ('5M' are 5 months)"
   ]
  },
  {
   "cell_type": "code",
   "execution_count": 19,
   "metadata": {
    "slideshow": {
     "slide_type": "fragment"
    }
   },
   "outputs": [
    {
     "name": "stdout",
     "output_type": "stream",
     "text": [
      "2018-09-30 00:00:00 2018-09-30 00:00:00\n",
      "2018-09-16 00:05:00 2018-09-16 23:55:00\n",
      "2018-09-16 00:05:00 2018-09-16 23:55:00\n"
     ]
    }
   ],
   "source": [
    "print( df.resample( '5M' ).mean().index.min(), df.resample( '5M' ).mean().index.max() )\n",
    "print( df.resample( '5Min' ).mean().index.min(), df.resample( '5Min' ).mean().index.max() )\n",
    "print( df.resample( '5T' ).mean().index.min(), df.resample( '5T' ).mean().index.max() )"
   ]
  },
  {
   "cell_type": "markdown",
   "metadata": {
    "slideshow": {
     "slide_type": "subslide"
    }
   },
   "source": [
    "## What happened?"
   ]
  },
  {
   "cell_type": "markdown",
   "metadata": {
    "slideshow": {
     "slide_type": "subslide"
    }
   },
   "source": [
    "### What happened was:\n",
    ".resample( 'new intevals' ).mean()\n",
    "\n",
    "### The index is recalculated to 1 hour or 5 minutes, and the _mean_(!) is taken as the new value for the intervals. This is perhaps easier to see in the hourly example:"
   ]
  },
  {
   "cell_type": "code",
   "execution_count": 20,
   "metadata": {
    "slideshow": {
     "slide_type": "subslide"
    }
   },
   "outputs": [
    {
     "data": {
      "text/plain": [
       "Timestamp\n",
       "2018-09-16 00:05:00    22.640\n",
       "2018-09-16 00:10:00    22.699\n",
       "2018-09-16 00:15:00    22.700\n",
       "2018-09-16 00:20:00    22.700\n",
       "2018-09-16 00:25:00    22.603\n",
       "2018-09-16 00:30:00    22.503\n",
       "2018-09-16 00:35:01    22.403\n",
       "2018-09-16 00:40:02    22.410\n",
       "2018-09-16 00:45:03    22.429\n",
       "2018-09-16 00:50:04    22.430\n",
       "2018-09-16 00:55:05    22.400\n",
       "2018-09-16 01:00:05    22.301\n",
       "2018-09-16 01:05:05    22.191\n",
       "2018-09-16 01:10:05    22.102\n",
       "2018-09-16 01:15:06    22.110\n",
       "Name: Temperature, dtype: float64"
      ]
     },
     "execution_count": 20,
     "metadata": {},
     "output_type": "execute_result"
    }
   ],
   "source": [
    "df['Temperature'].head(15)"
   ]
  },
  {
   "cell_type": "code",
   "execution_count": 21,
   "metadata": {
    "slideshow": {
     "slide_type": "subslide"
    }
   },
   "outputs": [
    {
     "data": {
      "text/plain": [
       "Timestamp\n",
       "2018-09-16 00:00:00    22.537909\n",
       "2018-09-16 01:00:00    22.256083\n",
       "2018-09-16 02:00:00    22.310167\n",
       "2018-09-16 03:00:00    22.398333\n",
       "2018-09-16 04:00:00    22.500833\n",
       "Freq: H, Name: Temperature, dtype: float64"
      ]
     },
     "execution_count": 21,
     "metadata": {},
     "output_type": "execute_result"
    }
   ],
   "source": [
    "df['Temperature'].resample( '1H' ).mean().head()"
   ]
  },
  {
   "cell_type": "markdown",
   "metadata": {
    "slideshow": {
     "slide_type": "subslide"
    }
   },
   "source": [
    "### Other methods for resample are:\n",
    "    bfill()    # Backward fill\n",
    "    count()    # Number of values in the interval\n",
    "    ffill()    # Forward fill\n",
    "    first()    # Use the first (valid) data\n",
    "    last()     # Use tha last (valid) data\n",
    "    max()      # Maximum value in the interval\n",
    "    mean()     # Mean of the interval\n",
    "    median()   # Median of values in the interval\n",
    "    min()      # Minimum value in the interval\n",
    "    nunique()  # Number of unique values\n",
    "    std()      # Standard deviation\n",
    "    sum()      # Sum of the values in the interval\n",
    "    var()      # Variance in the interval"
   ]
  },
  {
   "cell_type": "markdown",
   "metadata": {
    "slideshow": {
     "slide_type": "subslide"
    }
   },
   "source": [
    "### Here a complete list (still need to check it thoroughly, though)"
   ]
  },
  {
   "cell_type": "code",
   "execution_count": 22,
   "metadata": {
    "slideshow": {
     "slide_type": "fragment"
    }
   },
   "outputs": [
    {
     "name": "stdout",
     "output_type": "stream",
     "text": [
      "['agg', 'aggregate', 'apply', 'asfreq', 'backfill', 'bfill', 'count', 'ffill', 'fillna', 'first', 'interpolate', 'last', 'max', 'mean', 'median', 'min', 'nearest', 'nunique', 'ohlc', 'pad', 'pipe', 'plot', 'prod', 'sem', 'size', 'std', 'sum', 'transform', 'var']\n"
     ]
    }
   ],
   "source": [
    "tmp = df['Temperature'].resample( '1H' )\n",
    "methods = [ method_name for method_name in dir(tmp) if callable(getattr(tmp, method_name)) ]\n",
    "methods = [ method_name for method_name in methods if not '_' in method_name ]\n",
    "print( methods )"
   ]
  },
  {
   "cell_type": "markdown",
   "metadata": {
    "slideshow": {
     "slide_type": "slide"
    }
   },
   "source": [
    "## A couple of examples"
   ]
  },
  {
   "cell_type": "code",
   "execution_count": 23,
   "metadata": {
    "slideshow": {
     "slide_type": "subslide"
    }
   },
   "outputs": [
    {
     "data": {
      "text/plain": [
       "Timestamp\n",
       "2018-09-16 00:05:00    22.640\n",
       "2018-09-16 00:10:00    22.699\n",
       "2018-09-16 00:15:00    22.700\n",
       "2018-09-16 00:20:00    22.700\n",
       "2018-09-16 00:25:00    22.603\n",
       "2018-09-16 00:30:00    22.503\n",
       "2018-09-16 00:35:01    22.403\n",
       "2018-09-16 00:40:02    22.410\n",
       "2018-09-16 00:45:03    22.429\n",
       "2018-09-16 00:50:04    22.430\n",
       "2018-09-16 00:55:05    22.400\n",
       "2018-09-16 01:00:05    22.301\n",
       "2018-09-16 01:05:05    22.191\n",
       "2018-09-16 01:10:05    22.102\n",
       "2018-09-16 01:15:06    22.110\n",
       "Name: Temperature, dtype: float64"
      ]
     },
     "execution_count": 23,
     "metadata": {},
     "output_type": "execute_result"
    }
   ],
   "source": [
    "df['Temperature'].head(15)"
   ]
  },
  {
   "cell_type": "code",
   "execution_count": 24,
   "metadata": {
    "slideshow": {
     "slide_type": "subslide"
    }
   },
   "outputs": [
    {
     "data": {
      "text/plain": [
       "Timestamp\n",
       "2018-09-16 00:00:00    22.400\n",
       "2018-09-16 01:00:00    22.102\n",
       "Freq: H, Name: Temperature, dtype: float64"
      ]
     },
     "execution_count": 24,
     "metadata": {},
     "output_type": "execute_result"
    }
   ],
   "source": [
    "df['Temperature'].resample( '1H' ).min().head(2)"
   ]
  },
  {
   "cell_type": "code",
   "execution_count": 25,
   "metadata": {
    "slideshow": {
     "slide_type": "fragment"
    }
   },
   "outputs": [
    {
     "data": {
      "text/plain": [
       "Timestamp\n",
       "2018-09-16 00:00:00    22.70\n",
       "2018-09-16 01:00:00    22.41\n",
       "Freq: H, Name: Temperature, dtype: float64"
      ]
     },
     "execution_count": 25,
     "metadata": {},
     "output_type": "execute_result"
    }
   ],
   "source": [
    "df['Temperature'].resample( '1H' ).max().head(2)"
   ]
  },
  {
   "cell_type": "code",
   "execution_count": 26,
   "metadata": {
    "slideshow": {
     "slide_type": "subslide"
    }
   },
   "outputs": [
    {
     "data": {
      "text/plain": [
       "Timestamp\n",
       "2018-09-16 00:00:00    247.917\n",
       "2018-09-16 01:00:00    267.073\n",
       "Freq: H, Name: Temperature, dtype: float64"
      ]
     },
     "execution_count": 26,
     "metadata": {},
     "output_type": "execute_result"
    }
   ],
   "source": [
    "df['Temperature'].resample( '1H' ).sum().head(2)"
   ]
  },
  {
   "cell_type": "code",
   "execution_count": 27,
   "metadata": {
    "slideshow": {
     "slide_type": "fragment"
    }
   },
   "outputs": [
    {
     "data": {
      "text/plain": [
       "Timestamp\n",
       "2018-09-16 00:00:00    22.640\n",
       "2018-09-16 01:00:00    22.301\n",
       "Freq: H, Name: Temperature, dtype: float64"
      ]
     },
     "execution_count": 27,
     "metadata": {},
     "output_type": "execute_result"
    }
   ],
   "source": [
    "df['Temperature'].resample( '1H' ).first().head(2)"
   ]
  },
  {
   "cell_type": "markdown",
   "metadata": {
    "slideshow": {
     "slide_type": "subslide"
    }
   },
   "source": [
    "## Some of the methods make more sense for higher frequencies, when the resampling frequency is higher than the original:"
   ]
  },
  {
   "cell_type": "code",
   "execution_count": 28,
   "metadata": {
    "slideshow": {
     "slide_type": "fragment"
    }
   },
   "outputs": [
    {
     "data": {
      "text/plain": [
       "Timestamp\n",
       "2018-09-16 00:00:00     NaN\n",
       "2018-09-16 01:00:00    22.4\n",
       "Freq: H, Name: Temperature, dtype: float64"
      ]
     },
     "execution_count": 28,
     "metadata": {},
     "output_type": "execute_result"
    }
   ],
   "source": [
    "df['Temperature'].resample( '1H' ).ffill().head(2)"
   ]
  },
  {
   "cell_type": "code",
   "execution_count": 29,
   "metadata": {
    "scrolled": true,
    "slideshow": {
     "slide_type": "fragment"
    }
   },
   "outputs": [
    {
     "data": {
      "text/plain": [
       "Timestamp\n",
       "2018-09-16 00:00:00    22.640\n",
       "2018-09-16 01:00:00    22.301\n",
       "Freq: H, Name: Temperature, dtype: float64"
      ]
     },
     "execution_count": 29,
     "metadata": {},
     "output_type": "execute_result"
    }
   ],
   "source": [
    "df['Temperature'].resample( '1H' ).bfill().head(2)"
   ]
  },
  {
   "cell_type": "markdown",
   "metadata": {
    "slideshow": {
     "slide_type": "subslide"
    }
   },
   "source": [
    "### Now the same with 1 minute as new period:"
   ]
  },
  {
   "cell_type": "code",
   "execution_count": 30,
   "metadata": {
    "slideshow": {
     "slide_type": "fragment"
    }
   },
   "outputs": [
    {
     "data": {
      "text/plain": [
       "Timestamp\n",
       "2018-09-16 00:05:00    22.640\n",
       "2018-09-16 00:06:00    22.640\n",
       "2018-09-16 00:07:00    22.640\n",
       "2018-09-16 00:08:00    22.640\n",
       "2018-09-16 00:09:00    22.640\n",
       "2018-09-16 00:10:00    22.699\n",
       "2018-09-16 00:11:00    22.699\n",
       "2018-09-16 00:12:00    22.699\n",
       "2018-09-16 00:13:00    22.699\n",
       "2018-09-16 00:14:00    22.699\n",
       "Freq: T, Name: Temperature, dtype: float64"
      ]
     },
     "execution_count": 30,
     "metadata": {},
     "output_type": "execute_result"
    }
   ],
   "source": [
    "df['Temperature'].resample( '1T' ).ffill().head(10)"
   ]
  },
  {
   "cell_type": "code",
   "execution_count": 31,
   "metadata": {
    "scrolled": true,
    "slideshow": {
     "slide_type": "subslide"
    }
   },
   "outputs": [
    {
     "data": {
      "text/plain": [
       "Timestamp\n",
       "2018-09-16 00:05:00    22.640\n",
       "2018-09-16 00:06:00    22.699\n",
       "2018-09-16 00:07:00    22.699\n",
       "2018-09-16 00:08:00    22.699\n",
       "2018-09-16 00:09:00    22.699\n",
       "2018-09-16 00:10:00    22.699\n",
       "2018-09-16 00:11:00    22.700\n",
       "2018-09-16 00:12:00    22.700\n",
       "2018-09-16 00:13:00    22.700\n",
       "2018-09-16 00:14:00    22.700\n",
       "Freq: T, Name: Temperature, dtype: float64"
      ]
     },
     "execution_count": 31,
     "metadata": {},
     "output_type": "execute_result"
    }
   ],
   "source": [
    "df['Temperature'].resample( '1T' ).bfill().head(10)"
   ]
  },
  {
   "cell_type": "code",
   "execution_count": 32,
   "metadata": {
    "scrolled": true,
    "slideshow": {
     "slide_type": "subslide"
    }
   },
   "outputs": [
    {
     "data": {
      "text/plain": [
       "Timestamp\n",
       "2018-09-16 00:05:00    22.640\n",
       "2018-09-16 00:06:00    22.640\n",
       "2018-09-16 00:07:00    22.640\n",
       "2018-09-16 00:08:00    22.699\n",
       "2018-09-16 00:09:00    22.699\n",
       "2018-09-16 00:10:00    22.699\n",
       "2018-09-16 00:11:00    22.699\n",
       "2018-09-16 00:12:00    22.699\n",
       "2018-09-16 00:13:00    22.700\n",
       "2018-09-16 00:14:00    22.700\n",
       "Freq: T, Name: Temperature, dtype: float64"
      ]
     },
     "execution_count": 32,
     "metadata": {},
     "output_type": "execute_result"
    }
   ],
   "source": [
    "df['Temperature'].resample( '1T' ).fillna('nearest').head(10)"
   ]
  },
  {
   "cell_type": "code",
   "execution_count": 33,
   "metadata": {
    "scrolled": true,
    "slideshow": {
     "slide_type": "subslide"
    }
   },
   "outputs": [
    {
     "data": {
      "text/plain": [
       "Timestamp\n",
       "2018-09-16 00:05:00    22.640\n",
       "2018-09-16 00:06:00    22.640\n",
       "2018-09-16 00:07:00       NaN\n",
       "2018-09-16 00:08:00       NaN\n",
       "2018-09-16 00:09:00    22.699\n",
       "2018-09-16 00:10:00    22.699\n",
       "2018-09-16 00:11:00    22.699\n",
       "2018-09-16 00:12:00       NaN\n",
       "2018-09-16 00:13:00       NaN\n",
       "2018-09-16 00:14:00    22.700\n",
       "Freq: T, Name: Temperature, dtype: float64"
      ]
     },
     "execution_count": 33,
     "metadata": {},
     "output_type": "execute_result"
    }
   ],
   "source": [
    "df['Temperature'].resample( '1T' ).fillna('nearest', limit=1).head(10)"
   ]
  },
  {
   "cell_type": "markdown",
   "metadata": {
    "slideshow": {
     "slide_type": "slide"
    }
   },
   "source": [
    "## Lastly, if used on a complete DataFrame, it applies to all columns, so please check to see if that is what you actually want"
   ]
  },
  {
   "cell_type": "code",
   "execution_count": 34,
   "metadata": {
    "slideshow": {
     "slide_type": "subslide"
    }
   },
   "outputs": [
    {
     "data": {
      "text/html": [
       "<div>\n",
       "<style scoped>\n",
       "    .dataframe tbody tr th:only-of-type {\n",
       "        vertical-align: middle;\n",
       "    }\n",
       "\n",
       "    .dataframe tbody tr th {\n",
       "        vertical-align: top;\n",
       "    }\n",
       "\n",
       "    .dataframe thead th {\n",
       "        text-align: right;\n",
       "    }\n",
       "</style>\n",
       "<table border=\"1\" class=\"dataframe\">\n",
       "  <thead>\n",
       "    <tr style=\"text-align: right;\">\n",
       "      <th></th>\n",
       "      <th>Temperature</th>\n",
       "      <th>Rel_Humidity</th>\n",
       "      <th>PAR_Radiation</th>\n",
       "    </tr>\n",
       "    <tr>\n",
       "      <th>Timestamp</th>\n",
       "      <th></th>\n",
       "      <th></th>\n",
       "      <th></th>\n",
       "    </tr>\n",
       "  </thead>\n",
       "  <tbody>\n",
       "    <tr>\n",
       "      <th>2018-09-16 00:00:00</th>\n",
       "      <td>22.537909</td>\n",
       "      <td>34.753909</td>\n",
       "      <td>0.016818</td>\n",
       "    </tr>\n",
       "    <tr>\n",
       "      <th>2018-09-16 01:00:00</th>\n",
       "      <td>22.256083</td>\n",
       "      <td>34.337333</td>\n",
       "      <td>0.060417</td>\n",
       "    </tr>\n",
       "    <tr>\n",
       "      <th>2018-09-16 02:00:00</th>\n",
       "      <td>22.310167</td>\n",
       "      <td>34.318000</td>\n",
       "      <td>0.016000</td>\n",
       "    </tr>\n",
       "    <tr>\n",
       "      <th>2018-09-16 03:00:00</th>\n",
       "      <td>22.398333</td>\n",
       "      <td>34.478500</td>\n",
       "      <td>0.016917</td>\n",
       "    </tr>\n",
       "    <tr>\n",
       "      <th>2018-09-16 04:00:00</th>\n",
       "      <td>22.500833</td>\n",
       "      <td>34.427417</td>\n",
       "      <td>0.067667</td>\n",
       "    </tr>\n",
       "  </tbody>\n",
       "</table>\n",
       "</div>"
      ],
      "text/plain": [
       "                     Temperature  Rel_Humidity  PAR_Radiation\n",
       "Timestamp                                                    \n",
       "2018-09-16 00:00:00    22.537909     34.753909       0.016818\n",
       "2018-09-16 01:00:00    22.256083     34.337333       0.060417\n",
       "2018-09-16 02:00:00    22.310167     34.318000       0.016000\n",
       "2018-09-16 03:00:00    22.398333     34.478500       0.016917\n",
       "2018-09-16 04:00:00    22.500833     34.427417       0.067667"
      ]
     },
     "execution_count": 34,
     "metadata": {},
     "output_type": "execute_result"
    }
   ],
   "source": [
    "df.resample('1H').mean().head()"
   ]
  },
  {
   "cell_type": "code",
   "execution_count": 35,
   "metadata": {
    "slideshow": {
     "slide_type": "fragment"
    }
   },
   "outputs": [
    {
     "data": {
      "text/html": [
       "<div>\n",
       "<style scoped>\n",
       "    .dataframe tbody tr th:only-of-type {\n",
       "        vertical-align: middle;\n",
       "    }\n",
       "\n",
       "    .dataframe tbody tr th {\n",
       "        vertical-align: top;\n",
       "    }\n",
       "\n",
       "    .dataframe thead th {\n",
       "        text-align: right;\n",
       "    }\n",
       "</style>\n",
       "<table border=\"1\" class=\"dataframe\">\n",
       "  <thead>\n",
       "    <tr style=\"text-align: right;\">\n",
       "      <th></th>\n",
       "      <th>Temperature</th>\n",
       "      <th>Rel_Humidity</th>\n",
       "      <th>PAR_Radiation</th>\n",
       "    </tr>\n",
       "    <tr>\n",
       "      <th>Timestamp</th>\n",
       "      <th></th>\n",
       "      <th></th>\n",
       "      <th></th>\n",
       "    </tr>\n",
       "  </thead>\n",
       "  <tbody>\n",
       "    <tr>\n",
       "      <th>2018-09-16 00:00:00</th>\n",
       "      <td>247.917</td>\n",
       "      <td>382.293</td>\n",
       "      <td>0.185</td>\n",
       "    </tr>\n",
       "    <tr>\n",
       "      <th>2018-09-16 01:00:00</th>\n",
       "      <td>267.073</td>\n",
       "      <td>412.048</td>\n",
       "      <td>0.725</td>\n",
       "    </tr>\n",
       "    <tr>\n",
       "      <th>2018-09-16 02:00:00</th>\n",
       "      <td>267.722</td>\n",
       "      <td>411.816</td>\n",
       "      <td>0.192</td>\n",
       "    </tr>\n",
       "    <tr>\n",
       "      <th>2018-09-16 03:00:00</th>\n",
       "      <td>268.780</td>\n",
       "      <td>413.742</td>\n",
       "      <td>0.203</td>\n",
       "    </tr>\n",
       "    <tr>\n",
       "      <th>2018-09-16 04:00:00</th>\n",
       "      <td>270.010</td>\n",
       "      <td>413.129</td>\n",
       "      <td>0.812</td>\n",
       "    </tr>\n",
       "  </tbody>\n",
       "</table>\n",
       "</div>"
      ],
      "text/plain": [
       "                     Temperature  Rel_Humidity  PAR_Radiation\n",
       "Timestamp                                                    \n",
       "2018-09-16 00:00:00      247.917       382.293          0.185\n",
       "2018-09-16 01:00:00      267.073       412.048          0.725\n",
       "2018-09-16 02:00:00      267.722       411.816          0.192\n",
       "2018-09-16 03:00:00      268.780       413.742          0.203\n",
       "2018-09-16 04:00:00      270.010       413.129          0.812"
      ]
     },
     "execution_count": 35,
     "metadata": {},
     "output_type": "execute_result"
    }
   ],
   "source": [
    "df.resample('1H').sum().head()"
   ]
  },
  {
   "cell_type": "markdown",
   "metadata": {
    "slideshow": {
     "slide_type": "subslide"
    }
   },
   "source": [
    "# <center>*</center>"
   ]
  },
  {
   "cell_type": "markdown",
   "metadata": {
    "slideshow": {
     "slide_type": "slide"
    }
   },
   "source": [
    "## References and further reading"
   ]
  },
  {
   "cell_type": "markdown",
   "metadata": {
    "slideshow": {
     "slide_type": "subslide"
    }
   },
   "source": [
    "### Documentation and examples:\n",
    "https://pandas.pydata.org/pandas-docs/stable/generated/pandas.DataFrame.resample.html"
   ]
  },
  {
   "cell_type": "markdown",
   "metadata": {
    "slideshow": {
     "slide_type": "fragment"
    }
   },
   "source": [
    "### To check the aggregation functions, and general examples:\n",
    "http://benalexkeen.com/resampling-time-series-data-with-pandas/"
   ]
  },
  {
   "cell_type": "markdown",
   "metadata": {
    "slideshow": {
     "slide_type": "subslide"
    }
   },
   "source": [
    "### To check time units available:\n",
    "https://stackoverflow.com/questions/17001389/pandas-resample-documentation\n",
    "### And also:\n",
    "https://pandas.pydata.org/pandas-docs/stable/timeseries.html#offset-aliases"
   ]
  },
  {
   "cell_type": "markdown",
   "metadata": {
    "slideshow": {
     "slide_type": "subslide"
    }
   },
   "source": [
    "# <center>*</center>"
   ]
  },
  {
   "cell_type": "markdown",
   "metadata": {
    "slideshow": {
     "slide_type": "fragment"
    }
   },
   "source": [
    "___"
   ]
  },
  {
   "cell_type": "markdown",
   "metadata": {
    "slideshow": {
     "slide_type": "skip"
    }
   },
   "source": [
    "# To check next:"
   ]
  },
  {
   "cell_type": "markdown",
   "metadata": {
    "slideshow": {
     "slide_type": "skip"
    }
   },
   "source": [
    "### About the numerical integration of time series, using scipy:\n",
    "https://nbviewer.jupyter.org/gist/metakermit/5720498"
   ]
  },
  {
   "cell_type": "raw",
   "metadata": {
    "slideshow": {
     "slide_type": "skip"
    }
   },
   "source": [
    "def integrate_method(self, how='trapz', unit='s'):\n",
    "    '''Numerically integrate the time series.\n",
    "\n",
    "    @param how: the method to use (trapz by default)\n",
    "    @return \n",
    "\n",
    "    Available methods:\n",
    "     * trapz - trapezoidal\n",
    "     * cumtrapz - cumulative trapezoidal\n",
    "     * simps - Simpson's rule\n",
    "     * romb - Romberger's rule\n",
    "\n",
    "    See http://docs.scipy.org/doc/scipy/reference/integrate.html for the method details.\n",
    "    or the source code\n",
    "    https://github.com/scipy/scipy/blob/master/scipy/integrate/quadrature.py\n",
    "    '''\n",
    "    available_rules = set(['trapz', 'cumtrapz', 'simps', 'romb'])\n",
    "    if how in available_rules:\n",
    "        rule = integrate.__getattribute__(how)\n",
    "    else:\n",
    "        print('Unsupported integration rule: %s' % (how))\n",
    "        print('Expecting one of these sample-based integration rules: %s' % (str(list(available_rules))))\n",
    "        raise AttributeError\n",
    "\n",
    "    result = rule(self.values, self.index.astype(np.int64) / 10**9)\n",
    "    #result = rule(self.values)\n",
    "    return result\n",
    "\n",
    "pd.Series.integrate = integrate_method"
   ]
  }
 ],
 "metadata": {
  "celltoolbar": "Slideshow",
  "kernelspec": {
   "display_name": "Python 3 (ipykernel)",
   "language": "python",
   "name": "python3"
  },
  "language_info": {
   "codemirror_mode": {
    "name": "ipython",
    "version": 3
   },
   "file_extension": ".py",
   "mimetype": "text/x-python",
   "name": "python",
   "nbconvert_exporter": "python",
   "pygments_lexer": "ipython3",
   "version": "3.8.10"
  },
  "toc": {
   "base_numbering": 1,
   "nav_menu": {},
   "number_sections": false,
   "sideBar": true,
   "skip_h1_title": true,
   "title_cell": "Table of Contents",
   "title_sidebar": "Contents",
   "toc_cell": false,
   "toc_position": {
    "height": "calc(100% - 180px)",
    "left": "10px",
    "top": "150px",
    "width": "384px"
   },
   "toc_section_display": true,
   "toc_window_display": true
  },
  "varInspector": {
   "cols": {
    "lenName": 16,
    "lenType": 16,
    "lenVar": 40
   },
   "kernels_config": {
    "python": {
     "delete_cmd_postfix": "",
     "delete_cmd_prefix": "del ",
     "library": "var_list.py",
     "varRefreshCmd": "print(var_dic_list())"
    },
    "r": {
     "delete_cmd_postfix": ") ",
     "delete_cmd_prefix": "rm(",
     "library": "var_list.r",
     "varRefreshCmd": "cat(var_dic_list()) "
    }
   },
   "types_to_exclude": [
    "module",
    "function",
    "builtin_function_or_method",
    "instance",
    "_Feature"
   ],
   "window_display": false
  }
 },
 "nbformat": 4,
 "nbformat_minor": 2
}
