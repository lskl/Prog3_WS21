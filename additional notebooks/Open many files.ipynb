{
 "cells": [
  {
   "cell_type": "markdown",
   "metadata": {},
   "source": [
    "# How to open a list of files and concatenate into a single pandas data frame"
   ]
  },
  {
   "cell_type": "markdown",
   "metadata": {},
   "source": [
    "## This notebook shows how we can open a list of files and have a single table of data in pandas. \n",
    "\n",
    "### We use the function `pandas.concat()`, which puts one data frame _after_ the other, that means that the _columns_ must be the same!"
   ]
  },
  {
   "cell_type": "markdown",
   "metadata": {},
   "source": [
    "For this example, we have three csv files, with three days of data, one day each. They have columns for a timestamp, temperature and relative humidity. The files are in a subfolder named ***three\\_files***.\n",
    "\n",
    "We will open all files, one after the other inside a `for` loop, and concatenate them into a single dataframe. In the end, we can save that file to a new dataframe. \n",
    "\n",
    "Also, we will only select one column, the temperature, to show how this selection can be done."
   ]
  },
  {
   "cell_type": "markdown",
   "metadata": {},
   "source": [
    "<img src='data/three_files.png' width='400'>"
   ]
  },
  {
   "cell_type": "markdown",
   "metadata": {},
   "source": [
    "## Import libraries"
   ]
  },
  {
   "cell_type": "code",
   "execution_count": 1,
   "metadata": {
    "ExecuteTime": {
     "end_time": "2021-11-25T12:52:52.133974Z",
     "start_time": "2021-11-25T12:52:51.866887Z"
    }
   },
   "outputs": [],
   "source": [
    "import pandas as pd"
   ]
  },
  {
   "cell_type": "markdown",
   "metadata": {},
   "source": [
    "## Create a list of the files names to iterate over them"
   ]
  },
  {
   "cell_type": "markdown",
   "metadata": {},
   "source": [
    "### Method 1: Write them to a list"
   ]
  },
  {
   "cell_type": "code",
   "execution_count": 2,
   "metadata": {
    "ExecuteTime": {
     "end_time": "2021-11-25T12:52:52.137263Z",
     "start_time": "2021-11-25T12:52:52.135015Z"
    }
   },
   "outputs": [],
   "source": [
    "files_to_read = [ '2018-04-18.csv', '2018-04-19.csv', '2018-04-20.csv' ]"
   ]
  },
  {
   "cell_type": "markdown",
   "metadata": {},
   "source": [
    "That works if there are not many files, and also if there are many different files in the same folder, but we don't want to read all of them."
   ]
  },
  {
   "cell_type": "markdown",
   "metadata": {},
   "source": [
    "### Method 2: Read all the files in the folder"
   ]
  },
  {
   "cell_type": "code",
   "execution_count": 3,
   "metadata": {
    "ExecuteTime": {
     "end_time": "2021-11-25T12:52:52.146274Z",
     "start_time": "2021-11-25T12:52:52.140145Z"
    }
   },
   "outputs": [],
   "source": [
    "import os"
   ]
  },
  {
   "cell_type": "code",
   "execution_count": 4,
   "metadata": {
    "ExecuteTime": {
     "end_time": "2021-11-25T12:52:52.153145Z",
     "start_time": "2021-11-25T12:52:52.147339Z"
    }
   },
   "outputs": [
    {
     "name": "stdout",
     "output_type": "stream",
     "text": [
      "['some_empty_file.txt', '2018-04-18.csv', '2018-04-20.csv', '2018-04-19.csv']\n"
     ]
    }
   ],
   "source": [
    "files_to_read = os.listdir( 'three_files/' ) # returns list with everything in that directory\n",
    "print( files_to_read )"
   ]
  },
  {
   "cell_type": "markdown",
   "metadata": {},
   "source": [
    "That works if we want many files, all of them. If you want to filter some in or out, you need to read as shown, and then delete elements from the list. \n",
    "\n",
    "For example, you can select only files with a `.csv` extension adding the following line after reading the directory:"
   ]
  },
  {
   "cell_type": "code",
   "execution_count": 5,
   "metadata": {
    "ExecuteTime": {
     "end_time": "2021-11-25T12:52:52.159230Z",
     "start_time": "2021-11-25T12:52:52.153983Z"
    }
   },
   "outputs": [
    {
     "name": "stdout",
     "output_type": "stream",
     "text": [
      "['2018-04-18.csv', '2018-04-20.csv', '2018-04-19.csv']\n"
     ]
    }
   ],
   "source": [
    "files_to_read = os.listdir( 'three_files/' ) # returns list with everything in that directory\n",
    "\n",
    "files_to_read = [ name for name in files_to_read if '.csv' in name ] # Select only those with .csv as part of their name\n",
    "\n",
    "print( files_to_read )"
   ]
  },
  {
   "cell_type": "markdown",
   "metadata": {},
   "source": [
    "## Make a loop and concatenate all files"
   ]
  },
  {
   "cell_type": "markdown",
   "metadata": {},
   "source": [
    "### Method 1: _normal_ `for` loop"
   ]
  },
  {
   "cell_type": "markdown",
   "metadata": {},
   "source": [
    "We first create an empty data frame."
   ]
  },
  {
   "cell_type": "code",
   "execution_count": 6,
   "metadata": {
    "ExecuteTime": {
     "end_time": "2021-11-25T12:52:52.165790Z",
     "start_time": "2021-11-25T12:52:52.160149Z"
    }
   },
   "outputs": [],
   "source": [
    "big_dataframe1 = pd.DataFrame( )"
   ]
  },
  {
   "cell_type": "markdown",
   "metadata": {},
   "source": [
    "We use a `for` loop to read each file and concatenate into the big data frame:"
   ]
  },
  {
   "cell_type": "code",
   "execution_count": 7,
   "metadata": {
    "ExecuteTime": {
     "end_time": "2021-11-25T12:52:52.179255Z",
     "start_time": "2021-11-25T12:52:52.166711Z"
    }
   },
   "outputs": [],
   "source": [
    "for current_file in files_to_read:\n",
    "\n",
    "    current_df = pd.read_csv( 'three_files/'+current_file ) # Care for the subfolder or path!\n",
    "\n",
    "    current_df = current_df[ [ 'Date and Time', 'Temp. (°C)' ] ] # Select only the columns that we want\n",
    "    \n",
    "    big_dataframe1 = pd.concat( [ big_dataframe1, current_df ] )"
   ]
  },
  {
   "cell_type": "code",
   "execution_count": 8,
   "metadata": {
    "ExecuteTime": {
     "end_time": "2021-11-25T12:52:52.187141Z",
     "start_time": "2021-11-25T12:52:52.180193Z"
    }
   },
   "outputs": [
    {
     "data": {
      "text/plain": [
       "(855, 2)"
      ]
     },
     "execution_count": 8,
     "metadata": {},
     "output_type": "execute_result"
    }
   ],
   "source": [
    "big_dataframe1.shape"
   ]
  },
  {
   "cell_type": "markdown",
   "metadata": {},
   "source": [
    "Or we specify the columns while reading the file:"
   ]
  },
  {
   "cell_type": "code",
   "execution_count": 9,
   "metadata": {
    "ExecuteTime": {
     "end_time": "2021-11-25T12:52:52.193361Z",
     "start_time": "2021-11-25T12:52:52.188741Z"
    }
   },
   "outputs": [],
   "source": [
    "big_dataframe2 = pd.DataFrame( )"
   ]
  },
  {
   "cell_type": "code",
   "execution_count": 10,
   "metadata": {
    "ExecuteTime": {
     "end_time": "2021-11-25T12:52:52.204000Z",
     "start_time": "2021-11-25T12:52:52.194284Z"
    }
   },
   "outputs": [],
   "source": [
    "for current_file in files_to_read:\n",
    "\n",
    "    current_df = pd.read_csv( 'three_files/'+current_file, usecols=[ 'Date and Time', 'Temp. (°C)' ] )\n",
    "        \n",
    "    big_dataframe2 = pd.concat( [ big_dataframe2, current_df ] )"
   ]
  },
  {
   "cell_type": "code",
   "execution_count": 11,
   "metadata": {
    "ExecuteTime": {
     "end_time": "2021-11-25T12:52:52.208753Z",
     "start_time": "2021-11-25T12:52:52.204882Z"
    }
   },
   "outputs": [
    {
     "data": {
      "text/plain": [
       "(855, 2)"
      ]
     },
     "execution_count": 11,
     "metadata": {},
     "output_type": "execute_result"
    }
   ],
   "source": [
    "big_dataframe2.shape"
   ]
  },
  {
   "cell_type": "markdown",
   "metadata": {},
   "source": [
    "### Method 2: list comprehension"
   ]
  },
  {
   "cell_type": "code",
   "execution_count": 12,
   "metadata": {
    "ExecuteTime": {
     "end_time": "2021-11-25T12:52:52.218542Z",
     "start_time": "2021-11-25T12:52:52.209746Z"
    }
   },
   "outputs": [],
   "source": [
    "big_dataframe3 = pd.concat( [ pd.read_csv( 'three_files/'+current_file, usecols=[ 'Date and Time', 'Temp. (°C)' ] )  for current_file in files_to_read] )"
   ]
  },
  {
   "cell_type": "code",
   "execution_count": 13,
   "metadata": {
    "ExecuteTime": {
     "end_time": "2021-11-25T12:52:52.222170Z",
     "start_time": "2021-11-25T12:52:52.219509Z"
    }
   },
   "outputs": [
    {
     "data": {
      "text/plain": [
       "(855, 2)"
      ]
     },
     "execution_count": 13,
     "metadata": {},
     "output_type": "execute_result"
    }
   ],
   "source": [
    "big_dataframe3.shape"
   ]
  },
  {
   "cell_type": "markdown",
   "metadata": {},
   "source": [
    "You can break that big line into several for better reading, python keeps track of open parenthesis and brackets:"
   ]
  },
  {
   "cell_type": "code",
   "execution_count": 14,
   "metadata": {
    "ExecuteTime": {
     "end_time": "2021-11-25T12:52:52.231601Z",
     "start_time": "2021-11-25T12:52:52.222977Z"
    }
   },
   "outputs": [],
   "source": [
    "big_dataframe3 = pd.concat( [ pd.read_csv( 'three_files/'+current_file, \n",
    "                                          usecols=[ 'Date and Time', 'Temp. (°C)' ] )  \n",
    "                             for current_file in files_to_read] )"
   ]
  },
  {
   "cell_type": "code",
   "execution_count": 15,
   "metadata": {
    "ExecuteTime": {
     "end_time": "2021-11-25T12:52:52.235205Z",
     "start_time": "2021-11-25T12:52:52.232504Z"
    }
   },
   "outputs": [
    {
     "data": {
      "text/plain": [
       "(855, 2)"
      ]
     },
     "execution_count": 15,
     "metadata": {},
     "output_type": "execute_result"
    }
   ],
   "source": [
    "big_dataframe3.shape"
   ]
  },
  {
   "cell_type": "markdown",
   "metadata": {},
   "source": [
    "## Write to a file"
   ]
  },
  {
   "cell_type": "markdown",
   "metadata": {},
   "source": [
    "Depending which method you used, you can save to a file activating the corresponding line:"
   ]
  },
  {
   "cell_type": "code",
   "execution_count": 16,
   "metadata": {
    "ExecuteTime": {
     "end_time": "2021-11-25T12:52:52.240330Z",
     "start_time": "2021-11-25T12:52:52.236061Z"
    }
   },
   "outputs": [],
   "source": [
    "# big_dataframe1.to_csv( 'big_table.csv' )\n",
    "# big_dataframe2.to_csv( 'big_table.csv' )\n",
    "# big_dataframe3.to_csv( 'big_table.csv' )"
   ]
  },
  {
   "cell_type": "markdown",
   "metadata": {},
   "source": [
    "Common options that you might want to use are:"
   ]
  },
  {
   "cell_type": "code",
   "execution_count": 18,
   "metadata": {
    "ExecuteTime": {
     "end_time": "2021-11-25T12:53:08.035568Z",
     "start_time": "2021-11-25T12:53:08.033797Z"
    }
   },
   "outputs": [],
   "source": [
    "# big_dataframe1.to_csv( 'big_table.csv', sep=';', index=False )\n",
    "# big_dataframe2.to_csv( 'big_table.csv', sep=';', index=False )\n",
    "# big_dataframe3.to_csv( 'big_table.csv', sep=';', index=False )"
   ]
  },
  {
   "cell_type": "markdown",
   "metadata": {},
   "source": [
    "## Lastly, you can consider saving the data to a binary file, instead of a text (csv) file, which is more efficient to read and store, at the price that we cannot look into the file directly anymore"
   ]
  },
  {
   "cell_type": "code",
   "execution_count": null,
   "metadata": {},
   "outputs": [],
   "source": [
    "big_dataframe1.to_( 'big_table.csv', sep=';', index=False )\n"
   ]
  },
  {
   "cell_type": "markdown",
   "metadata": {},
   "source": [
    "---"
   ]
  }
 ],
 "metadata": {
  "kernelspec": {
   "display_name": "Python 3 (ipykernel)",
   "language": "python",
   "name": "python3"
  },
  "language_info": {
   "codemirror_mode": {
    "name": "ipython",
    "version": 3
   },
   "file_extension": ".py",
   "mimetype": "text/x-python",
   "name": "python",
   "nbconvert_exporter": "python",
   "pygments_lexer": "ipython3",
   "version": "3.8.10"
  },
  "toc": {
   "base_numbering": 1,
   "nav_menu": {},
   "number_sections": false,
   "sideBar": true,
   "skip_h1_title": true,
   "title_cell": "Table of Contents",
   "title_sidebar": "Contents",
   "toc_cell": false,
   "toc_position": {},
   "toc_section_display": true,
   "toc_window_display": false
  },
  "varInspector": {
   "cols": {
    "lenName": 16,
    "lenType": 16,
    "lenVar": 40
   },
   "kernels_config": {
    "python": {
     "delete_cmd_postfix": "",
     "delete_cmd_prefix": "del ",
     "library": "var_list.py",
     "varRefreshCmd": "print(var_dic_list())"
    },
    "r": {
     "delete_cmd_postfix": ") ",
     "delete_cmd_prefix": "rm(",
     "library": "var_list.r",
     "varRefreshCmd": "cat(var_dic_list()) "
    }
   },
   "types_to_exclude": [
    "module",
    "function",
    "builtin_function_or_method",
    "instance",
    "_Feature"
   ],
   "window_display": false
  }
 },
 "nbformat": 4,
 "nbformat_minor": 2
}
