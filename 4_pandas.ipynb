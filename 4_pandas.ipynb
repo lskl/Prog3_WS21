{
 "cells": [
  {
   "cell_type": "markdown",
   "metadata": {
    "toc": true
   },
   "source": [
    "<h1>Table of Contents<span class=\"tocSkip\"></span></h1>\n",
    "<div class=\"toc\"><ul class=\"toc-item\"><li><span><a href=\"#Introduction.-Data-Frames.-CSV-and-Excel-files.-Average,-max,-min,-etc.\" data-toc-modified-id=\"Introduction.-Data-Frames.-CSV-and-Excel-files.-Average,-max,-min,-etc.-1\"><span class=\"toc-item-num\">1&nbsp;&nbsp;</span>Introduction. Data Frames. CSV and Excel files. Average, max, min, etc.</a></span><ul class=\"toc-item\"><li><ul class=\"toc-item\"><li><span><a href=\"#Import-the-pandas-library\" data-toc-modified-id=\"Import-the-pandas-library-1.0.1\"><span class=\"toc-item-num\">1.0.1&nbsp;&nbsp;</span>Import the pandas library</a></span></li><li><span><a href=\"#Read-a-table-from-a-file\" data-toc-modified-id=\"Read-a-table-from-a-file-1.0.2\"><span class=\"toc-item-num\">1.0.2&nbsp;&nbsp;</span>Read a table from a file</a></span></li><li><span><a href=\"#Reading-a-csv-file\" data-toc-modified-id=\"Reading-a-csv-file-1.0.3\"><span class=\"toc-item-num\">1.0.3&nbsp;&nbsp;</span>Reading a csv-file</a></span></li><li><span><a href=\"#Reading-an-xlsx-file-from-Microsoft-Excel\" data-toc-modified-id=\"Reading-an-xlsx-file-from-Microsoft-Excel-1.0.4\"><span class=\"toc-item-num\">1.0.4&nbsp;&nbsp;</span>Reading an xlsx-file from Microsoft Excel</a></span></li><li><span><a href=\"#Having-a-look-at-a-DataFrame\" data-toc-modified-id=\"Having-a-look-at-a-DataFrame-1.0.5\"><span class=\"toc-item-num\">1.0.5&nbsp;&nbsp;</span>Having a look at a DataFrame</a></span></li><li><span><a href=\"#Head-and-tail\" data-toc-modified-id=\"Head-and-tail-1.0.6\"><span class=\"toc-item-num\">1.0.6&nbsp;&nbsp;</span>Head and tail</a></span></li><li><span><a href=\"#Shape\" data-toc-modified-id=\"Shape-1.0.7\"><span class=\"toc-item-num\">1.0.7&nbsp;&nbsp;</span>Shape</a></span></li><li><span><a href=\"#Columns\" data-toc-modified-id=\"Columns-1.0.8\"><span class=\"toc-item-num\">1.0.8&nbsp;&nbsp;</span>Columns</a></span></li><li><span><a href=\"#Describe\" data-toc-modified-id=\"Describe-1.0.9\"><span class=\"toc-item-num\">1.0.9&nbsp;&nbsp;</span>Describe</a></span></li></ul></li></ul></li><li><span><a href=\"#Indexing.-Queries.\" data-toc-modified-id=\"Indexing.-Queries.-2\"><span class=\"toc-item-num\">2&nbsp;&nbsp;</span>Indexing. Queries.</a></span><ul class=\"toc-item\"><li><span><a href=\"#Indexing\" data-toc-modified-id=\"Indexing-2.1\"><span class=\"toc-item-num\">2.1&nbsp;&nbsp;</span>Indexing</a></span><ul class=\"toc-item\"><li><span><a href=\"#Short-reminder-of-list-indexing\" data-toc-modified-id=\"Short-reminder-of-list-indexing-2.1.1\"><span class=\"toc-item-num\">2.1.1&nbsp;&nbsp;</span>Short reminder of list indexing</a></span></li></ul></li><li><span><a href=\"#Selecting-columns-from-a-data-frame-in-pandas\" data-toc-modified-id=\"Selecting-columns-from-a-data-frame-in-pandas-2.2\"><span class=\"toc-item-num\">2.2&nbsp;&nbsp;</span>Selecting columns from a data frame in pandas</a></span></li><li><span><a href=\"#Selecting-rows-from-a-data-frame-in-pandas\" data-toc-modified-id=\"Selecting-rows-from-a-data-frame-in-pandas-2.3\"><span class=\"toc-item-num\">2.3&nbsp;&nbsp;</span>Selecting rows from a data frame in pandas</a></span></li><li><span><a href=\"#Queries\" data-toc-modified-id=\"Queries-2.4\"><span class=\"toc-item-num\">2.4&nbsp;&nbsp;</span>Queries</a></span><ul class=\"toc-item\"><li><span><a href=\"#More-than-one-logical-condition\" data-toc-modified-id=\"More-than-one-logical-condition-2.4.1\"><span class=\"toc-item-num\">2.4.1&nbsp;&nbsp;</span>More than one logical condition</a></span></li><li><span><a href=\"#Calculate-on-part-of-a-data-frame\" data-toc-modified-id=\"Calculate-on-part-of-a-data-frame-2.4.2\"><span class=\"toc-item-num\">2.4.2&nbsp;&nbsp;</span>Calculate on part of a data frame</a></span></li></ul></li></ul></li><li><span><a href=\"#Time-Series.-Resample.\" data-toc-modified-id=\"Time-Series.-Resample.-3\"><span class=\"toc-item-num\">3&nbsp;&nbsp;</span>Time Series. Resample.</a></span><ul class=\"toc-item\"><li><ul class=\"toc-item\"><li><span><a href=\"#Resample\" data-toc-modified-id=\"Resample-3.0.1\"><span class=\"toc-item-num\">3.0.1&nbsp;&nbsp;</span>Resample</a></span></li></ul></li></ul></li><li><span><a href=\"#Exercises\" data-toc-modified-id=\"Exercises-4\"><span class=\"toc-item-num\">4&nbsp;&nbsp;</span>Exercises</a></span><ul class=\"toc-item\"><li><span><a href=\"#Lettuce-freshweight\" data-toc-modified-id=\"Lettuce-freshweight-4.1\"><span class=\"toc-item-num\">4.1&nbsp;&nbsp;</span>Lettuce freshweight</a></span></li><li><span><a href=\"#Elements-(fertilizers)-in-tanks\" data-toc-modified-id=\"Elements-(fertilizers)-in-tanks-4.2\"><span class=\"toc-item-num\">4.2&nbsp;&nbsp;</span>Elements (fertilizers) in tanks</a></span></li></ul></li><li><span><a href=\"#Links\" data-toc-modified-id=\"Links-5\"><span class=\"toc-item-num\">5&nbsp;&nbsp;</span>Links</a></span></li></ul></div>"
   ]
  },
  {
   "cell_type": "markdown",
   "metadata": {
    "slideshow": {
     "slide_type": "slide"
    }
   },
   "source": [
    "# pandas"
   ]
  },
  {
   "cell_type": "markdown",
   "metadata": {
    "slideshow": {
     "slide_type": "slide"
    }
   },
   "source": [
    "## Introduction. Data Frames. CSV and Excel files. Average, max, min, etc."
   ]
  },
  {
   "cell_type": "markdown",
   "metadata": {
    "slideshow": {
     "slide_type": "subslide"
    }
   },
   "source": [
    "___pandas___ is a python library with functions and tools for data analysis. \n",
    "\n",
    "It provides means to handle series and tables of data, make calculations with them, select data based on criteria and save the results to files."
   ]
  },
  {
   "cell_type": "markdown",
   "metadata": {
    "slideshow": {
     "slide_type": "fragment"
    }
   },
   "source": [
    "A simple example of pandas usage is reading a table of data from an excel or csv file, select some rows and columns and calculate the average value.\n",
    "\n",
    "More complicated examples include creating new tables based on the previous data, and also working with time. An example would be to calculate the daily (or hourly, monthly) average (or sum, or maximum value) of a value from of a high number of measurements, perhaps each minute or 5 minutes."
   ]
  },
  {
   "cell_type": "markdown",
   "metadata": {
    "slideshow": {
     "slide_type": "subslide"
    }
   },
   "source": [
    "The following examples refer to measurements on different nutrients in an experiment with lettuce. They will help us to practice the `pandas` usage.\n",
    "\n",
    "There are three different treatments, with different amounts of nitrogen as nitrate and ammonium, as well as the amount of other elements. The measurements are what was present in the lettuce at the end of the cultivation cycle. This is the kind of data that we often need to group by categories, and where we might want to calculate averages or sums for each group."
   ]
  },
  {
   "cell_type": "markdown",
   "metadata": {
    "slideshow": {
     "slide_type": "fragment"
    }
   },
   "source": [
    "Later, in the last part of this session we will use climate data to give an example of the use of ___time series___, which is data that is not in categories or groups, but rather in points ordered in time, events that happen one after the other."
   ]
  },
  {
   "cell_type": "markdown",
   "metadata": {
    "slideshow": {
     "slide_type": "subslide"
    }
   },
   "source": [
    "#### Import the pandas library"
   ]
  },
  {
   "cell_type": "markdown",
   "metadata": {
    "slideshow": {
     "slide_type": "subslide"
    }
   },
   "source": [
    "It is a common practice to import pandas using the alias ___pd___, like this:"
   ]
  },
  {
   "cell_type": "code",
   "execution_count": 1,
   "metadata": {
    "ExecuteTime": {
     "end_time": "2021-11-25T12:42:28.254878Z",
     "start_time": "2021-11-25T12:42:27.804070Z"
    },
    "slideshow": {
     "slide_type": "fragment"
    }
   },
   "outputs": [],
   "source": [
    "import pandas as pd"
   ]
  },
  {
   "cell_type": "markdown",
   "metadata": {
    "slideshow": {
     "slide_type": "fragment"
    }
   },
   "source": [
    "From there, the package can be used with `pd.` + the name of the function (dot operator `.`)\n",
    "\n",
    "For example, to access a `read_csv` function we can write `pd.read_csv`."
   ]
  },
  {
   "cell_type": "markdown",
   "metadata": {
    "slideshow": {
     "slide_type": "fragment"
    }
   },
   "source": [
    "Of course it is possible to just `import pandas` and then use `pandas.read_csv`, it makes no difference."
   ]
  },
  {
   "cell_type": "markdown",
   "metadata": {
    "slideshow": {
     "slide_type": "subslide"
    }
   },
   "source": [
    "#### Read a table from a file"
   ]
  },
  {
   "cell_type": "markdown",
   "metadata": {
    "slideshow": {
     "slide_type": "fragment"
    }
   },
   "source": [
    "We will show how to import data from two common file types: ___comma-separated values___ and ___excel___ files."
   ]
  },
  {
   "cell_type": "markdown",
   "metadata": {
    "slideshow": {
     "slide_type": "subslide"
    }
   },
   "source": [
    "#### Reading a csv-file"
   ]
  },
  {
   "cell_type": "markdown",
   "metadata": {
    "slideshow": {
     "slide_type": "fragment"
    }
   },
   "source": [
    "<img src='img/csv_file.png' width='700'>"
   ]
  },
  {
   "cell_type": "markdown",
   "metadata": {
    "slideshow": {
     "slide_type": "subslide"
    }
   },
   "source": [
    "csv files are raw-text files that separate columns in a table by using a previously defined character, most commonly a comma `,`"
   ]
  },
  {
   "cell_type": "markdown",
   "metadata": {
    "slideshow": {
     "slide_type": "fragment"
    }
   },
   "source": [
    "Note however, that other characters might be used. For example, Microsoft Excel uses a semicolon `;` when it saves a sheet as csv file!\n",
    "\n",
    "(like in the example shown)"
   ]
  },
  {
   "cell_type": "markdown",
   "metadata": {
    "slideshow": {
     "slide_type": "subslide"
    }
   },
   "source": [
    "We can read csv files using the `read_csv` function from pandas. The function's most important argument is the file name:"
   ]
  },
  {
   "cell_type": "code",
   "execution_count": 2,
   "metadata": {
    "ExecuteTime": {
     "end_time": "2021-11-25T12:42:28.260664Z",
     "start_time": "2021-11-25T12:42:28.256037Z"
    },
    "slideshow": {
     "slide_type": "fragment"
    }
   },
   "outputs": [],
   "source": [
    "df_nutrients = pd.read_csv( 'data/nutrients.csv', sep=';' )"
   ]
  },
  {
   "cell_type": "markdown",
   "metadata": {
    "slideshow": {
     "slide_type": "fragment"
    }
   },
   "source": [
    "Note that by default, the function looks for ___comma___ separated files `,`, which is not the case in the file shown (created with excel). \n",
    "\n",
    "Therefore it is necessary to use the parameter `sep=';'` to indicate that, in this case, the columns are separated by semicolon characters."
   ]
  },
  {
   "cell_type": "markdown",
   "metadata": {
    "slideshow": {
     "slide_type": "subslide"
    }
   },
   "source": [
    "The function `pd.read_csv` returns a ___Data Frame___, which is the most used data type for tables."
   ]
  },
  {
   "cell_type": "code",
   "execution_count": 3,
   "metadata": {
    "ExecuteTime": {
     "end_time": "2021-11-25T12:42:28.271068Z",
     "start_time": "2021-11-25T12:42:28.263498Z"
    },
    "slideshow": {
     "slide_type": "fragment"
    }
   },
   "outputs": [
    {
     "data": {
      "text/plain": [
       "pandas.core.frame.DataFrame"
      ]
     },
     "execution_count": 3,
     "metadata": {},
     "output_type": "execute_result"
    }
   ],
   "source": [
    "type( df_nutrients )"
   ]
  },
  {
   "cell_type": "markdown",
   "metadata": {
    "slideshow": {
     "slide_type": "subslide"
    }
   },
   "source": [
    "Inside the Data Frame that was created, `df_nutrients` in this example, we have the content of the file, in rows and columns:"
   ]
  },
  {
   "cell_type": "code",
   "execution_count": 4,
   "metadata": {
    "ExecuteTime": {
     "end_time": "2021-11-25T12:42:28.285492Z",
     "start_time": "2021-11-25T12:42:28.271808Z"
    },
    "slideshow": {
     "slide_type": "fragment"
    }
   },
   "outputs": [
    {
     "data": {
      "text/html": [
       "<div>\n",
       "<style scoped>\n",
       "    .dataframe tbody tr th:only-of-type {\n",
       "        vertical-align: middle;\n",
       "    }\n",
       "\n",
       "    .dataframe tbody tr th {\n",
       "        vertical-align: top;\n",
       "    }\n",
       "\n",
       "    .dataframe thead th {\n",
       "        text-align: right;\n",
       "    }\n",
       "</style>\n",
       "<table border=\"1\" class=\"dataframe\">\n",
       "  <thead>\n",
       "    <tr style=\"text-align: right;\">\n",
       "      <th></th>\n",
       "      <th>Tank</th>\n",
       "      <th>Treatment</th>\n",
       "      <th>NitrateN</th>\n",
       "      <th>AmmoniumN</th>\n",
       "      <th>TotalN</th>\n",
       "      <th>Phosphorus</th>\n",
       "      <th>Potassium</th>\n",
       "      <th>Magnesium</th>\n",
       "      <th>Calcium</th>\n",
       "      <th>Iron</th>\n",
       "      <th>Boron</th>\n",
       "      <th>all in (g)</th>\n",
       "    </tr>\n",
       "  </thead>\n",
       "  <tbody>\n",
       "    <tr>\n",
       "      <th>0</th>\n",
       "      <td>3</td>\n",
       "      <td>Control</td>\n",
       "      <td>18761.904841</td>\n",
       "      <td>10306.002208</td>\n",
       "      <td>29067.272500</td>\n",
       "      <td>12684.874373</td>\n",
       "      <td>42136.987241</td>\n",
       "      <td>1504.5355</td>\n",
       "      <td>22010.605</td>\n",
       "      <td>222.039645</td>\n",
       "      <td>23.661832</td>\n",
       "      <td>NaN</td>\n",
       "    </tr>\n",
       "    <tr>\n",
       "      <th>1</th>\n",
       "      <td>4</td>\n",
       "      <td>Control</td>\n",
       "      <td>21645.354288</td>\n",
       "      <td>12437.070289</td>\n",
       "      <td>34081.642850</td>\n",
       "      <td>11491.501873</td>\n",
       "      <td>44055.094673</td>\n",
       "      <td>1,635.42</td>\n",
       "      <td>18,548.59</td>\n",
       "      <td>278.240000</td>\n",
       "      <td>27.742095</td>\n",
       "      <td>NaN</td>\n",
       "    </tr>\n",
       "    <tr>\n",
       "      <th>2</th>\n",
       "      <td>8</td>\n",
       "      <td>Control</td>\n",
       "      <td>16838.258788</td>\n",
       "      <td>10632.168232</td>\n",
       "      <td>27469.952475</td>\n",
       "      <td>10355.950873</td>\n",
       "      <td>43390.354388</td>\n",
       "      <td>1,383.34</td>\n",
       "      <td>16,853.25</td>\n",
       "      <td>238.930000</td>\n",
       "      <td>19.138933</td>\n",
       "      <td>NaN</td>\n",
       "    </tr>\n",
       "    <tr>\n",
       "      <th>3</th>\n",
       "      <td>1</td>\n",
       "      <td>Au47</td>\n",
       "      <td>20802.809014</td>\n",
       "      <td>11967.706838</td>\n",
       "      <td>31895.044325</td>\n",
       "      <td>12630.322442</td>\n",
       "      <td>41029.996115</td>\n",
       "      <td>1439.81973474096</td>\n",
       "      <td>26337.7301089178</td>\n",
       "      <td>335.542442</td>\n",
       "      <td>28.949213</td>\n",
       "      <td>NaN</td>\n",
       "    </tr>\n",
       "    <tr>\n",
       "      <th>4</th>\n",
       "      <td>6</td>\n",
       "      <td>Au47</td>\n",
       "      <td>21772.696629</td>\n",
       "      <td>11997.356846</td>\n",
       "      <td>33770.053475</td>\n",
       "      <td>10672.216286</td>\n",
       "      <td>47175.575986</td>\n",
       "      <td>1467.01863862725</td>\n",
       "      <td>21585.5732755892</td>\n",
       "      <td>316.188490</td>\n",
       "      <td>29.377145</td>\n",
       "      <td>NaN</td>\n",
       "    </tr>\n",
       "    <tr>\n",
       "      <th>5</th>\n",
       "      <td>2</td>\n",
       "      <td>Au47</td>\n",
       "      <td>17620.295796</td>\n",
       "      <td>13936.716929</td>\n",
       "      <td>31557.012725</td>\n",
       "      <td>11265.672917</td>\n",
       "      <td>42896.950847</td>\n",
       "      <td>1502.48748702529</td>\n",
       "      <td>24398.428146034</td>\n",
       "      <td>257.110626</td>\n",
       "      <td>25.003664</td>\n",
       "      <td>NaN</td>\n",
       "    </tr>\n",
       "    <tr>\n",
       "      <th>6</th>\n",
       "      <td>7</td>\n",
       "      <td>Au53</td>\n",
       "      <td>20342.654221</td>\n",
       "      <td>13938.842429</td>\n",
       "      <td>34281.496650</td>\n",
       "      <td>9118.485757</td>\n",
       "      <td>47207.997883</td>\n",
       "      <td>1394.8993926275</td>\n",
       "      <td>19296.3288426945</td>\n",
       "      <td>285.840136</td>\n",
       "      <td>31.025050</td>\n",
       "      <td>NaN</td>\n",
       "    </tr>\n",
       "    <tr>\n",
       "      <th>7</th>\n",
       "      <td>5</td>\n",
       "      <td>Au53</td>\n",
       "      <td>21635.106571</td>\n",
       "      <td>15013.877702</td>\n",
       "      <td>36648.984274</td>\n",
       "      <td>6988.360757</td>\n",
       "      <td>46268.123502</td>\n",
       "      <td>1730.13032705656</td>\n",
       "      <td>15865.5454860459</td>\n",
       "      <td>265.159355</td>\n",
       "      <td>29.770982</td>\n",
       "      <td>NaN</td>\n",
       "    </tr>\n",
       "    <tr>\n",
       "      <th>8</th>\n",
       "      <td>9</td>\n",
       "      <td>Au53</td>\n",
       "      <td>22563.040451</td>\n",
       "      <td>12648.008949</td>\n",
       "      <td>35211.049400</td>\n",
       "      <td>10432.143429</td>\n",
       "      <td>40841.131830</td>\n",
       "      <td>1348.28810098257</td>\n",
       "      <td>22660.4840070055</td>\n",
       "      <td>301.044988</td>\n",
       "      <td>25.868277</td>\n",
       "      <td>NaN</td>\n",
       "    </tr>\n",
       "  </tbody>\n",
       "</table>\n",
       "</div>"
      ],
      "text/plain": [
       "   Tank Treatment      NitrateN     AmmoniumN        TotalN    Phosphorus  \\\n",
       "0     3   Control  18761.904841  10306.002208  29067.272500  12684.874373   \n",
       "1     4   Control  21645.354288  12437.070289  34081.642850  11491.501873   \n",
       "2     8   Control  16838.258788  10632.168232  27469.952475  10355.950873   \n",
       "3     1      Au47  20802.809014  11967.706838  31895.044325  12630.322442   \n",
       "4     6      Au47  21772.696629  11997.356846  33770.053475  10672.216286   \n",
       "5     2      Au47  17620.295796  13936.716929  31557.012725  11265.672917   \n",
       "6     7      Au53  20342.654221  13938.842429  34281.496650   9118.485757   \n",
       "7     5      Au53  21635.106571  15013.877702  36648.984274   6988.360757   \n",
       "8     9      Au53  22563.040451  12648.008949  35211.049400  10432.143429   \n",
       "\n",
       "      Potassium         Magnesium           Calcium        Iron      Boron  \\\n",
       "0  42136.987241         1504.5355         22010.605  222.039645  23.661832   \n",
       "1  44055.094673          1,635.42         18,548.59  278.240000  27.742095   \n",
       "2  43390.354388          1,383.34         16,853.25  238.930000  19.138933   \n",
       "3  41029.996115  1439.81973474096  26337.7301089178  335.542442  28.949213   \n",
       "4  47175.575986  1467.01863862725  21585.5732755892  316.188490  29.377145   \n",
       "5  42896.950847  1502.48748702529   24398.428146034  257.110626  25.003664   \n",
       "6  47207.997883   1394.8993926275  19296.3288426945  285.840136  31.025050   \n",
       "7  46268.123502  1730.13032705656  15865.5454860459  265.159355  29.770982   \n",
       "8  40841.131830  1348.28810098257  22660.4840070055  301.044988  25.868277   \n",
       "\n",
       "   all in (g)  \n",
       "0         NaN  \n",
       "1         NaN  \n",
       "2         NaN  \n",
       "3         NaN  \n",
       "4         NaN  \n",
       "5         NaN  \n",
       "6         NaN  \n",
       "7         NaN  \n",
       "8         NaN  "
      ]
     },
     "execution_count": 4,
     "metadata": {},
     "output_type": "execute_result"
    }
   ],
   "source": [
    "df_nutrients"
   ]
  },
  {
   "cell_type": "markdown",
   "metadata": {
    "slideshow": {
     "slide_type": "subslide"
    }
   },
   "source": [
    "Note that pandas:\n",
    "* tries to use the data in the first row as column names (in this case this is correct)\n",
    "* adds a column at the beginning, with numbers: that is the ___index___ of all rows\n",
    "* infers the data type of each column: text, numbers... (this fails if there are mixed types)\n",
    "* adds a value of __NaN__ (not-a-number) to empty cells"
   ]
  },
  {
   "cell_type": "markdown",
   "metadata": {
    "slideshow": {
     "slide_type": "subslide"
    }
   },
   "source": [
    "#### Reading an xlsx-file from Microsoft Excel"
   ]
  },
  {
   "cell_type": "markdown",
   "metadata": {
    "slideshow": {
     "slide_type": "subslide"
    }
   },
   "source": [
    "Microsoft Excel is a widespread software for working with data tables, therefore it is very useful to import this kind of files into pandas.\n",
    "\n",
    "The main difference from csv files to take into account is that excel files can contain several different sheets, and we need to specify which one we want to read to a single table, to a single pandas Data Frame object."
   ]
  },
  {
   "cell_type": "markdown",
   "metadata": {
    "slideshow": {
     "slide_type": "fragment"
    }
   },
   "source": [
    "<img src='img/excel_file.png' width='700'>"
   ]
  },
  {
   "cell_type": "markdown",
   "metadata": {
    "slideshow": {
     "slide_type": "subslide"
    }
   },
   "source": [
    "We will import the sheet \"Nutrients\", which has the same values that we had previously from the csv file."
   ]
  },
  {
   "cell_type": "code",
   "execution_count": 5,
   "metadata": {
    "ExecuteTime": {
     "end_time": "2021-11-25T12:42:28.429852Z",
     "start_time": "2021-11-25T12:42:28.286303Z"
    },
    "slideshow": {
     "slide_type": "fragment"
    }
   },
   "outputs": [],
   "source": [
    "# df_nutrients = pd.read_csv( 'data/nutrients.csv', ';' ) → how we read a csv file previously\n",
    "\n",
    "df_nutrients_xlsx = pd.read_excel( 'data/lettuce.xlsx', sheet_name='Nutrients' )"
   ]
  },
  {
   "cell_type": "code",
   "execution_count": 6,
   "metadata": {
    "ExecuteTime": {
     "end_time": "2021-11-25T12:42:28.440112Z",
     "start_time": "2021-11-25T12:42:28.430699Z"
    },
    "slideshow": {
     "slide_type": "subslide"
    }
   },
   "outputs": [
    {
     "data": {
      "text/html": [
       "<div>\n",
       "<style scoped>\n",
       "    .dataframe tbody tr th:only-of-type {\n",
       "        vertical-align: middle;\n",
       "    }\n",
       "\n",
       "    .dataframe tbody tr th {\n",
       "        vertical-align: top;\n",
       "    }\n",
       "\n",
       "    .dataframe thead th {\n",
       "        text-align: right;\n",
       "    }\n",
       "</style>\n",
       "<table border=\"1\" class=\"dataframe\">\n",
       "  <thead>\n",
       "    <tr style=\"text-align: right;\">\n",
       "      <th></th>\n",
       "      <th>Tank</th>\n",
       "      <th>Treatment</th>\n",
       "      <th>NitrateN</th>\n",
       "      <th>AmmoniumN</th>\n",
       "      <th>TotalN</th>\n",
       "      <th>Phosphorus</th>\n",
       "      <th>Potassium</th>\n",
       "      <th>Magnesium</th>\n",
       "      <th>Calcium</th>\n",
       "      <th>Iron</th>\n",
       "      <th>Boron</th>\n",
       "      <th>all in (g)</th>\n",
       "    </tr>\n",
       "  </thead>\n",
       "  <tbody>\n",
       "    <tr>\n",
       "      <th>0</th>\n",
       "      <td>3</td>\n",
       "      <td>Control</td>\n",
       "      <td>18761.904841</td>\n",
       "      <td>10306.002208</td>\n",
       "      <td>29067.272500</td>\n",
       "      <td>12684.874373</td>\n",
       "      <td>42136.987241</td>\n",
       "      <td>1504.535500</td>\n",
       "      <td>22010.605000</td>\n",
       "      <td>222.039645</td>\n",
       "      <td>23.661832</td>\n",
       "      <td>NaN</td>\n",
       "    </tr>\n",
       "    <tr>\n",
       "      <th>1</th>\n",
       "      <td>4</td>\n",
       "      <td>Control</td>\n",
       "      <td>21645.354288</td>\n",
       "      <td>12437.070289</td>\n",
       "      <td>34081.642850</td>\n",
       "      <td>11491.501873</td>\n",
       "      <td>44055.094673</td>\n",
       "      <td>1635.416000</td>\n",
       "      <td>18548.592500</td>\n",
       "      <td>278.241845</td>\n",
       "      <td>27.742095</td>\n",
       "      <td>NaN</td>\n",
       "    </tr>\n",
       "    <tr>\n",
       "      <th>2</th>\n",
       "      <td>8</td>\n",
       "      <td>Control</td>\n",
       "      <td>16838.258788</td>\n",
       "      <td>10632.168232</td>\n",
       "      <td>27469.952475</td>\n",
       "      <td>10355.950873</td>\n",
       "      <td>43390.354388</td>\n",
       "      <td>1383.341750</td>\n",
       "      <td>16853.247500</td>\n",
       "      <td>238.926895</td>\n",
       "      <td>19.138933</td>\n",
       "      <td>NaN</td>\n",
       "    </tr>\n",
       "    <tr>\n",
       "      <th>3</th>\n",
       "      <td>1</td>\n",
       "      <td>Au47</td>\n",
       "      <td>20802.809014</td>\n",
       "      <td>11967.706838</td>\n",
       "      <td>31895.044325</td>\n",
       "      <td>12630.322442</td>\n",
       "      <td>41029.996115</td>\n",
       "      <td>1439.819735</td>\n",
       "      <td>26337.730109</td>\n",
       "      <td>335.542442</td>\n",
       "      <td>28.949213</td>\n",
       "      <td>NaN</td>\n",
       "    </tr>\n",
       "    <tr>\n",
       "      <th>4</th>\n",
       "      <td>6</td>\n",
       "      <td>Au47</td>\n",
       "      <td>21772.696629</td>\n",
       "      <td>11997.356846</td>\n",
       "      <td>33770.053475</td>\n",
       "      <td>10672.216286</td>\n",
       "      <td>47175.575986</td>\n",
       "      <td>1467.018639</td>\n",
       "      <td>21585.573276</td>\n",
       "      <td>316.188490</td>\n",
       "      <td>29.377145</td>\n",
       "      <td>NaN</td>\n",
       "    </tr>\n",
       "    <tr>\n",
       "      <th>5</th>\n",
       "      <td>2</td>\n",
       "      <td>Au47</td>\n",
       "      <td>17620.295796</td>\n",
       "      <td>13936.716929</td>\n",
       "      <td>31557.012725</td>\n",
       "      <td>11265.672917</td>\n",
       "      <td>42896.950847</td>\n",
       "      <td>1502.487487</td>\n",
       "      <td>24398.428146</td>\n",
       "      <td>257.110626</td>\n",
       "      <td>25.003664</td>\n",
       "      <td>NaN</td>\n",
       "    </tr>\n",
       "    <tr>\n",
       "      <th>6</th>\n",
       "      <td>7</td>\n",
       "      <td>Au53</td>\n",
       "      <td>20342.654221</td>\n",
       "      <td>13938.842429</td>\n",
       "      <td>34281.496650</td>\n",
       "      <td>9118.485757</td>\n",
       "      <td>47207.997883</td>\n",
       "      <td>1394.899393</td>\n",
       "      <td>19296.328843</td>\n",
       "      <td>285.840136</td>\n",
       "      <td>31.025050</td>\n",
       "      <td>NaN</td>\n",
       "    </tr>\n",
       "    <tr>\n",
       "      <th>7</th>\n",
       "      <td>5</td>\n",
       "      <td>Au53</td>\n",
       "      <td>21635.106571</td>\n",
       "      <td>15013.877702</td>\n",
       "      <td>36648.984274</td>\n",
       "      <td>6988.360757</td>\n",
       "      <td>46268.123502</td>\n",
       "      <td>1730.130327</td>\n",
       "      <td>15865.545486</td>\n",
       "      <td>265.159355</td>\n",
       "      <td>29.770982</td>\n",
       "      <td>NaN</td>\n",
       "    </tr>\n",
       "    <tr>\n",
       "      <th>8</th>\n",
       "      <td>9</td>\n",
       "      <td>Au53</td>\n",
       "      <td>22563.040451</td>\n",
       "      <td>12648.008949</td>\n",
       "      <td>35211.049400</td>\n",
       "      <td>10432.143429</td>\n",
       "      <td>40841.131830</td>\n",
       "      <td>1348.288101</td>\n",
       "      <td>22660.484007</td>\n",
       "      <td>301.044988</td>\n",
       "      <td>25.868277</td>\n",
       "      <td>NaN</td>\n",
       "    </tr>\n",
       "  </tbody>\n",
       "</table>\n",
       "</div>"
      ],
      "text/plain": [
       "   Tank Treatment      NitrateN     AmmoniumN        TotalN    Phosphorus  \\\n",
       "0     3   Control  18761.904841  10306.002208  29067.272500  12684.874373   \n",
       "1     4   Control  21645.354288  12437.070289  34081.642850  11491.501873   \n",
       "2     8   Control  16838.258788  10632.168232  27469.952475  10355.950873   \n",
       "3     1      Au47  20802.809014  11967.706838  31895.044325  12630.322442   \n",
       "4     6      Au47  21772.696629  11997.356846  33770.053475  10672.216286   \n",
       "5     2      Au47  17620.295796  13936.716929  31557.012725  11265.672917   \n",
       "6     7      Au53  20342.654221  13938.842429  34281.496650   9118.485757   \n",
       "7     5      Au53  21635.106571  15013.877702  36648.984274   6988.360757   \n",
       "8     9      Au53  22563.040451  12648.008949  35211.049400  10432.143429   \n",
       "\n",
       "      Potassium    Magnesium       Calcium        Iron      Boron  all in (g)  \n",
       "0  42136.987241  1504.535500  22010.605000  222.039645  23.661832         NaN  \n",
       "1  44055.094673  1635.416000  18548.592500  278.241845  27.742095         NaN  \n",
       "2  43390.354388  1383.341750  16853.247500  238.926895  19.138933         NaN  \n",
       "3  41029.996115  1439.819735  26337.730109  335.542442  28.949213         NaN  \n",
       "4  47175.575986  1467.018639  21585.573276  316.188490  29.377145         NaN  \n",
       "5  42896.950847  1502.487487  24398.428146  257.110626  25.003664         NaN  \n",
       "6  47207.997883  1394.899393  19296.328843  285.840136  31.025050         NaN  \n",
       "7  46268.123502  1730.130327  15865.545486  265.159355  29.770982         NaN  \n",
       "8  40841.131830  1348.288101  22660.484007  301.044988  25.868277         NaN  "
      ]
     },
     "execution_count": 6,
     "metadata": {},
     "output_type": "execute_result"
    }
   ],
   "source": [
    "df_nutrients_xlsx"
   ]
  },
  {
   "cell_type": "markdown",
   "metadata": {
    "slideshow": {
     "slide_type": "subslide"
    }
   },
   "source": [
    "#### Having a look at a DataFrame"
   ]
  },
  {
   "cell_type": "markdown",
   "metadata": {
    "slideshow": {
     "slide_type": "fragment"
    }
   },
   "source": [
    "There are a number of functions that can be used directly on a DataFrame and that help to have information from the data inside. \n",
    "\n",
    "We will show some of the most common in the next cells. "
   ]
  },
  {
   "cell_type": "markdown",
   "metadata": {
    "slideshow": {
     "slide_type": "subslide"
    }
   },
   "source": [
    "#### Head and tail"
   ]
  },
  {
   "cell_type": "markdown",
   "metadata": {
    "slideshow": {
     "slide_type": "fragment"
    }
   },
   "source": [
    "`.head()` shows the first rows in the table, while `.tail()` shows the last ones."
   ]
  },
  {
   "cell_type": "code",
   "execution_count": 7,
   "metadata": {
    "ExecuteTime": {
     "end_time": "2021-11-25T12:42:28.452931Z",
     "start_time": "2021-11-25T12:42:28.441215Z"
    },
    "slideshow": {
     "slide_type": "fragment"
    }
   },
   "outputs": [
    {
     "data": {
      "text/html": [
       "<div>\n",
       "<style scoped>\n",
       "    .dataframe tbody tr th:only-of-type {\n",
       "        vertical-align: middle;\n",
       "    }\n",
       "\n",
       "    .dataframe tbody tr th {\n",
       "        vertical-align: top;\n",
       "    }\n",
       "\n",
       "    .dataframe thead th {\n",
       "        text-align: right;\n",
       "    }\n",
       "</style>\n",
       "<table border=\"1\" class=\"dataframe\">\n",
       "  <thead>\n",
       "    <tr style=\"text-align: right;\">\n",
       "      <th></th>\n",
       "      <th>Tank</th>\n",
       "      <th>Treatment</th>\n",
       "      <th>NitrateN</th>\n",
       "      <th>AmmoniumN</th>\n",
       "      <th>TotalN</th>\n",
       "      <th>Phosphorus</th>\n",
       "      <th>Potassium</th>\n",
       "      <th>Magnesium</th>\n",
       "      <th>Calcium</th>\n",
       "      <th>Iron</th>\n",
       "      <th>Boron</th>\n",
       "      <th>all in (g)</th>\n",
       "    </tr>\n",
       "  </thead>\n",
       "  <tbody>\n",
       "    <tr>\n",
       "      <th>0</th>\n",
       "      <td>3</td>\n",
       "      <td>Control</td>\n",
       "      <td>18761.904841</td>\n",
       "      <td>10306.002208</td>\n",
       "      <td>29067.272500</td>\n",
       "      <td>12684.874373</td>\n",
       "      <td>42136.987241</td>\n",
       "      <td>1504.5355</td>\n",
       "      <td>22010.605</td>\n",
       "      <td>222.039645</td>\n",
       "      <td>23.661832</td>\n",
       "      <td>NaN</td>\n",
       "    </tr>\n",
       "    <tr>\n",
       "      <th>1</th>\n",
       "      <td>4</td>\n",
       "      <td>Control</td>\n",
       "      <td>21645.354288</td>\n",
       "      <td>12437.070289</td>\n",
       "      <td>34081.642850</td>\n",
       "      <td>11491.501873</td>\n",
       "      <td>44055.094673</td>\n",
       "      <td>1,635.42</td>\n",
       "      <td>18,548.59</td>\n",
       "      <td>278.240000</td>\n",
       "      <td>27.742095</td>\n",
       "      <td>NaN</td>\n",
       "    </tr>\n",
       "    <tr>\n",
       "      <th>2</th>\n",
       "      <td>8</td>\n",
       "      <td>Control</td>\n",
       "      <td>16838.258788</td>\n",
       "      <td>10632.168232</td>\n",
       "      <td>27469.952475</td>\n",
       "      <td>10355.950873</td>\n",
       "      <td>43390.354388</td>\n",
       "      <td>1,383.34</td>\n",
       "      <td>16,853.25</td>\n",
       "      <td>238.930000</td>\n",
       "      <td>19.138933</td>\n",
       "      <td>NaN</td>\n",
       "    </tr>\n",
       "    <tr>\n",
       "      <th>3</th>\n",
       "      <td>1</td>\n",
       "      <td>Au47</td>\n",
       "      <td>20802.809014</td>\n",
       "      <td>11967.706838</td>\n",
       "      <td>31895.044325</td>\n",
       "      <td>12630.322442</td>\n",
       "      <td>41029.996115</td>\n",
       "      <td>1439.81973474096</td>\n",
       "      <td>26337.7301089178</td>\n",
       "      <td>335.542442</td>\n",
       "      <td>28.949213</td>\n",
       "      <td>NaN</td>\n",
       "    </tr>\n",
       "    <tr>\n",
       "      <th>4</th>\n",
       "      <td>6</td>\n",
       "      <td>Au47</td>\n",
       "      <td>21772.696629</td>\n",
       "      <td>11997.356846</td>\n",
       "      <td>33770.053475</td>\n",
       "      <td>10672.216286</td>\n",
       "      <td>47175.575986</td>\n",
       "      <td>1467.01863862725</td>\n",
       "      <td>21585.5732755892</td>\n",
       "      <td>316.188490</td>\n",
       "      <td>29.377145</td>\n",
       "      <td>NaN</td>\n",
       "    </tr>\n",
       "  </tbody>\n",
       "</table>\n",
       "</div>"
      ],
      "text/plain": [
       "   Tank Treatment      NitrateN     AmmoniumN        TotalN    Phosphorus  \\\n",
       "0     3   Control  18761.904841  10306.002208  29067.272500  12684.874373   \n",
       "1     4   Control  21645.354288  12437.070289  34081.642850  11491.501873   \n",
       "2     8   Control  16838.258788  10632.168232  27469.952475  10355.950873   \n",
       "3     1      Au47  20802.809014  11967.706838  31895.044325  12630.322442   \n",
       "4     6      Au47  21772.696629  11997.356846  33770.053475  10672.216286   \n",
       "\n",
       "      Potassium         Magnesium           Calcium        Iron      Boron  \\\n",
       "0  42136.987241         1504.5355         22010.605  222.039645  23.661832   \n",
       "1  44055.094673          1,635.42         18,548.59  278.240000  27.742095   \n",
       "2  43390.354388          1,383.34         16,853.25  238.930000  19.138933   \n",
       "3  41029.996115  1439.81973474096  26337.7301089178  335.542442  28.949213   \n",
       "4  47175.575986  1467.01863862725  21585.5732755892  316.188490  29.377145   \n",
       "\n",
       "   all in (g)  \n",
       "0         NaN  \n",
       "1         NaN  \n",
       "2         NaN  \n",
       "3         NaN  \n",
       "4         NaN  "
      ]
     },
     "execution_count": 7,
     "metadata": {},
     "output_type": "execute_result"
    }
   ],
   "source": [
    "df_nutrients.head()"
   ]
  },
  {
   "cell_type": "code",
   "execution_count": 8,
   "metadata": {
    "ExecuteTime": {
     "end_time": "2021-11-25T12:42:28.465540Z",
     "start_time": "2021-11-25T12:42:28.454010Z"
    },
    "slideshow": {
     "slide_type": "subslide"
    }
   },
   "outputs": [
    {
     "data": {
      "text/html": [
       "<div>\n",
       "<style scoped>\n",
       "    .dataframe tbody tr th:only-of-type {\n",
       "        vertical-align: middle;\n",
       "    }\n",
       "\n",
       "    .dataframe tbody tr th {\n",
       "        vertical-align: top;\n",
       "    }\n",
       "\n",
       "    .dataframe thead th {\n",
       "        text-align: right;\n",
       "    }\n",
       "</style>\n",
       "<table border=\"1\" class=\"dataframe\">\n",
       "  <thead>\n",
       "    <tr style=\"text-align: right;\">\n",
       "      <th></th>\n",
       "      <th>Tank</th>\n",
       "      <th>Treatment</th>\n",
       "      <th>NitrateN</th>\n",
       "      <th>AmmoniumN</th>\n",
       "      <th>TotalN</th>\n",
       "      <th>Phosphorus</th>\n",
       "      <th>Potassium</th>\n",
       "      <th>Magnesium</th>\n",
       "      <th>Calcium</th>\n",
       "      <th>Iron</th>\n",
       "      <th>Boron</th>\n",
       "      <th>all in (g)</th>\n",
       "    </tr>\n",
       "  </thead>\n",
       "  <tbody>\n",
       "    <tr>\n",
       "      <th>4</th>\n",
       "      <td>6</td>\n",
       "      <td>Au47</td>\n",
       "      <td>21772.696629</td>\n",
       "      <td>11997.356846</td>\n",
       "      <td>33770.053475</td>\n",
       "      <td>10672.216286</td>\n",
       "      <td>47175.575986</td>\n",
       "      <td>1467.01863862725</td>\n",
       "      <td>21585.5732755892</td>\n",
       "      <td>316.188490</td>\n",
       "      <td>29.377145</td>\n",
       "      <td>NaN</td>\n",
       "    </tr>\n",
       "    <tr>\n",
       "      <th>5</th>\n",
       "      <td>2</td>\n",
       "      <td>Au47</td>\n",
       "      <td>17620.295796</td>\n",
       "      <td>13936.716929</td>\n",
       "      <td>31557.012725</td>\n",
       "      <td>11265.672917</td>\n",
       "      <td>42896.950847</td>\n",
       "      <td>1502.48748702529</td>\n",
       "      <td>24398.428146034</td>\n",
       "      <td>257.110626</td>\n",
       "      <td>25.003664</td>\n",
       "      <td>NaN</td>\n",
       "    </tr>\n",
       "    <tr>\n",
       "      <th>6</th>\n",
       "      <td>7</td>\n",
       "      <td>Au53</td>\n",
       "      <td>20342.654221</td>\n",
       "      <td>13938.842429</td>\n",
       "      <td>34281.496650</td>\n",
       "      <td>9118.485757</td>\n",
       "      <td>47207.997883</td>\n",
       "      <td>1394.8993926275</td>\n",
       "      <td>19296.3288426945</td>\n",
       "      <td>285.840136</td>\n",
       "      <td>31.025050</td>\n",
       "      <td>NaN</td>\n",
       "    </tr>\n",
       "    <tr>\n",
       "      <th>7</th>\n",
       "      <td>5</td>\n",
       "      <td>Au53</td>\n",
       "      <td>21635.106571</td>\n",
       "      <td>15013.877702</td>\n",
       "      <td>36648.984274</td>\n",
       "      <td>6988.360757</td>\n",
       "      <td>46268.123502</td>\n",
       "      <td>1730.13032705656</td>\n",
       "      <td>15865.5454860459</td>\n",
       "      <td>265.159355</td>\n",
       "      <td>29.770982</td>\n",
       "      <td>NaN</td>\n",
       "    </tr>\n",
       "    <tr>\n",
       "      <th>8</th>\n",
       "      <td>9</td>\n",
       "      <td>Au53</td>\n",
       "      <td>22563.040451</td>\n",
       "      <td>12648.008949</td>\n",
       "      <td>35211.049400</td>\n",
       "      <td>10432.143429</td>\n",
       "      <td>40841.131830</td>\n",
       "      <td>1348.28810098257</td>\n",
       "      <td>22660.4840070055</td>\n",
       "      <td>301.044988</td>\n",
       "      <td>25.868277</td>\n",
       "      <td>NaN</td>\n",
       "    </tr>\n",
       "  </tbody>\n",
       "</table>\n",
       "</div>"
      ],
      "text/plain": [
       "   Tank Treatment      NitrateN     AmmoniumN        TotalN    Phosphorus  \\\n",
       "4     6      Au47  21772.696629  11997.356846  33770.053475  10672.216286   \n",
       "5     2      Au47  17620.295796  13936.716929  31557.012725  11265.672917   \n",
       "6     7      Au53  20342.654221  13938.842429  34281.496650   9118.485757   \n",
       "7     5      Au53  21635.106571  15013.877702  36648.984274   6988.360757   \n",
       "8     9      Au53  22563.040451  12648.008949  35211.049400  10432.143429   \n",
       "\n",
       "      Potassium         Magnesium           Calcium        Iron      Boron  \\\n",
       "4  47175.575986  1467.01863862725  21585.5732755892  316.188490  29.377145   \n",
       "5  42896.950847  1502.48748702529   24398.428146034  257.110626  25.003664   \n",
       "6  47207.997883   1394.8993926275  19296.3288426945  285.840136  31.025050   \n",
       "7  46268.123502  1730.13032705656  15865.5454860459  265.159355  29.770982   \n",
       "8  40841.131830  1348.28810098257  22660.4840070055  301.044988  25.868277   \n",
       "\n",
       "   all in (g)  \n",
       "4         NaN  \n",
       "5         NaN  \n",
       "6         NaN  \n",
       "7         NaN  \n",
       "8         NaN  "
      ]
     },
     "execution_count": 8,
     "metadata": {},
     "output_type": "execute_result"
    }
   ],
   "source": [
    "df_nutrients.tail()"
   ]
  },
  {
   "cell_type": "markdown",
   "metadata": {
    "slideshow": {
     "slide_type": "subslide"
    }
   },
   "source": [
    "By default, they show 5 rows, but a number can be passed as parameter:"
   ]
  },
  {
   "cell_type": "code",
   "execution_count": 9,
   "metadata": {
    "ExecuteTime": {
     "end_time": "2021-11-25T12:42:28.477785Z",
     "start_time": "2021-11-25T12:42:28.467192Z"
    },
    "slideshow": {
     "slide_type": "fragment"
    }
   },
   "outputs": [
    {
     "data": {
      "text/html": [
       "<div>\n",
       "<style scoped>\n",
       "    .dataframe tbody tr th:only-of-type {\n",
       "        vertical-align: middle;\n",
       "    }\n",
       "\n",
       "    .dataframe tbody tr th {\n",
       "        vertical-align: top;\n",
       "    }\n",
       "\n",
       "    .dataframe thead th {\n",
       "        text-align: right;\n",
       "    }\n",
       "</style>\n",
       "<table border=\"1\" class=\"dataframe\">\n",
       "  <thead>\n",
       "    <tr style=\"text-align: right;\">\n",
       "      <th></th>\n",
       "      <th>Tank</th>\n",
       "      <th>Treatment</th>\n",
       "      <th>NitrateN</th>\n",
       "      <th>AmmoniumN</th>\n",
       "      <th>TotalN</th>\n",
       "      <th>Phosphorus</th>\n",
       "      <th>Potassium</th>\n",
       "      <th>Magnesium</th>\n",
       "      <th>Calcium</th>\n",
       "      <th>Iron</th>\n",
       "      <th>Boron</th>\n",
       "      <th>all in (g)</th>\n",
       "    </tr>\n",
       "  </thead>\n",
       "  <tbody>\n",
       "    <tr>\n",
       "      <th>0</th>\n",
       "      <td>3</td>\n",
       "      <td>Control</td>\n",
       "      <td>18761.904841</td>\n",
       "      <td>10306.002208</td>\n",
       "      <td>29067.27250</td>\n",
       "      <td>12684.874373</td>\n",
       "      <td>42136.987241</td>\n",
       "      <td>1504.5355</td>\n",
       "      <td>22010.605</td>\n",
       "      <td>222.039645</td>\n",
       "      <td>23.661832</td>\n",
       "      <td>NaN</td>\n",
       "    </tr>\n",
       "    <tr>\n",
       "      <th>1</th>\n",
       "      <td>4</td>\n",
       "      <td>Control</td>\n",
       "      <td>21645.354288</td>\n",
       "      <td>12437.070289</td>\n",
       "      <td>34081.64285</td>\n",
       "      <td>11491.501873</td>\n",
       "      <td>44055.094673</td>\n",
       "      <td>1,635.42</td>\n",
       "      <td>18,548.59</td>\n",
       "      <td>278.240000</td>\n",
       "      <td>27.742095</td>\n",
       "      <td>NaN</td>\n",
       "    </tr>\n",
       "  </tbody>\n",
       "</table>\n",
       "</div>"
      ],
      "text/plain": [
       "   Tank Treatment      NitrateN     AmmoniumN       TotalN    Phosphorus  \\\n",
       "0     3   Control  18761.904841  10306.002208  29067.27250  12684.874373   \n",
       "1     4   Control  21645.354288  12437.070289  34081.64285  11491.501873   \n",
       "\n",
       "      Potassium  Magnesium    Calcium        Iron      Boron  all in (g)  \n",
       "0  42136.987241  1504.5355  22010.605  222.039645  23.661832         NaN  \n",
       "1  44055.094673   1,635.42  18,548.59  278.240000  27.742095         NaN  "
      ]
     },
     "execution_count": 9,
     "metadata": {},
     "output_type": "execute_result"
    }
   ],
   "source": [
    "df_nutrients.head( 2 )"
   ]
  },
  {
   "cell_type": "markdown",
   "metadata": {
    "slideshow": {
     "slide_type": "subslide"
    }
   },
   "source": [
    "#### Shape"
   ]
  },
  {
   "cell_type": "markdown",
   "metadata": {
    "slideshow": {
     "slide_type": "fragment"
    }
   },
   "source": [
    "`.shape` prints the number of rows and columns in the table, very useful to check that the data was imported correctly."
   ]
  },
  {
   "cell_type": "code",
   "execution_count": 10,
   "metadata": {
    "ExecuteTime": {
     "end_time": "2021-11-25T12:42:28.483672Z",
     "start_time": "2021-11-25T12:42:28.478680Z"
    },
    "slideshow": {
     "slide_type": "fragment"
    }
   },
   "outputs": [
    {
     "data": {
      "text/plain": [
       "(9, 12)"
      ]
     },
     "execution_count": 10,
     "metadata": {},
     "output_type": "execute_result"
    }
   ],
   "source": [
    "df_nutrients.shape"
   ]
  },
  {
   "cell_type": "markdown",
   "metadata": {
    "slideshow": {
     "slide_type": "subslide"
    }
   },
   "source": [
    "#### Columns"
   ]
  },
  {
   "cell_type": "markdown",
   "metadata": {
    "slideshow": {
     "slide_type": "fragment"
    }
   },
   "source": [
    "`.columns` gives the names of the columns in the table"
   ]
  },
  {
   "cell_type": "code",
   "execution_count": 11,
   "metadata": {
    "ExecuteTime": {
     "end_time": "2021-11-25T12:42:28.490392Z",
     "start_time": "2021-11-25T12:42:28.484664Z"
    },
    "slideshow": {
     "slide_type": "fragment"
    }
   },
   "outputs": [
    {
     "data": {
      "text/plain": [
       "Index(['Tank', 'Treatment', 'NitrateN', 'AmmoniumN', 'TotalN', 'Phosphorus',\n",
       "       'Potassium', 'Magnesium', 'Calcium', 'Iron', 'Boron', 'all in (g)'],\n",
       "      dtype='object')"
      ]
     },
     "execution_count": 11,
     "metadata": {},
     "output_type": "execute_result"
    }
   ],
   "source": [
    "df_nutrients.columns"
   ]
  },
  {
   "cell_type": "markdown",
   "metadata": {
    "slideshow": {
     "slide_type": "subslide"
    }
   },
   "source": [
    "It can also be used to change the name of a column:"
   ]
  },
  {
   "cell_type": "code",
   "execution_count": 12,
   "metadata": {
    "ExecuteTime": {
     "end_time": "2021-11-25T12:42:28.496161Z",
     "start_time": "2021-11-25T12:42:28.491181Z"
    },
    "slideshow": {
     "slide_type": "fragment"
    }
   },
   "outputs": [],
   "source": [
    "df_nutrients.columns = [ 'Tank', 'Treatment', 'NitrateN', 'AmmoniumN', 'TotalN', 'Phosphorus',\n",
    "       'Potassium', 'Magnesium', 'Calcium', 'Iron', 'Boron', 'New Column Name' ]"
   ]
  },
  {
   "cell_type": "code",
   "execution_count": 13,
   "metadata": {
    "ExecuteTime": {
     "end_time": "2021-11-25T12:42:28.508424Z",
     "start_time": "2021-11-25T12:42:28.496953Z"
    },
    "slideshow": {
     "slide_type": "fragment"
    }
   },
   "outputs": [
    {
     "data": {
      "text/html": [
       "<div>\n",
       "<style scoped>\n",
       "    .dataframe tbody tr th:only-of-type {\n",
       "        vertical-align: middle;\n",
       "    }\n",
       "\n",
       "    .dataframe tbody tr th {\n",
       "        vertical-align: top;\n",
       "    }\n",
       "\n",
       "    .dataframe thead th {\n",
       "        text-align: right;\n",
       "    }\n",
       "</style>\n",
       "<table border=\"1\" class=\"dataframe\">\n",
       "  <thead>\n",
       "    <tr style=\"text-align: right;\">\n",
       "      <th></th>\n",
       "      <th>Tank</th>\n",
       "      <th>Treatment</th>\n",
       "      <th>NitrateN</th>\n",
       "      <th>AmmoniumN</th>\n",
       "      <th>TotalN</th>\n",
       "      <th>Phosphorus</th>\n",
       "      <th>Potassium</th>\n",
       "      <th>Magnesium</th>\n",
       "      <th>Calcium</th>\n",
       "      <th>Iron</th>\n",
       "      <th>Boron</th>\n",
       "      <th>New Column Name</th>\n",
       "    </tr>\n",
       "  </thead>\n",
       "  <tbody>\n",
       "    <tr>\n",
       "      <th>0</th>\n",
       "      <td>3</td>\n",
       "      <td>Control</td>\n",
       "      <td>18761.904841</td>\n",
       "      <td>10306.002208</td>\n",
       "      <td>29067.272500</td>\n",
       "      <td>12684.874373</td>\n",
       "      <td>42136.987241</td>\n",
       "      <td>1504.5355</td>\n",
       "      <td>22010.605</td>\n",
       "      <td>222.039645</td>\n",
       "      <td>23.661832</td>\n",
       "      <td>NaN</td>\n",
       "    </tr>\n",
       "    <tr>\n",
       "      <th>1</th>\n",
       "      <td>4</td>\n",
       "      <td>Control</td>\n",
       "      <td>21645.354288</td>\n",
       "      <td>12437.070289</td>\n",
       "      <td>34081.642850</td>\n",
       "      <td>11491.501873</td>\n",
       "      <td>44055.094673</td>\n",
       "      <td>1,635.42</td>\n",
       "      <td>18,548.59</td>\n",
       "      <td>278.240000</td>\n",
       "      <td>27.742095</td>\n",
       "      <td>NaN</td>\n",
       "    </tr>\n",
       "    <tr>\n",
       "      <th>2</th>\n",
       "      <td>8</td>\n",
       "      <td>Control</td>\n",
       "      <td>16838.258788</td>\n",
       "      <td>10632.168232</td>\n",
       "      <td>27469.952475</td>\n",
       "      <td>10355.950873</td>\n",
       "      <td>43390.354388</td>\n",
       "      <td>1,383.34</td>\n",
       "      <td>16,853.25</td>\n",
       "      <td>238.930000</td>\n",
       "      <td>19.138933</td>\n",
       "      <td>NaN</td>\n",
       "    </tr>\n",
       "    <tr>\n",
       "      <th>3</th>\n",
       "      <td>1</td>\n",
       "      <td>Au47</td>\n",
       "      <td>20802.809014</td>\n",
       "      <td>11967.706838</td>\n",
       "      <td>31895.044325</td>\n",
       "      <td>12630.322442</td>\n",
       "      <td>41029.996115</td>\n",
       "      <td>1439.81973474096</td>\n",
       "      <td>26337.7301089178</td>\n",
       "      <td>335.542442</td>\n",
       "      <td>28.949213</td>\n",
       "      <td>NaN</td>\n",
       "    </tr>\n",
       "    <tr>\n",
       "      <th>4</th>\n",
       "      <td>6</td>\n",
       "      <td>Au47</td>\n",
       "      <td>21772.696629</td>\n",
       "      <td>11997.356846</td>\n",
       "      <td>33770.053475</td>\n",
       "      <td>10672.216286</td>\n",
       "      <td>47175.575986</td>\n",
       "      <td>1467.01863862725</td>\n",
       "      <td>21585.5732755892</td>\n",
       "      <td>316.188490</td>\n",
       "      <td>29.377145</td>\n",
       "      <td>NaN</td>\n",
       "    </tr>\n",
       "  </tbody>\n",
       "</table>\n",
       "</div>"
      ],
      "text/plain": [
       "   Tank Treatment      NitrateN     AmmoniumN        TotalN    Phosphorus  \\\n",
       "0     3   Control  18761.904841  10306.002208  29067.272500  12684.874373   \n",
       "1     4   Control  21645.354288  12437.070289  34081.642850  11491.501873   \n",
       "2     8   Control  16838.258788  10632.168232  27469.952475  10355.950873   \n",
       "3     1      Au47  20802.809014  11967.706838  31895.044325  12630.322442   \n",
       "4     6      Au47  21772.696629  11997.356846  33770.053475  10672.216286   \n",
       "\n",
       "      Potassium         Magnesium           Calcium        Iron      Boron  \\\n",
       "0  42136.987241         1504.5355         22010.605  222.039645  23.661832   \n",
       "1  44055.094673          1,635.42         18,548.59  278.240000  27.742095   \n",
       "2  43390.354388          1,383.34         16,853.25  238.930000  19.138933   \n",
       "3  41029.996115  1439.81973474096  26337.7301089178  335.542442  28.949213   \n",
       "4  47175.575986  1467.01863862725  21585.5732755892  316.188490  29.377145   \n",
       "\n",
       "   New Column Name  \n",
       "0              NaN  \n",
       "1              NaN  \n",
       "2              NaN  \n",
       "3              NaN  \n",
       "4              NaN  "
      ]
     },
     "execution_count": 13,
     "metadata": {},
     "output_type": "execute_result"
    }
   ],
   "source": [
    "df_nutrients.head()"
   ]
  },
  {
   "cell_type": "markdown",
   "metadata": {
    "slideshow": {
     "slide_type": "subslide"
    }
   },
   "source": [
    "#### Describe"
   ]
  },
  {
   "cell_type": "markdown",
   "metadata": {
    "slideshow": {
     "slide_type": "fragment"
    }
   },
   "source": [
    "`.describe()` returns a table with descriptive statistics for all columns in the table, also useful to spot potential errors."
   ]
  },
  {
   "cell_type": "code",
   "execution_count": 14,
   "metadata": {
    "ExecuteTime": {
     "end_time": "2021-11-25T12:42:28.533394Z",
     "start_time": "2021-11-25T12:42:28.509195Z"
    },
    "slideshow": {
     "slide_type": "fragment"
    }
   },
   "outputs": [
    {
     "data": {
      "text/html": [
       "<div>\n",
       "<style scoped>\n",
       "    .dataframe tbody tr th:only-of-type {\n",
       "        vertical-align: middle;\n",
       "    }\n",
       "\n",
       "    .dataframe tbody tr th {\n",
       "        vertical-align: top;\n",
       "    }\n",
       "\n",
       "    .dataframe thead th {\n",
       "        text-align: right;\n",
       "    }\n",
       "</style>\n",
       "<table border=\"1\" class=\"dataframe\">\n",
       "  <thead>\n",
       "    <tr style=\"text-align: right;\">\n",
       "      <th></th>\n",
       "      <th>Tank</th>\n",
       "      <th>NitrateN</th>\n",
       "      <th>AmmoniumN</th>\n",
       "      <th>TotalN</th>\n",
       "      <th>Phosphorus</th>\n",
       "      <th>Potassium</th>\n",
       "      <th>Iron</th>\n",
       "      <th>Boron</th>\n",
       "      <th>New Column Name</th>\n",
       "    </tr>\n",
       "  </thead>\n",
       "  <tbody>\n",
       "    <tr>\n",
       "      <th>count</th>\n",
       "      <td>9.000000</td>\n",
       "      <td>9.000000</td>\n",
       "      <td>9.000000</td>\n",
       "      <td>9.000000</td>\n",
       "      <td>9.000000</td>\n",
       "      <td>9.000000</td>\n",
       "      <td>9.000000</td>\n",
       "      <td>9.000000</td>\n",
       "      <td>0.0</td>\n",
       "    </tr>\n",
       "    <tr>\n",
       "      <th>mean</th>\n",
       "      <td>5.000000</td>\n",
       "      <td>20220.235622</td>\n",
       "      <td>12541.972269</td>\n",
       "      <td>32664.723186</td>\n",
       "      <td>10626.614301</td>\n",
       "      <td>43889.134718</td>\n",
       "      <td>277.788409</td>\n",
       "      <td>26.726355</td>\n",
       "      <td>NaN</td>\n",
       "    </tr>\n",
       "    <tr>\n",
       "      <th>std</th>\n",
       "      <td>2.738613</td>\n",
       "      <td>2018.980368</td>\n",
       "      <td>1553.319989</td>\n",
       "      <td>2956.945396</td>\n",
       "      <td>1768.905204</td>\n",
       "      <td>2481.705710</td>\n",
       "      <td>36.436523</td>\n",
       "      <td>3.731827</td>\n",
       "      <td>NaN</td>\n",
       "    </tr>\n",
       "    <tr>\n",
       "      <th>min</th>\n",
       "      <td>1.000000</td>\n",
       "      <td>16838.258788</td>\n",
       "      <td>10306.002208</td>\n",
       "      <td>27469.952475</td>\n",
       "      <td>6988.360757</td>\n",
       "      <td>40841.131830</td>\n",
       "      <td>222.039645</td>\n",
       "      <td>19.138933</td>\n",
       "      <td>NaN</td>\n",
       "    </tr>\n",
       "    <tr>\n",
       "      <th>25%</th>\n",
       "      <td>3.000000</td>\n",
       "      <td>18761.904841</td>\n",
       "      <td>11967.706838</td>\n",
       "      <td>31557.012725</td>\n",
       "      <td>10355.950873</td>\n",
       "      <td>42136.987241</td>\n",
       "      <td>257.110626</td>\n",
       "      <td>25.003664</td>\n",
       "      <td>NaN</td>\n",
       "    </tr>\n",
       "    <tr>\n",
       "      <th>50%</th>\n",
       "      <td>5.000000</td>\n",
       "      <td>20802.809014</td>\n",
       "      <td>12437.070289</td>\n",
       "      <td>33770.053475</td>\n",
       "      <td>10672.216286</td>\n",
       "      <td>43390.354388</td>\n",
       "      <td>278.240000</td>\n",
       "      <td>27.742095</td>\n",
       "      <td>NaN</td>\n",
       "    </tr>\n",
       "    <tr>\n",
       "      <th>75%</th>\n",
       "      <td>7.000000</td>\n",
       "      <td>21645.354288</td>\n",
       "      <td>13936.716929</td>\n",
       "      <td>34281.496650</td>\n",
       "      <td>11491.501873</td>\n",
       "      <td>46268.123502</td>\n",
       "      <td>301.044988</td>\n",
       "      <td>29.377145</td>\n",
       "      <td>NaN</td>\n",
       "    </tr>\n",
       "    <tr>\n",
       "      <th>max</th>\n",
       "      <td>9.000000</td>\n",
       "      <td>22563.040451</td>\n",
       "      <td>15013.877702</td>\n",
       "      <td>36648.984274</td>\n",
       "      <td>12684.874373</td>\n",
       "      <td>47207.997883</td>\n",
       "      <td>335.542442</td>\n",
       "      <td>31.025050</td>\n",
       "      <td>NaN</td>\n",
       "    </tr>\n",
       "  </tbody>\n",
       "</table>\n",
       "</div>"
      ],
      "text/plain": [
       "           Tank      NitrateN     AmmoniumN        TotalN    Phosphorus  \\\n",
       "count  9.000000      9.000000      9.000000      9.000000      9.000000   \n",
       "mean   5.000000  20220.235622  12541.972269  32664.723186  10626.614301   \n",
       "std    2.738613   2018.980368   1553.319989   2956.945396   1768.905204   \n",
       "min    1.000000  16838.258788  10306.002208  27469.952475   6988.360757   \n",
       "25%    3.000000  18761.904841  11967.706838  31557.012725  10355.950873   \n",
       "50%    5.000000  20802.809014  12437.070289  33770.053475  10672.216286   \n",
       "75%    7.000000  21645.354288  13936.716929  34281.496650  11491.501873   \n",
       "max    9.000000  22563.040451  15013.877702  36648.984274  12684.874373   \n",
       "\n",
       "          Potassium        Iron      Boron  New Column Name  \n",
       "count      9.000000    9.000000   9.000000              0.0  \n",
       "mean   43889.134718  277.788409  26.726355              NaN  \n",
       "std     2481.705710   36.436523   3.731827              NaN  \n",
       "min    40841.131830  222.039645  19.138933              NaN  \n",
       "25%    42136.987241  257.110626  25.003664              NaN  \n",
       "50%    43390.354388  278.240000  27.742095              NaN  \n",
       "75%    46268.123502  301.044988  29.377145              NaN  \n",
       "max    47207.997883  335.542442  31.025050              NaN  "
      ]
     },
     "execution_count": 14,
     "metadata": {},
     "output_type": "execute_result"
    }
   ],
   "source": [
    "df_nutrients.describe()"
   ]
  },
  {
   "cell_type": "markdown",
   "metadata": {
    "slideshow": {
     "slide_type": "subslide"
    }
   },
   "source": [
    "It is also possible to check those same descriptive statistics separately. "
   ]
  },
  {
   "cell_type": "markdown",
   "metadata": {
    "slideshow": {
     "slide_type": "fragment"
    }
   },
   "source": [
    "For example, we can get the mean only, without having the other values:"
   ]
  },
  {
   "cell_type": "code",
   "execution_count": 15,
   "metadata": {
    "ExecuteTime": {
     "end_time": "2021-11-25T12:42:28.539039Z",
     "start_time": "2021-11-25T12:42:28.534536Z"
    },
    "slideshow": {
     "slide_type": "fragment"
    }
   },
   "outputs": [
    {
     "name": "stderr",
     "output_type": "stream",
     "text": [
      "/tmp/ipykernel_9341/2352467965.py:1: FutureWarning: Dropping of nuisance columns in DataFrame reductions (with 'numeric_only=None') is deprecated; in a future version this will raise TypeError.  Select only valid columns before calling the reduction.\n",
      "  df_nutrients.mean()\n"
     ]
    },
    {
     "data": {
      "text/plain": [
       "Tank                   5.000000\n",
       "NitrateN           20220.235622\n",
       "AmmoniumN          12541.972269\n",
       "TotalN             32664.723186\n",
       "Phosphorus         10626.614301\n",
       "Potassium          43889.134718\n",
       "Iron                 277.788409\n",
       "Boron                 26.726355\n",
       "New Column Name             NaN\n",
       "dtype: float64"
      ]
     },
     "execution_count": 15,
     "metadata": {},
     "output_type": "execute_result"
    }
   ],
   "source": [
    "df_nutrients.mean()"
   ]
  },
  {
   "cell_type": "markdown",
   "metadata": {
    "slideshow": {
     "slide_type": "subslide"
    }
   },
   "source": [
    "Note that:\n",
    "* the tank is a categorical value (it is not a _number_ of tanks: could have been tank A, B, etc.), but ___pandas___ calculates the statistics all the same\n",
    "* the column `treatment` is not included, because it has text values (could have been the same with the `tank` column)\n",
    "* there is an empty column at the end of the table, which gets a count value of 0, as there are no cells with any value there"
   ]
  },
  {
   "cell_type": "markdown",
   "metadata": {
    "slideshow": {
     "slide_type": "subslide"
    }
   },
   "source": [
    "Here the complete table again, for reference only:"
   ]
  },
  {
   "cell_type": "code",
   "execution_count": 16,
   "metadata": {
    "ExecuteTime": {
     "end_time": "2021-11-25T12:42:28.551877Z",
     "start_time": "2021-11-25T12:42:28.539797Z"
    },
    "slideshow": {
     "slide_type": "fragment"
    }
   },
   "outputs": [
    {
     "data": {
      "text/html": [
       "<div>\n",
       "<style scoped>\n",
       "    .dataframe tbody tr th:only-of-type {\n",
       "        vertical-align: middle;\n",
       "    }\n",
       "\n",
       "    .dataframe tbody tr th {\n",
       "        vertical-align: top;\n",
       "    }\n",
       "\n",
       "    .dataframe thead th {\n",
       "        text-align: right;\n",
       "    }\n",
       "</style>\n",
       "<table border=\"1\" class=\"dataframe\">\n",
       "  <thead>\n",
       "    <tr style=\"text-align: right;\">\n",
       "      <th></th>\n",
       "      <th>Tank</th>\n",
       "      <th>Treatment</th>\n",
       "      <th>NitrateN</th>\n",
       "      <th>AmmoniumN</th>\n",
       "      <th>TotalN</th>\n",
       "      <th>Phosphorus</th>\n",
       "      <th>Potassium</th>\n",
       "      <th>Magnesium</th>\n",
       "      <th>Calcium</th>\n",
       "      <th>Iron</th>\n",
       "      <th>Boron</th>\n",
       "      <th>New Column Name</th>\n",
       "    </tr>\n",
       "  </thead>\n",
       "  <tbody>\n",
       "    <tr>\n",
       "      <th>0</th>\n",
       "      <td>3</td>\n",
       "      <td>Control</td>\n",
       "      <td>18761.904841</td>\n",
       "      <td>10306.002208</td>\n",
       "      <td>29067.272500</td>\n",
       "      <td>12684.874373</td>\n",
       "      <td>42136.987241</td>\n",
       "      <td>1504.5355</td>\n",
       "      <td>22010.605</td>\n",
       "      <td>222.039645</td>\n",
       "      <td>23.661832</td>\n",
       "      <td>NaN</td>\n",
       "    </tr>\n",
       "    <tr>\n",
       "      <th>1</th>\n",
       "      <td>4</td>\n",
       "      <td>Control</td>\n",
       "      <td>21645.354288</td>\n",
       "      <td>12437.070289</td>\n",
       "      <td>34081.642850</td>\n",
       "      <td>11491.501873</td>\n",
       "      <td>44055.094673</td>\n",
       "      <td>1,635.42</td>\n",
       "      <td>18,548.59</td>\n",
       "      <td>278.240000</td>\n",
       "      <td>27.742095</td>\n",
       "      <td>NaN</td>\n",
       "    </tr>\n",
       "    <tr>\n",
       "      <th>2</th>\n",
       "      <td>8</td>\n",
       "      <td>Control</td>\n",
       "      <td>16838.258788</td>\n",
       "      <td>10632.168232</td>\n",
       "      <td>27469.952475</td>\n",
       "      <td>10355.950873</td>\n",
       "      <td>43390.354388</td>\n",
       "      <td>1,383.34</td>\n",
       "      <td>16,853.25</td>\n",
       "      <td>238.930000</td>\n",
       "      <td>19.138933</td>\n",
       "      <td>NaN</td>\n",
       "    </tr>\n",
       "    <tr>\n",
       "      <th>3</th>\n",
       "      <td>1</td>\n",
       "      <td>Au47</td>\n",
       "      <td>20802.809014</td>\n",
       "      <td>11967.706838</td>\n",
       "      <td>31895.044325</td>\n",
       "      <td>12630.322442</td>\n",
       "      <td>41029.996115</td>\n",
       "      <td>1439.81973474096</td>\n",
       "      <td>26337.7301089178</td>\n",
       "      <td>335.542442</td>\n",
       "      <td>28.949213</td>\n",
       "      <td>NaN</td>\n",
       "    </tr>\n",
       "    <tr>\n",
       "      <th>4</th>\n",
       "      <td>6</td>\n",
       "      <td>Au47</td>\n",
       "      <td>21772.696629</td>\n",
       "      <td>11997.356846</td>\n",
       "      <td>33770.053475</td>\n",
       "      <td>10672.216286</td>\n",
       "      <td>47175.575986</td>\n",
       "      <td>1467.01863862725</td>\n",
       "      <td>21585.5732755892</td>\n",
       "      <td>316.188490</td>\n",
       "      <td>29.377145</td>\n",
       "      <td>NaN</td>\n",
       "    </tr>\n",
       "    <tr>\n",
       "      <th>5</th>\n",
       "      <td>2</td>\n",
       "      <td>Au47</td>\n",
       "      <td>17620.295796</td>\n",
       "      <td>13936.716929</td>\n",
       "      <td>31557.012725</td>\n",
       "      <td>11265.672917</td>\n",
       "      <td>42896.950847</td>\n",
       "      <td>1502.48748702529</td>\n",
       "      <td>24398.428146034</td>\n",
       "      <td>257.110626</td>\n",
       "      <td>25.003664</td>\n",
       "      <td>NaN</td>\n",
       "    </tr>\n",
       "    <tr>\n",
       "      <th>6</th>\n",
       "      <td>7</td>\n",
       "      <td>Au53</td>\n",
       "      <td>20342.654221</td>\n",
       "      <td>13938.842429</td>\n",
       "      <td>34281.496650</td>\n",
       "      <td>9118.485757</td>\n",
       "      <td>47207.997883</td>\n",
       "      <td>1394.8993926275</td>\n",
       "      <td>19296.3288426945</td>\n",
       "      <td>285.840136</td>\n",
       "      <td>31.025050</td>\n",
       "      <td>NaN</td>\n",
       "    </tr>\n",
       "    <tr>\n",
       "      <th>7</th>\n",
       "      <td>5</td>\n",
       "      <td>Au53</td>\n",
       "      <td>21635.106571</td>\n",
       "      <td>15013.877702</td>\n",
       "      <td>36648.984274</td>\n",
       "      <td>6988.360757</td>\n",
       "      <td>46268.123502</td>\n",
       "      <td>1730.13032705656</td>\n",
       "      <td>15865.5454860459</td>\n",
       "      <td>265.159355</td>\n",
       "      <td>29.770982</td>\n",
       "      <td>NaN</td>\n",
       "    </tr>\n",
       "    <tr>\n",
       "      <th>8</th>\n",
       "      <td>9</td>\n",
       "      <td>Au53</td>\n",
       "      <td>22563.040451</td>\n",
       "      <td>12648.008949</td>\n",
       "      <td>35211.049400</td>\n",
       "      <td>10432.143429</td>\n",
       "      <td>40841.131830</td>\n",
       "      <td>1348.28810098257</td>\n",
       "      <td>22660.4840070055</td>\n",
       "      <td>301.044988</td>\n",
       "      <td>25.868277</td>\n",
       "      <td>NaN</td>\n",
       "    </tr>\n",
       "  </tbody>\n",
       "</table>\n",
       "</div>"
      ],
      "text/plain": [
       "   Tank Treatment      NitrateN     AmmoniumN        TotalN    Phosphorus  \\\n",
       "0     3   Control  18761.904841  10306.002208  29067.272500  12684.874373   \n",
       "1     4   Control  21645.354288  12437.070289  34081.642850  11491.501873   \n",
       "2     8   Control  16838.258788  10632.168232  27469.952475  10355.950873   \n",
       "3     1      Au47  20802.809014  11967.706838  31895.044325  12630.322442   \n",
       "4     6      Au47  21772.696629  11997.356846  33770.053475  10672.216286   \n",
       "5     2      Au47  17620.295796  13936.716929  31557.012725  11265.672917   \n",
       "6     7      Au53  20342.654221  13938.842429  34281.496650   9118.485757   \n",
       "7     5      Au53  21635.106571  15013.877702  36648.984274   6988.360757   \n",
       "8     9      Au53  22563.040451  12648.008949  35211.049400  10432.143429   \n",
       "\n",
       "      Potassium         Magnesium           Calcium        Iron      Boron  \\\n",
       "0  42136.987241         1504.5355         22010.605  222.039645  23.661832   \n",
       "1  44055.094673          1,635.42         18,548.59  278.240000  27.742095   \n",
       "2  43390.354388          1,383.34         16,853.25  238.930000  19.138933   \n",
       "3  41029.996115  1439.81973474096  26337.7301089178  335.542442  28.949213   \n",
       "4  47175.575986  1467.01863862725  21585.5732755892  316.188490  29.377145   \n",
       "5  42896.950847  1502.48748702529   24398.428146034  257.110626  25.003664   \n",
       "6  47207.997883   1394.8993926275  19296.3288426945  285.840136  31.025050   \n",
       "7  46268.123502  1730.13032705656  15865.5454860459  265.159355  29.770982   \n",
       "8  40841.131830  1348.28810098257  22660.4840070055  301.044988  25.868277   \n",
       "\n",
       "   New Column Name  \n",
       "0              NaN  \n",
       "1              NaN  \n",
       "2              NaN  \n",
       "3              NaN  \n",
       "4              NaN  \n",
       "5              NaN  \n",
       "6              NaN  \n",
       "7              NaN  \n",
       "8              NaN  "
      ]
     },
     "execution_count": 16,
     "metadata": {},
     "output_type": "execute_result"
    }
   ],
   "source": [
    "df_nutrients"
   ]
  },
  {
   "cell_type": "markdown",
   "metadata": {
    "slideshow": {
     "slide_type": "slide"
    }
   },
   "source": [
    "## Indexing. Queries."
   ]
  },
  {
   "cell_type": "markdown",
   "metadata": {
    "slideshow": {
     "slide_type": "subslide"
    }
   },
   "source": [
    "Having some general data about the whole table is an important step of data exploration, because we can get a feeling of what is happening (what is big, what is missing), and also because it helps to spot possible errors in calculations.\n",
    "\n",
    "However, it is most common that we want to answer questions like:\n",
    "* What are the average nutrients *per treatment*?\n",
    "* Which tanks were used for the Control treatment?\n",
    "* What is the ratio of ammonium/nitrate for the control treatment?\n",
    "\n",
    "This kind of questions require that we _select_ some rows and columns before asking for means or sums. We call this selection ___indexing___, similar to the indexing of lists."
   ]
  },
  {
   "cell_type": "markdown",
   "metadata": {
    "slideshow": {
     "slide_type": "subslide"
    }
   },
   "source": [
    "### Indexing"
   ]
  },
  {
   "cell_type": "markdown",
   "metadata": {
    "slideshow": {
     "slide_type": "fragment"
    }
   },
   "source": [
    "To index lists, and then also data frames, we use square brackets. \n",
    "\n",
    "With lists, we use always numeric indexes. \n",
    "\n",
    "With data frames we can use colum names and numeric indexes."
   ]
  },
  {
   "cell_type": "markdown",
   "metadata": {
    "slideshow": {
     "slide_type": "subslide"
    }
   },
   "source": [
    "#### Short reminder of list indexing"
   ]
  },
  {
   "cell_type": "code",
   "execution_count": 17,
   "metadata": {
    "ExecuteTime": {
     "end_time": "2021-11-25T12:42:28.558059Z",
     "start_time": "2021-11-25T12:42:28.552854Z"
    },
    "slideshow": {
     "slide_type": "fragment"
    }
   },
   "outputs": [
    {
     "data": {
      "text/plain": [
       "'black'"
      ]
     },
     "execution_count": 17,
     "metadata": {},
     "output_type": "execute_result"
    }
   ],
   "source": [
    "example_list1 = [ 'red', 'blue', 'black', 'yellow' ]\n",
    "\n",
    "example_list1[ 2 ]"
   ]
  },
  {
   "cell_type": "markdown",
   "metadata": {
    "slideshow": {
     "slide_type": "fragment"
    }
   },
   "source": [
    "We read that like \"example_list1 in the position 2 is 'black'\", \n",
    "\n",
    "or \"the value of example_list1 in the position 2 is 'black'\", \n",
    "\n",
    "or \"there is a 'black' in the position 2 of example_list1\""
   ]
  },
  {
   "cell_type": "code",
   "execution_count": 18,
   "metadata": {
    "ExecuteTime": {
     "end_time": "2021-11-25T12:42:28.564131Z",
     "start_time": "2021-11-25T12:42:28.558898Z"
    },
    "slideshow": {
     "slide_type": "subslide"
    }
   },
   "outputs": [],
   "source": [
    "example_list2 = [ [ 'red', 'blue', 'black', 'yellow' ],\n",
    "                  [ 'north', 'south', 'up', 'down' ],\n",
    "                  [ 'apple', 'banana', 'peach', 'pear' ] ]"
   ]
  },
  {
   "cell_type": "code",
   "execution_count": 19,
   "metadata": {
    "ExecuteTime": {
     "end_time": "2021-11-25T12:42:28.570688Z",
     "start_time": "2021-11-25T12:42:28.565284Z"
    },
    "slideshow": {
     "slide_type": "fragment"
    }
   },
   "outputs": [
    {
     "data": {
      "text/plain": [
       "['apple', 'banana', 'peach', 'pear']"
      ]
     },
     "execution_count": 19,
     "metadata": {},
     "output_type": "execute_result"
    }
   ],
   "source": [
    "example_list2[ 2 ]"
   ]
  },
  {
   "cell_type": "code",
   "execution_count": 20,
   "metadata": {
    "ExecuteTime": {
     "end_time": "2021-11-25T12:42:28.577033Z",
     "start_time": "2021-11-25T12:42:28.571554Z"
    },
    "slideshow": {
     "slide_type": "fragment"
    }
   },
   "outputs": [
    {
     "data": {
      "text/plain": [
       "'banana'"
      ]
     },
     "execution_count": 20,
     "metadata": {},
     "output_type": "execute_result"
    }
   ],
   "source": [
    "example_list2[ 2 ][ 1 ]"
   ]
  },
  {
   "cell_type": "markdown",
   "metadata": {
    "slideshow": {
     "slide_type": "subslide"
    }
   },
   "source": [
    "We will use the same syntax with pandas DataFrames, but we will index rows with the index (mostly with numbers) and columns with their name."
   ]
  },
  {
   "cell_type": "markdown",
   "metadata": {
    "slideshow": {
     "slide_type": "subslide"
    }
   },
   "source": [
    "### Selecting columns from a data frame in pandas"
   ]
  },
  {
   "cell_type": "markdown",
   "metadata": {
    "slideshow": {
     "slide_type": "fragment"
    }
   },
   "source": [
    "Our DataFrame with nutrients looks like this:"
   ]
  },
  {
   "cell_type": "code",
   "execution_count": 21,
   "metadata": {
    "ExecuteTime": {
     "end_time": "2021-11-25T12:42:28.591039Z",
     "start_time": "2021-11-25T12:42:28.578074Z"
    },
    "slideshow": {
     "slide_type": "fragment"
    }
   },
   "outputs": [
    {
     "data": {
      "text/html": [
       "<div>\n",
       "<style scoped>\n",
       "    .dataframe tbody tr th:only-of-type {\n",
       "        vertical-align: middle;\n",
       "    }\n",
       "\n",
       "    .dataframe tbody tr th {\n",
       "        vertical-align: top;\n",
       "    }\n",
       "\n",
       "    .dataframe thead th {\n",
       "        text-align: right;\n",
       "    }\n",
       "</style>\n",
       "<table border=\"1\" class=\"dataframe\">\n",
       "  <thead>\n",
       "    <tr style=\"text-align: right;\">\n",
       "      <th></th>\n",
       "      <th>Tank</th>\n",
       "      <th>Treatment</th>\n",
       "      <th>NitrateN</th>\n",
       "      <th>AmmoniumN</th>\n",
       "      <th>TotalN</th>\n",
       "      <th>Phosphorus</th>\n",
       "      <th>Potassium</th>\n",
       "      <th>Magnesium</th>\n",
       "      <th>Calcium</th>\n",
       "      <th>Iron</th>\n",
       "      <th>Boron</th>\n",
       "      <th>New Column Name</th>\n",
       "    </tr>\n",
       "  </thead>\n",
       "  <tbody>\n",
       "    <tr>\n",
       "      <th>0</th>\n",
       "      <td>3</td>\n",
       "      <td>Control</td>\n",
       "      <td>18761.904841</td>\n",
       "      <td>10306.002208</td>\n",
       "      <td>29067.272500</td>\n",
       "      <td>12684.874373</td>\n",
       "      <td>42136.987241</td>\n",
       "      <td>1504.5355</td>\n",
       "      <td>22010.605</td>\n",
       "      <td>222.039645</td>\n",
       "      <td>23.661832</td>\n",
       "      <td>NaN</td>\n",
       "    </tr>\n",
       "    <tr>\n",
       "      <th>1</th>\n",
       "      <td>4</td>\n",
       "      <td>Control</td>\n",
       "      <td>21645.354288</td>\n",
       "      <td>12437.070289</td>\n",
       "      <td>34081.642850</td>\n",
       "      <td>11491.501873</td>\n",
       "      <td>44055.094673</td>\n",
       "      <td>1,635.42</td>\n",
       "      <td>18,548.59</td>\n",
       "      <td>278.240000</td>\n",
       "      <td>27.742095</td>\n",
       "      <td>NaN</td>\n",
       "    </tr>\n",
       "    <tr>\n",
       "      <th>2</th>\n",
       "      <td>8</td>\n",
       "      <td>Control</td>\n",
       "      <td>16838.258788</td>\n",
       "      <td>10632.168232</td>\n",
       "      <td>27469.952475</td>\n",
       "      <td>10355.950873</td>\n",
       "      <td>43390.354388</td>\n",
       "      <td>1,383.34</td>\n",
       "      <td>16,853.25</td>\n",
       "      <td>238.930000</td>\n",
       "      <td>19.138933</td>\n",
       "      <td>NaN</td>\n",
       "    </tr>\n",
       "    <tr>\n",
       "      <th>3</th>\n",
       "      <td>1</td>\n",
       "      <td>Au47</td>\n",
       "      <td>20802.809014</td>\n",
       "      <td>11967.706838</td>\n",
       "      <td>31895.044325</td>\n",
       "      <td>12630.322442</td>\n",
       "      <td>41029.996115</td>\n",
       "      <td>1439.81973474096</td>\n",
       "      <td>26337.7301089178</td>\n",
       "      <td>335.542442</td>\n",
       "      <td>28.949213</td>\n",
       "      <td>NaN</td>\n",
       "    </tr>\n",
       "    <tr>\n",
       "      <th>4</th>\n",
       "      <td>6</td>\n",
       "      <td>Au47</td>\n",
       "      <td>21772.696629</td>\n",
       "      <td>11997.356846</td>\n",
       "      <td>33770.053475</td>\n",
       "      <td>10672.216286</td>\n",
       "      <td>47175.575986</td>\n",
       "      <td>1467.01863862725</td>\n",
       "      <td>21585.5732755892</td>\n",
       "      <td>316.188490</td>\n",
       "      <td>29.377145</td>\n",
       "      <td>NaN</td>\n",
       "    </tr>\n",
       "    <tr>\n",
       "      <th>5</th>\n",
       "      <td>2</td>\n",
       "      <td>Au47</td>\n",
       "      <td>17620.295796</td>\n",
       "      <td>13936.716929</td>\n",
       "      <td>31557.012725</td>\n",
       "      <td>11265.672917</td>\n",
       "      <td>42896.950847</td>\n",
       "      <td>1502.48748702529</td>\n",
       "      <td>24398.428146034</td>\n",
       "      <td>257.110626</td>\n",
       "      <td>25.003664</td>\n",
       "      <td>NaN</td>\n",
       "    </tr>\n",
       "    <tr>\n",
       "      <th>6</th>\n",
       "      <td>7</td>\n",
       "      <td>Au53</td>\n",
       "      <td>20342.654221</td>\n",
       "      <td>13938.842429</td>\n",
       "      <td>34281.496650</td>\n",
       "      <td>9118.485757</td>\n",
       "      <td>47207.997883</td>\n",
       "      <td>1394.8993926275</td>\n",
       "      <td>19296.3288426945</td>\n",
       "      <td>285.840136</td>\n",
       "      <td>31.025050</td>\n",
       "      <td>NaN</td>\n",
       "    </tr>\n",
       "    <tr>\n",
       "      <th>7</th>\n",
       "      <td>5</td>\n",
       "      <td>Au53</td>\n",
       "      <td>21635.106571</td>\n",
       "      <td>15013.877702</td>\n",
       "      <td>36648.984274</td>\n",
       "      <td>6988.360757</td>\n",
       "      <td>46268.123502</td>\n",
       "      <td>1730.13032705656</td>\n",
       "      <td>15865.5454860459</td>\n",
       "      <td>265.159355</td>\n",
       "      <td>29.770982</td>\n",
       "      <td>NaN</td>\n",
       "    </tr>\n",
       "    <tr>\n",
       "      <th>8</th>\n",
       "      <td>9</td>\n",
       "      <td>Au53</td>\n",
       "      <td>22563.040451</td>\n",
       "      <td>12648.008949</td>\n",
       "      <td>35211.049400</td>\n",
       "      <td>10432.143429</td>\n",
       "      <td>40841.131830</td>\n",
       "      <td>1348.28810098257</td>\n",
       "      <td>22660.4840070055</td>\n",
       "      <td>301.044988</td>\n",
       "      <td>25.868277</td>\n",
       "      <td>NaN</td>\n",
       "    </tr>\n",
       "  </tbody>\n",
       "</table>\n",
       "</div>"
      ],
      "text/plain": [
       "   Tank Treatment      NitrateN     AmmoniumN        TotalN    Phosphorus  \\\n",
       "0     3   Control  18761.904841  10306.002208  29067.272500  12684.874373   \n",
       "1     4   Control  21645.354288  12437.070289  34081.642850  11491.501873   \n",
       "2     8   Control  16838.258788  10632.168232  27469.952475  10355.950873   \n",
       "3     1      Au47  20802.809014  11967.706838  31895.044325  12630.322442   \n",
       "4     6      Au47  21772.696629  11997.356846  33770.053475  10672.216286   \n",
       "5     2      Au47  17620.295796  13936.716929  31557.012725  11265.672917   \n",
       "6     7      Au53  20342.654221  13938.842429  34281.496650   9118.485757   \n",
       "7     5      Au53  21635.106571  15013.877702  36648.984274   6988.360757   \n",
       "8     9      Au53  22563.040451  12648.008949  35211.049400  10432.143429   \n",
       "\n",
       "      Potassium         Magnesium           Calcium        Iron      Boron  \\\n",
       "0  42136.987241         1504.5355         22010.605  222.039645  23.661832   \n",
       "1  44055.094673          1,635.42         18,548.59  278.240000  27.742095   \n",
       "2  43390.354388          1,383.34         16,853.25  238.930000  19.138933   \n",
       "3  41029.996115  1439.81973474096  26337.7301089178  335.542442  28.949213   \n",
       "4  47175.575986  1467.01863862725  21585.5732755892  316.188490  29.377145   \n",
       "5  42896.950847  1502.48748702529   24398.428146034  257.110626  25.003664   \n",
       "6  47207.997883   1394.8993926275  19296.3288426945  285.840136  31.025050   \n",
       "7  46268.123502  1730.13032705656  15865.5454860459  265.159355  29.770982   \n",
       "8  40841.131830  1348.28810098257  22660.4840070055  301.044988  25.868277   \n",
       "\n",
       "   New Column Name  \n",
       "0              NaN  \n",
       "1              NaN  \n",
       "2              NaN  \n",
       "3              NaN  \n",
       "4              NaN  \n",
       "5              NaN  \n",
       "6              NaN  \n",
       "7              NaN  \n",
       "8              NaN  "
      ]
     },
     "execution_count": 21,
     "metadata": {},
     "output_type": "execute_result"
    }
   ],
   "source": [
    "df_nutrients"
   ]
  },
  {
   "cell_type": "markdown",
   "metadata": {
    "slideshow": {
     "slide_type": "subslide"
    }
   },
   "source": [
    "We can select only the nitrates' column with:"
   ]
  },
  {
   "cell_type": "code",
   "execution_count": 22,
   "metadata": {
    "ExecuteTime": {
     "end_time": "2021-11-25T12:42:28.599350Z",
     "start_time": "2021-11-25T12:42:28.591944Z"
    },
    "slideshow": {
     "slide_type": "fragment"
    }
   },
   "outputs": [
    {
     "data": {
      "text/html": [
       "<div>\n",
       "<style scoped>\n",
       "    .dataframe tbody tr th:only-of-type {\n",
       "        vertical-align: middle;\n",
       "    }\n",
       "\n",
       "    .dataframe tbody tr th {\n",
       "        vertical-align: top;\n",
       "    }\n",
       "\n",
       "    .dataframe thead th {\n",
       "        text-align: right;\n",
       "    }\n",
       "</style>\n",
       "<table border=\"1\" class=\"dataframe\">\n",
       "  <thead>\n",
       "    <tr style=\"text-align: right;\">\n",
       "      <th></th>\n",
       "      <th>NitrateN</th>\n",
       "    </tr>\n",
       "  </thead>\n",
       "  <tbody>\n",
       "    <tr>\n",
       "      <th>0</th>\n",
       "      <td>18761.904841</td>\n",
       "    </tr>\n",
       "    <tr>\n",
       "      <th>1</th>\n",
       "      <td>21645.354288</td>\n",
       "    </tr>\n",
       "    <tr>\n",
       "      <th>2</th>\n",
       "      <td>16838.258788</td>\n",
       "    </tr>\n",
       "    <tr>\n",
       "      <th>3</th>\n",
       "      <td>20802.809014</td>\n",
       "    </tr>\n",
       "    <tr>\n",
       "      <th>4</th>\n",
       "      <td>21772.696629</td>\n",
       "    </tr>\n",
       "    <tr>\n",
       "      <th>5</th>\n",
       "      <td>17620.295796</td>\n",
       "    </tr>\n",
       "    <tr>\n",
       "      <th>6</th>\n",
       "      <td>20342.654221</td>\n",
       "    </tr>\n",
       "    <tr>\n",
       "      <th>7</th>\n",
       "      <td>21635.106571</td>\n",
       "    </tr>\n",
       "    <tr>\n",
       "      <th>8</th>\n",
       "      <td>22563.040451</td>\n",
       "    </tr>\n",
       "  </tbody>\n",
       "</table>\n",
       "</div>"
      ],
      "text/plain": [
       "       NitrateN\n",
       "0  18761.904841\n",
       "1  21645.354288\n",
       "2  16838.258788\n",
       "3  20802.809014\n",
       "4  21772.696629\n",
       "5  17620.295796\n",
       "6  20342.654221\n",
       "7  21635.106571\n",
       "8  22563.040451"
      ]
     },
     "execution_count": 22,
     "metadata": {},
     "output_type": "execute_result"
    }
   ],
   "source": [
    "df_nutrients[ ['NitrateN'] ]"
   ]
  },
  {
   "cell_type": "markdown",
   "metadata": {
    "slideshow": {
     "slide_type": "subslide"
    }
   },
   "source": [
    "Or more than one column at a time..."
   ]
  },
  {
   "cell_type": "markdown",
   "metadata": {
    "slideshow": {
     "slide_type": "fragment"
    }
   },
   "source": [
    "To select nitrates and ammonium, we use a list of columns:"
   ]
  },
  {
   "cell_type": "code",
   "execution_count": 23,
   "metadata": {
    "ExecuteTime": {
     "end_time": "2021-11-25T12:42:28.608503Z",
     "start_time": "2021-11-25T12:42:28.600248Z"
    },
    "slideshow": {
     "slide_type": "fragment"
    }
   },
   "outputs": [
    {
     "data": {
      "text/html": [
       "<div>\n",
       "<style scoped>\n",
       "    .dataframe tbody tr th:only-of-type {\n",
       "        vertical-align: middle;\n",
       "    }\n",
       "\n",
       "    .dataframe tbody tr th {\n",
       "        vertical-align: top;\n",
       "    }\n",
       "\n",
       "    .dataframe thead th {\n",
       "        text-align: right;\n",
       "    }\n",
       "</style>\n",
       "<table border=\"1\" class=\"dataframe\">\n",
       "  <thead>\n",
       "    <tr style=\"text-align: right;\">\n",
       "      <th></th>\n",
       "      <th>NitrateN</th>\n",
       "      <th>AmmoniumN</th>\n",
       "    </tr>\n",
       "  </thead>\n",
       "  <tbody>\n",
       "    <tr>\n",
       "      <th>0</th>\n",
       "      <td>18761.904841</td>\n",
       "      <td>10306.002208</td>\n",
       "    </tr>\n",
       "    <tr>\n",
       "      <th>1</th>\n",
       "      <td>21645.354288</td>\n",
       "      <td>12437.070289</td>\n",
       "    </tr>\n",
       "    <tr>\n",
       "      <th>2</th>\n",
       "      <td>16838.258788</td>\n",
       "      <td>10632.168232</td>\n",
       "    </tr>\n",
       "    <tr>\n",
       "      <th>3</th>\n",
       "      <td>20802.809014</td>\n",
       "      <td>11967.706838</td>\n",
       "    </tr>\n",
       "    <tr>\n",
       "      <th>4</th>\n",
       "      <td>21772.696629</td>\n",
       "      <td>11997.356846</td>\n",
       "    </tr>\n",
       "    <tr>\n",
       "      <th>5</th>\n",
       "      <td>17620.295796</td>\n",
       "      <td>13936.716929</td>\n",
       "    </tr>\n",
       "    <tr>\n",
       "      <th>6</th>\n",
       "      <td>20342.654221</td>\n",
       "      <td>13938.842429</td>\n",
       "    </tr>\n",
       "    <tr>\n",
       "      <th>7</th>\n",
       "      <td>21635.106571</td>\n",
       "      <td>15013.877702</td>\n",
       "    </tr>\n",
       "    <tr>\n",
       "      <th>8</th>\n",
       "      <td>22563.040451</td>\n",
       "      <td>12648.008949</td>\n",
       "    </tr>\n",
       "  </tbody>\n",
       "</table>\n",
       "</div>"
      ],
      "text/plain": [
       "       NitrateN     AmmoniumN\n",
       "0  18761.904841  10306.002208\n",
       "1  21645.354288  12437.070289\n",
       "2  16838.258788  10632.168232\n",
       "3  20802.809014  11967.706838\n",
       "4  21772.696629  11997.356846\n",
       "5  17620.295796  13936.716929\n",
       "6  20342.654221  13938.842429\n",
       "7  21635.106571  15013.877702\n",
       "8  22563.040451  12648.008949"
      ]
     },
     "execution_count": 23,
     "metadata": {},
     "output_type": "execute_result"
    }
   ],
   "source": [
    "df_nutrients[ [ 'NitrateN', 'AmmoniumN' ] ]"
   ]
  },
  {
   "cell_type": "markdown",
   "metadata": {
    "slideshow": {
     "slide_type": "subslide"
    }
   },
   "source": [
    "The syntax select columns uses a list of the columns to be selected:\n",
    "\n",
    "dataframe_name[ [ column_name_1, column_name_2, ... , column_name_n ] ]\n"
   ]
  },
  {
   "cell_type": "markdown",
   "metadata": {
    "slideshow": {
     "slide_type": "subslide"
    }
   },
   "source": [
    "Again, we can use the functions `head`, `tail`, `describe`, `mean`, etc in the selected columns, whether they are one or more:"
   ]
  },
  {
   "cell_type": "code",
   "execution_count": 24,
   "metadata": {
    "ExecuteTime": {
     "end_time": "2021-11-25T12:42:28.617505Z",
     "start_time": "2021-11-25T12:42:28.609533Z"
    },
    "slideshow": {
     "slide_type": "fragment"
    }
   },
   "outputs": [
    {
     "data": {
      "text/html": [
       "<div>\n",
       "<style scoped>\n",
       "    .dataframe tbody tr th:only-of-type {\n",
       "        vertical-align: middle;\n",
       "    }\n",
       "\n",
       "    .dataframe tbody tr th {\n",
       "        vertical-align: top;\n",
       "    }\n",
       "\n",
       "    .dataframe thead th {\n",
       "        text-align: right;\n",
       "    }\n",
       "</style>\n",
       "<table border=\"1\" class=\"dataframe\">\n",
       "  <thead>\n",
       "    <tr style=\"text-align: right;\">\n",
       "      <th></th>\n",
       "      <th>NitrateN</th>\n",
       "      <th>AmmoniumN</th>\n",
       "    </tr>\n",
       "  </thead>\n",
       "  <tbody>\n",
       "    <tr>\n",
       "      <th>0</th>\n",
       "      <td>18761.904841</td>\n",
       "      <td>10306.002208</td>\n",
       "    </tr>\n",
       "    <tr>\n",
       "      <th>1</th>\n",
       "      <td>21645.354288</td>\n",
       "      <td>12437.070289</td>\n",
       "    </tr>\n",
       "    <tr>\n",
       "      <th>2</th>\n",
       "      <td>16838.258788</td>\n",
       "      <td>10632.168232</td>\n",
       "    </tr>\n",
       "    <tr>\n",
       "      <th>3</th>\n",
       "      <td>20802.809014</td>\n",
       "      <td>11967.706838</td>\n",
       "    </tr>\n",
       "    <tr>\n",
       "      <th>4</th>\n",
       "      <td>21772.696629</td>\n",
       "      <td>11997.356846</td>\n",
       "    </tr>\n",
       "  </tbody>\n",
       "</table>\n",
       "</div>"
      ],
      "text/plain": [
       "       NitrateN     AmmoniumN\n",
       "0  18761.904841  10306.002208\n",
       "1  21645.354288  12437.070289\n",
       "2  16838.258788  10632.168232\n",
       "3  20802.809014  11967.706838\n",
       "4  21772.696629  11997.356846"
      ]
     },
     "execution_count": 24,
     "metadata": {},
     "output_type": "execute_result"
    }
   ],
   "source": [
    "df_nutrients[ [ 'NitrateN', 'AmmoniumN' ] ].head()"
   ]
  },
  {
   "cell_type": "code",
   "execution_count": 25,
   "metadata": {
    "ExecuteTime": {
     "end_time": "2021-11-25T12:42:28.630115Z",
     "start_time": "2021-11-25T12:42:28.618322Z"
    },
    "slideshow": {
     "slide_type": "subslide"
    }
   },
   "outputs": [
    {
     "data": {
      "text/html": [
       "<div>\n",
       "<style scoped>\n",
       "    .dataframe tbody tr th:only-of-type {\n",
       "        vertical-align: middle;\n",
       "    }\n",
       "\n",
       "    .dataframe tbody tr th {\n",
       "        vertical-align: top;\n",
       "    }\n",
       "\n",
       "    .dataframe thead th {\n",
       "        text-align: right;\n",
       "    }\n",
       "</style>\n",
       "<table border=\"1\" class=\"dataframe\">\n",
       "  <thead>\n",
       "    <tr style=\"text-align: right;\">\n",
       "      <th></th>\n",
       "      <th>NitrateN</th>\n",
       "      <th>AmmoniumN</th>\n",
       "    </tr>\n",
       "  </thead>\n",
       "  <tbody>\n",
       "    <tr>\n",
       "      <th>count</th>\n",
       "      <td>9.000000</td>\n",
       "      <td>9.000000</td>\n",
       "    </tr>\n",
       "    <tr>\n",
       "      <th>mean</th>\n",
       "      <td>20220.235622</td>\n",
       "      <td>12541.972269</td>\n",
       "    </tr>\n",
       "    <tr>\n",
       "      <th>std</th>\n",
       "      <td>2018.980368</td>\n",
       "      <td>1553.319989</td>\n",
       "    </tr>\n",
       "    <tr>\n",
       "      <th>min</th>\n",
       "      <td>16838.258788</td>\n",
       "      <td>10306.002208</td>\n",
       "    </tr>\n",
       "    <tr>\n",
       "      <th>25%</th>\n",
       "      <td>18761.904841</td>\n",
       "      <td>11967.706838</td>\n",
       "    </tr>\n",
       "    <tr>\n",
       "      <th>50%</th>\n",
       "      <td>20802.809014</td>\n",
       "      <td>12437.070289</td>\n",
       "    </tr>\n",
       "    <tr>\n",
       "      <th>75%</th>\n",
       "      <td>21645.354288</td>\n",
       "      <td>13936.716929</td>\n",
       "    </tr>\n",
       "    <tr>\n",
       "      <th>max</th>\n",
       "      <td>22563.040451</td>\n",
       "      <td>15013.877702</td>\n",
       "    </tr>\n",
       "  </tbody>\n",
       "</table>\n",
       "</div>"
      ],
      "text/plain": [
       "           NitrateN     AmmoniumN\n",
       "count      9.000000      9.000000\n",
       "mean   20220.235622  12541.972269\n",
       "std     2018.980368   1553.319989\n",
       "min    16838.258788  10306.002208\n",
       "25%    18761.904841  11967.706838\n",
       "50%    20802.809014  12437.070289\n",
       "75%    21645.354288  13936.716929\n",
       "max    22563.040451  15013.877702"
      ]
     },
     "execution_count": 25,
     "metadata": {},
     "output_type": "execute_result"
    }
   ],
   "source": [
    "df_nutrients[ [ 'NitrateN', 'AmmoniumN' ] ].describe()"
   ]
  },
  {
   "cell_type": "code",
   "execution_count": 26,
   "metadata": {
    "ExecuteTime": {
     "end_time": "2021-11-25T12:42:28.638066Z",
     "start_time": "2021-11-25T12:42:28.631115Z"
    },
    "slideshow": {
     "slide_type": "subslide"
    }
   },
   "outputs": [
    {
     "data": {
      "text/plain": [
       "NitrateN     20220.235622\n",
       "AmmoniumN    12541.972269\n",
       "dtype: float64"
      ]
     },
     "execution_count": 26,
     "metadata": {},
     "output_type": "execute_result"
    }
   ],
   "source": [
    "df_nutrients[ [ 'NitrateN', 'AmmoniumN' ] ].mean()"
   ]
  },
  {
   "cell_type": "markdown",
   "metadata": {
    "slideshow": {
     "slide_type": "subslide"
    }
   },
   "source": [
    "### Selecting rows from a data frame in pandas"
   ]
  },
  {
   "cell_type": "markdown",
   "metadata": {
    "slideshow": {
     "slide_type": "fragment"
    }
   },
   "source": [
    "To select rows from a data frame, we need to know ___the exact index___ of that row. In most cases, the index is a list of numbers, so we need the row number."
   ]
  },
  {
   "cell_type": "markdown",
   "metadata": {
    "slideshow": {
     "slide_type": "fragment"
    }
   },
   "source": [
    "The index is that column without name, on the far left of the table:"
   ]
  },
  {
   "cell_type": "code",
   "execution_count": 27,
   "metadata": {
    "ExecuteTime": {
     "end_time": "2021-11-25T12:42:28.650389Z",
     "start_time": "2021-11-25T12:42:28.641107Z"
    },
    "slideshow": {
     "slide_type": "fragment"
    }
   },
   "outputs": [
    {
     "data": {
      "text/html": [
       "<div>\n",
       "<style scoped>\n",
       "    .dataframe tbody tr th:only-of-type {\n",
       "        vertical-align: middle;\n",
       "    }\n",
       "\n",
       "    .dataframe tbody tr th {\n",
       "        vertical-align: top;\n",
       "    }\n",
       "\n",
       "    .dataframe thead th {\n",
       "        text-align: right;\n",
       "    }\n",
       "</style>\n",
       "<table border=\"1\" class=\"dataframe\">\n",
       "  <thead>\n",
       "    <tr style=\"text-align: right;\">\n",
       "      <th></th>\n",
       "      <th>Tank</th>\n",
       "      <th>Treatment</th>\n",
       "      <th>NitrateN</th>\n",
       "      <th>AmmoniumN</th>\n",
       "      <th>TotalN</th>\n",
       "      <th>Phosphorus</th>\n",
       "      <th>Potassium</th>\n",
       "      <th>Magnesium</th>\n",
       "      <th>Calcium</th>\n",
       "      <th>Iron</th>\n",
       "      <th>Boron</th>\n",
       "      <th>New Column Name</th>\n",
       "    </tr>\n",
       "  </thead>\n",
       "  <tbody>\n",
       "    <tr>\n",
       "      <th>0</th>\n",
       "      <td>3</td>\n",
       "      <td>Control</td>\n",
       "      <td>18761.904841</td>\n",
       "      <td>10306.002208</td>\n",
       "      <td>29067.272500</td>\n",
       "      <td>12684.874373</td>\n",
       "      <td>42136.987241</td>\n",
       "      <td>1504.5355</td>\n",
       "      <td>22010.605</td>\n",
       "      <td>222.039645</td>\n",
       "      <td>23.661832</td>\n",
       "      <td>NaN</td>\n",
       "    </tr>\n",
       "    <tr>\n",
       "      <th>1</th>\n",
       "      <td>4</td>\n",
       "      <td>Control</td>\n",
       "      <td>21645.354288</td>\n",
       "      <td>12437.070289</td>\n",
       "      <td>34081.642850</td>\n",
       "      <td>11491.501873</td>\n",
       "      <td>44055.094673</td>\n",
       "      <td>1,635.42</td>\n",
       "      <td>18,548.59</td>\n",
       "      <td>278.240000</td>\n",
       "      <td>27.742095</td>\n",
       "      <td>NaN</td>\n",
       "    </tr>\n",
       "    <tr>\n",
       "      <th>2</th>\n",
       "      <td>8</td>\n",
       "      <td>Control</td>\n",
       "      <td>16838.258788</td>\n",
       "      <td>10632.168232</td>\n",
       "      <td>27469.952475</td>\n",
       "      <td>10355.950873</td>\n",
       "      <td>43390.354388</td>\n",
       "      <td>1,383.34</td>\n",
       "      <td>16,853.25</td>\n",
       "      <td>238.930000</td>\n",
       "      <td>19.138933</td>\n",
       "      <td>NaN</td>\n",
       "    </tr>\n",
       "    <tr>\n",
       "      <th>3</th>\n",
       "      <td>1</td>\n",
       "      <td>Au47</td>\n",
       "      <td>20802.809014</td>\n",
       "      <td>11967.706838</td>\n",
       "      <td>31895.044325</td>\n",
       "      <td>12630.322442</td>\n",
       "      <td>41029.996115</td>\n",
       "      <td>1439.81973474096</td>\n",
       "      <td>26337.7301089178</td>\n",
       "      <td>335.542442</td>\n",
       "      <td>28.949213</td>\n",
       "      <td>NaN</td>\n",
       "    </tr>\n",
       "    <tr>\n",
       "      <th>4</th>\n",
       "      <td>6</td>\n",
       "      <td>Au47</td>\n",
       "      <td>21772.696629</td>\n",
       "      <td>11997.356846</td>\n",
       "      <td>33770.053475</td>\n",
       "      <td>10672.216286</td>\n",
       "      <td>47175.575986</td>\n",
       "      <td>1467.01863862725</td>\n",
       "      <td>21585.5732755892</td>\n",
       "      <td>316.188490</td>\n",
       "      <td>29.377145</td>\n",
       "      <td>NaN</td>\n",
       "    </tr>\n",
       "    <tr>\n",
       "      <th>5</th>\n",
       "      <td>2</td>\n",
       "      <td>Au47</td>\n",
       "      <td>17620.295796</td>\n",
       "      <td>13936.716929</td>\n",
       "      <td>31557.012725</td>\n",
       "      <td>11265.672917</td>\n",
       "      <td>42896.950847</td>\n",
       "      <td>1502.48748702529</td>\n",
       "      <td>24398.428146034</td>\n",
       "      <td>257.110626</td>\n",
       "      <td>25.003664</td>\n",
       "      <td>NaN</td>\n",
       "    </tr>\n",
       "    <tr>\n",
       "      <th>6</th>\n",
       "      <td>7</td>\n",
       "      <td>Au53</td>\n",
       "      <td>20342.654221</td>\n",
       "      <td>13938.842429</td>\n",
       "      <td>34281.496650</td>\n",
       "      <td>9118.485757</td>\n",
       "      <td>47207.997883</td>\n",
       "      <td>1394.8993926275</td>\n",
       "      <td>19296.3288426945</td>\n",
       "      <td>285.840136</td>\n",
       "      <td>31.025050</td>\n",
       "      <td>NaN</td>\n",
       "    </tr>\n",
       "    <tr>\n",
       "      <th>7</th>\n",
       "      <td>5</td>\n",
       "      <td>Au53</td>\n",
       "      <td>21635.106571</td>\n",
       "      <td>15013.877702</td>\n",
       "      <td>36648.984274</td>\n",
       "      <td>6988.360757</td>\n",
       "      <td>46268.123502</td>\n",
       "      <td>1730.13032705656</td>\n",
       "      <td>15865.5454860459</td>\n",
       "      <td>265.159355</td>\n",
       "      <td>29.770982</td>\n",
       "      <td>NaN</td>\n",
       "    </tr>\n",
       "    <tr>\n",
       "      <th>8</th>\n",
       "      <td>9</td>\n",
       "      <td>Au53</td>\n",
       "      <td>22563.040451</td>\n",
       "      <td>12648.008949</td>\n",
       "      <td>35211.049400</td>\n",
       "      <td>10432.143429</td>\n",
       "      <td>40841.131830</td>\n",
       "      <td>1348.28810098257</td>\n",
       "      <td>22660.4840070055</td>\n",
       "      <td>301.044988</td>\n",
       "      <td>25.868277</td>\n",
       "      <td>NaN</td>\n",
       "    </tr>\n",
       "  </tbody>\n",
       "</table>\n",
       "</div>"
      ],
      "text/plain": [
       "   Tank Treatment      NitrateN     AmmoniumN        TotalN    Phosphorus  \\\n",
       "0     3   Control  18761.904841  10306.002208  29067.272500  12684.874373   \n",
       "1     4   Control  21645.354288  12437.070289  34081.642850  11491.501873   \n",
       "2     8   Control  16838.258788  10632.168232  27469.952475  10355.950873   \n",
       "3     1      Au47  20802.809014  11967.706838  31895.044325  12630.322442   \n",
       "4     6      Au47  21772.696629  11997.356846  33770.053475  10672.216286   \n",
       "5     2      Au47  17620.295796  13936.716929  31557.012725  11265.672917   \n",
       "6     7      Au53  20342.654221  13938.842429  34281.496650   9118.485757   \n",
       "7     5      Au53  21635.106571  15013.877702  36648.984274   6988.360757   \n",
       "8     9      Au53  22563.040451  12648.008949  35211.049400  10432.143429   \n",
       "\n",
       "      Potassium         Magnesium           Calcium        Iron      Boron  \\\n",
       "0  42136.987241         1504.5355         22010.605  222.039645  23.661832   \n",
       "1  44055.094673          1,635.42         18,548.59  278.240000  27.742095   \n",
       "2  43390.354388          1,383.34         16,853.25  238.930000  19.138933   \n",
       "3  41029.996115  1439.81973474096  26337.7301089178  335.542442  28.949213   \n",
       "4  47175.575986  1467.01863862725  21585.5732755892  316.188490  29.377145   \n",
       "5  42896.950847  1502.48748702529   24398.428146034  257.110626  25.003664   \n",
       "6  47207.997883   1394.8993926275  19296.3288426945  285.840136  31.025050   \n",
       "7  46268.123502  1730.13032705656  15865.5454860459  265.159355  29.770982   \n",
       "8  40841.131830  1348.28810098257  22660.4840070055  301.044988  25.868277   \n",
       "\n",
       "   New Column Name  \n",
       "0              NaN  \n",
       "1              NaN  \n",
       "2              NaN  \n",
       "3              NaN  \n",
       "4              NaN  \n",
       "5              NaN  \n",
       "6              NaN  \n",
       "7              NaN  \n",
       "8              NaN  "
      ]
     },
     "execution_count": 27,
     "metadata": {},
     "output_type": "execute_result"
    }
   ],
   "source": [
    "df_nutrients"
   ]
  },
  {
   "cell_type": "markdown",
   "metadata": {
    "slideshow": {
     "slide_type": "subslide"
    }
   },
   "source": [
    "In this case, the index is made up from numbers from 0 to 9, as we can check here:"
   ]
  },
  {
   "cell_type": "code",
   "execution_count": 28,
   "metadata": {
    "ExecuteTime": {
     "end_time": "2021-11-25T12:42:28.656763Z",
     "start_time": "2021-11-25T12:42:28.651293Z"
    },
    "slideshow": {
     "slide_type": "fragment"
    }
   },
   "outputs": [
    {
     "data": {
      "text/plain": [
       "RangeIndex(start=0, stop=9, step=1)"
      ]
     },
     "execution_count": 28,
     "metadata": {},
     "output_type": "execute_result"
    }
   ],
   "source": [
    "df_nutrients.index"
   ]
  },
  {
   "cell_type": "markdown",
   "metadata": {
    "slideshow": {
     "slide_type": "subslide"
    }
   },
   "source": [
    "To select a particular row using the index number, we need the ___index locator___ in the form:\n",
    "    \n",
    "    dataframe_name.iloc[ row_number ]"
   ]
  },
  {
   "cell_type": "code",
   "execution_count": 29,
   "metadata": {
    "ExecuteTime": {
     "end_time": "2021-11-25T12:42:28.663963Z",
     "start_time": "2021-11-25T12:42:28.657615Z"
    },
    "slideshow": {
     "slide_type": "fragment"
    }
   },
   "outputs": [
    {
     "data": {
      "text/plain": [
       "Tank                          8\n",
       "Treatment               Control\n",
       "NitrateN           16838.258788\n",
       "AmmoniumN          10632.168232\n",
       "TotalN             27469.952475\n",
       "Phosphorus         10355.950873\n",
       "Potassium          43390.354388\n",
       "Magnesium              1,383.34\n",
       "Calcium               16,853.25\n",
       "Iron                     238.93\n",
       "Boron                 19.138933\n",
       "New Column Name             NaN\n",
       "Name: 2, dtype: object"
      ]
     },
     "execution_count": 29,
     "metadata": {},
     "output_type": "execute_result"
    }
   ],
   "source": [
    "df_nutrients.iloc[ 2 ]"
   ]
  },
  {
   "cell_type": "markdown",
   "metadata": {
    "slideshow": {
     "slide_type": "subslide"
    }
   },
   "source": [
    "However, that is not commonly needed.\n",
    "\n",
    "More often, we select a group of rows according with a condition in a column. For example, we could select all rows from a certain treatment.\n",
    "\n",
    "We can select groups of rows using queries, as described below."
   ]
  },
  {
   "cell_type": "markdown",
   "metadata": {
    "slideshow": {
     "slide_type": "subslide"
    }
   },
   "source": [
    "### Queries"
   ]
  },
  {
   "cell_type": "markdown",
   "metadata": {
    "slideshow": {
     "slide_type": "fragment"
    }
   },
   "source": [
    "This section shows how to select the rows of a dataframe that fulfil a logical condition.\n",
    "\n",
    "The general syntax is:\n",
    "    \n",
    "    dataframe_name[ (condition) ]\n",
    "    \n",
    "And the form of the _condition_ that we will show here is written as:\n",
    "    \n",
    "    dataframe_name[ column ] == value\n",
    "    \n",
    "Of course, we can use other logical operators, not only *is equal to*: `==`, `<`, `>`, `<=`, `>=`."
   ]
  },
  {
   "cell_type": "markdown",
   "metadata": {
    "slideshow": {
     "slide_type": "subslide"
    }
   },
   "source": [
    "For example, we can select only the _control_ treatment from the nutrient dataframe as follows:"
   ]
  },
  {
   "cell_type": "code",
   "execution_count": 30,
   "metadata": {
    "ExecuteTime": {
     "end_time": "2021-11-25T12:42:28.676629Z",
     "start_time": "2021-11-25T12:42:28.664850Z"
    },
    "slideshow": {
     "slide_type": "fragment"
    }
   },
   "outputs": [
    {
     "data": {
      "text/html": [
       "<div>\n",
       "<style scoped>\n",
       "    .dataframe tbody tr th:only-of-type {\n",
       "        vertical-align: middle;\n",
       "    }\n",
       "\n",
       "    .dataframe tbody tr th {\n",
       "        vertical-align: top;\n",
       "    }\n",
       "\n",
       "    .dataframe thead th {\n",
       "        text-align: right;\n",
       "    }\n",
       "</style>\n",
       "<table border=\"1\" class=\"dataframe\">\n",
       "  <thead>\n",
       "    <tr style=\"text-align: right;\">\n",
       "      <th></th>\n",
       "      <th>Tank</th>\n",
       "      <th>Treatment</th>\n",
       "      <th>NitrateN</th>\n",
       "      <th>AmmoniumN</th>\n",
       "      <th>TotalN</th>\n",
       "      <th>Phosphorus</th>\n",
       "      <th>Potassium</th>\n",
       "      <th>Magnesium</th>\n",
       "      <th>Calcium</th>\n",
       "      <th>Iron</th>\n",
       "      <th>Boron</th>\n",
       "      <th>New Column Name</th>\n",
       "    </tr>\n",
       "  </thead>\n",
       "  <tbody>\n",
       "    <tr>\n",
       "      <th>0</th>\n",
       "      <td>3</td>\n",
       "      <td>Control</td>\n",
       "      <td>18761.904841</td>\n",
       "      <td>10306.002208</td>\n",
       "      <td>29067.272500</td>\n",
       "      <td>12684.874373</td>\n",
       "      <td>42136.987241</td>\n",
       "      <td>1504.5355</td>\n",
       "      <td>22010.605</td>\n",
       "      <td>222.039645</td>\n",
       "      <td>23.661832</td>\n",
       "      <td>NaN</td>\n",
       "    </tr>\n",
       "    <tr>\n",
       "      <th>1</th>\n",
       "      <td>4</td>\n",
       "      <td>Control</td>\n",
       "      <td>21645.354288</td>\n",
       "      <td>12437.070289</td>\n",
       "      <td>34081.642850</td>\n",
       "      <td>11491.501873</td>\n",
       "      <td>44055.094673</td>\n",
       "      <td>1,635.42</td>\n",
       "      <td>18,548.59</td>\n",
       "      <td>278.240000</td>\n",
       "      <td>27.742095</td>\n",
       "      <td>NaN</td>\n",
       "    </tr>\n",
       "    <tr>\n",
       "      <th>2</th>\n",
       "      <td>8</td>\n",
       "      <td>Control</td>\n",
       "      <td>16838.258788</td>\n",
       "      <td>10632.168232</td>\n",
       "      <td>27469.952475</td>\n",
       "      <td>10355.950873</td>\n",
       "      <td>43390.354388</td>\n",
       "      <td>1,383.34</td>\n",
       "      <td>16,853.25</td>\n",
       "      <td>238.930000</td>\n",
       "      <td>19.138933</td>\n",
       "      <td>NaN</td>\n",
       "    </tr>\n",
       "  </tbody>\n",
       "</table>\n",
       "</div>"
      ],
      "text/plain": [
       "   Tank Treatment      NitrateN     AmmoniumN        TotalN    Phosphorus  \\\n",
       "0     3   Control  18761.904841  10306.002208  29067.272500  12684.874373   \n",
       "1     4   Control  21645.354288  12437.070289  34081.642850  11491.501873   \n",
       "2     8   Control  16838.258788  10632.168232  27469.952475  10355.950873   \n",
       "\n",
       "      Potassium  Magnesium    Calcium        Iron      Boron  New Column Name  \n",
       "0  42136.987241  1504.5355  22010.605  222.039645  23.661832              NaN  \n",
       "1  44055.094673   1,635.42  18,548.59  278.240000  27.742095              NaN  \n",
       "2  43390.354388   1,383.34  16,853.25  238.930000  19.138933              NaN  "
      ]
     },
     "execution_count": 30,
     "metadata": {},
     "output_type": "execute_result"
    }
   ],
   "source": [
    "df_nutrients[ df_nutrients['Treatment']=='Control' ] # Get part of a table with a selection rule"
   ]
  },
  {
   "cell_type": "markdown",
   "metadata": {
    "slideshow": {
     "slide_type": "subslide"
    }
   },
   "source": [
    "Some people like to separate it in two lines, to have a better view of what is happening:"
   ]
  },
  {
   "cell_type": "code",
   "execution_count": 31,
   "metadata": {
    "ExecuteTime": {
     "end_time": "2021-11-25T12:42:28.688611Z",
     "start_time": "2021-11-25T12:42:28.677731Z"
    },
    "scrolled": true,
    "slideshow": {
     "slide_type": "fragment"
    }
   },
   "outputs": [
    {
     "data": {
      "text/html": [
       "<div>\n",
       "<style scoped>\n",
       "    .dataframe tbody tr th:only-of-type {\n",
       "        vertical-align: middle;\n",
       "    }\n",
       "\n",
       "    .dataframe tbody tr th {\n",
       "        vertical-align: top;\n",
       "    }\n",
       "\n",
       "    .dataframe thead th {\n",
       "        text-align: right;\n",
       "    }\n",
       "</style>\n",
       "<table border=\"1\" class=\"dataframe\">\n",
       "  <thead>\n",
       "    <tr style=\"text-align: right;\">\n",
       "      <th></th>\n",
       "      <th>Tank</th>\n",
       "      <th>Treatment</th>\n",
       "      <th>NitrateN</th>\n",
       "      <th>AmmoniumN</th>\n",
       "      <th>TotalN</th>\n",
       "      <th>Phosphorus</th>\n",
       "      <th>Potassium</th>\n",
       "      <th>Magnesium</th>\n",
       "      <th>Calcium</th>\n",
       "      <th>Iron</th>\n",
       "      <th>Boron</th>\n",
       "      <th>New Column Name</th>\n",
       "    </tr>\n",
       "  </thead>\n",
       "  <tbody>\n",
       "    <tr>\n",
       "      <th>0</th>\n",
       "      <td>3</td>\n",
       "      <td>Control</td>\n",
       "      <td>18761.904841</td>\n",
       "      <td>10306.002208</td>\n",
       "      <td>29067.272500</td>\n",
       "      <td>12684.874373</td>\n",
       "      <td>42136.987241</td>\n",
       "      <td>1504.5355</td>\n",
       "      <td>22010.605</td>\n",
       "      <td>222.039645</td>\n",
       "      <td>23.661832</td>\n",
       "      <td>NaN</td>\n",
       "    </tr>\n",
       "    <tr>\n",
       "      <th>1</th>\n",
       "      <td>4</td>\n",
       "      <td>Control</td>\n",
       "      <td>21645.354288</td>\n",
       "      <td>12437.070289</td>\n",
       "      <td>34081.642850</td>\n",
       "      <td>11491.501873</td>\n",
       "      <td>44055.094673</td>\n",
       "      <td>1,635.42</td>\n",
       "      <td>18,548.59</td>\n",
       "      <td>278.240000</td>\n",
       "      <td>27.742095</td>\n",
       "      <td>NaN</td>\n",
       "    </tr>\n",
       "    <tr>\n",
       "      <th>2</th>\n",
       "      <td>8</td>\n",
       "      <td>Control</td>\n",
       "      <td>16838.258788</td>\n",
       "      <td>10632.168232</td>\n",
       "      <td>27469.952475</td>\n",
       "      <td>10355.950873</td>\n",
       "      <td>43390.354388</td>\n",
       "      <td>1,383.34</td>\n",
       "      <td>16,853.25</td>\n",
       "      <td>238.930000</td>\n",
       "      <td>19.138933</td>\n",
       "      <td>NaN</td>\n",
       "    </tr>\n",
       "  </tbody>\n",
       "</table>\n",
       "</div>"
      ],
      "text/plain": [
       "   Tank Treatment      NitrateN     AmmoniumN        TotalN    Phosphorus  \\\n",
       "0     3   Control  18761.904841  10306.002208  29067.272500  12684.874373   \n",
       "1     4   Control  21645.354288  12437.070289  34081.642850  11491.501873   \n",
       "2     8   Control  16838.258788  10632.168232  27469.952475  10355.950873   \n",
       "\n",
       "      Potassium  Magnesium    Calcium        Iron      Boron  New Column Name  \n",
       "0  42136.987241  1504.5355  22010.605  222.039645  23.661832              NaN  \n",
       "1  44055.094673   1,635.42  18,548.59  278.240000  27.742095              NaN  \n",
       "2  43390.354388   1,383.34  16,853.25  238.930000  19.138933              NaN  "
      ]
     },
     "execution_count": 31,
     "metadata": {},
     "output_type": "execute_result"
    }
   ],
   "source": [
    "condition = df_nutrients['Treatment']=='Control' # First define the selection rule\n",
    "df_nutrients[ condition ] # Then get the part of the table"
   ]
  },
  {
   "cell_type": "markdown",
   "metadata": {
    "slideshow": {
     "slide_type": "fragment"
    }
   },
   "source": [
    "The result is exactly the same, feel free to use the form that best fit your needs!"
   ]
  },
  {
   "cell_type": "markdown",
   "metadata": {
    "slideshow": {
     "slide_type": "subslide"
    }
   },
   "source": [
    "#### More than one logical condition"
   ]
  },
  {
   "cell_type": "markdown",
   "metadata": {
    "slideshow": {
     "slide_type": "fragment"
    }
   },
   "source": [
    "Sometimes, we need to look for parts of a data frame that fulfil more than one logical condition.\n",
    "\n",
    "Following with out example, the nutrients in the lettuce experiment, we could look for:\n",
    "* cases where an element in a treatment falls above or under a certain treshold, for example, cases with low nitrogen in the control treatment\n",
    "* cases where two elements are above or under a treshold value, like very low values of iron and boron\n",
    "* cases where a value is outside a range, "
   ]
  },
  {
   "cell_type": "markdown",
   "metadata": {
    "slideshow": {
     "slide_type": "subslide"
    }
   },
   "source": [
    "Note: In these cases we must use ___bitwise logical operators___, which are & |:\n",
    "* & → ___and___ → condition 1 & condition2\n",
    "* | → ___or___ → condition 1 | condition2"
   ]
  },
  {
   "cell_type": "code",
   "execution_count": 32,
   "metadata": {
    "ExecuteTime": {
     "end_time": "2021-11-25T12:42:28.702943Z",
     "start_time": "2021-11-25T12:42:28.689452Z"
    },
    "slideshow": {
     "slide_type": "fragment"
    }
   },
   "outputs": [
    {
     "data": {
      "text/html": [
       "<div>\n",
       "<style scoped>\n",
       "    .dataframe tbody tr th:only-of-type {\n",
       "        vertical-align: middle;\n",
       "    }\n",
       "\n",
       "    .dataframe tbody tr th {\n",
       "        vertical-align: top;\n",
       "    }\n",
       "\n",
       "    .dataframe thead th {\n",
       "        text-align: right;\n",
       "    }\n",
       "</style>\n",
       "<table border=\"1\" class=\"dataframe\">\n",
       "  <thead>\n",
       "    <tr style=\"text-align: right;\">\n",
       "      <th></th>\n",
       "      <th>Tank</th>\n",
       "      <th>Treatment</th>\n",
       "      <th>NitrateN</th>\n",
       "      <th>AmmoniumN</th>\n",
       "      <th>TotalN</th>\n",
       "      <th>Phosphorus</th>\n",
       "      <th>Potassium</th>\n",
       "      <th>Magnesium</th>\n",
       "      <th>Calcium</th>\n",
       "      <th>Iron</th>\n",
       "      <th>Boron</th>\n",
       "      <th>New Column Name</th>\n",
       "    </tr>\n",
       "  </thead>\n",
       "  <tbody>\n",
       "    <tr>\n",
       "      <th>0</th>\n",
       "      <td>3</td>\n",
       "      <td>Control</td>\n",
       "      <td>18761.904841</td>\n",
       "      <td>10306.002208</td>\n",
       "      <td>29067.272500</td>\n",
       "      <td>12684.874373</td>\n",
       "      <td>42136.987241</td>\n",
       "      <td>1504.5355</td>\n",
       "      <td>22010.605</td>\n",
       "      <td>222.039645</td>\n",
       "      <td>23.661832</td>\n",
       "      <td>NaN</td>\n",
       "    </tr>\n",
       "    <tr>\n",
       "      <th>2</th>\n",
       "      <td>8</td>\n",
       "      <td>Control</td>\n",
       "      <td>16838.258788</td>\n",
       "      <td>10632.168232</td>\n",
       "      <td>27469.952475</td>\n",
       "      <td>10355.950873</td>\n",
       "      <td>43390.354388</td>\n",
       "      <td>1,383.34</td>\n",
       "      <td>16,853.25</td>\n",
       "      <td>238.930000</td>\n",
       "      <td>19.138933</td>\n",
       "      <td>NaN</td>\n",
       "    </tr>\n",
       "  </tbody>\n",
       "</table>\n",
       "</div>"
      ],
      "text/plain": [
       "   Tank Treatment      NitrateN     AmmoniumN        TotalN    Phosphorus  \\\n",
       "0     3   Control  18761.904841  10306.002208  29067.272500  12684.874373   \n",
       "2     8   Control  16838.258788  10632.168232  27469.952475  10355.950873   \n",
       "\n",
       "      Potassium  Magnesium    Calcium        Iron      Boron  New Column Name  \n",
       "0  42136.987241  1504.5355  22010.605  222.039645  23.661832              NaN  \n",
       "2  43390.354388   1,383.34  16,853.25  238.930000  19.138933              NaN  "
      ]
     },
     "execution_count": 32,
     "metadata": {},
     "output_type": "execute_result"
    }
   ],
   "source": [
    "df_nutrients[ (df_nutrients['Treatment']=='Control') & (df_nutrients['NitrateN']<20000) ]"
   ]
  },
  {
   "cell_type": "markdown",
   "metadata": {
    "slideshow": {
     "slide_type": "subslide"
    }
   },
   "source": [
    "Again, we can write the code in one or more lines with the same result."
   ]
  },
  {
   "cell_type": "code",
   "execution_count": 33,
   "metadata": {
    "ExecuteTime": {
     "end_time": "2021-11-25T12:42:28.715403Z",
     "start_time": "2021-11-25T12:42:28.703827Z"
    },
    "slideshow": {
     "slide_type": "fragment"
    }
   },
   "outputs": [
    {
     "data": {
      "text/html": [
       "<div>\n",
       "<style scoped>\n",
       "    .dataframe tbody tr th:only-of-type {\n",
       "        vertical-align: middle;\n",
       "    }\n",
       "\n",
       "    .dataframe tbody tr th {\n",
       "        vertical-align: top;\n",
       "    }\n",
       "\n",
       "    .dataframe thead th {\n",
       "        text-align: right;\n",
       "    }\n",
       "</style>\n",
       "<table border=\"1\" class=\"dataframe\">\n",
       "  <thead>\n",
       "    <tr style=\"text-align: right;\">\n",
       "      <th></th>\n",
       "      <th>Tank</th>\n",
       "      <th>Treatment</th>\n",
       "      <th>NitrateN</th>\n",
       "      <th>AmmoniumN</th>\n",
       "      <th>TotalN</th>\n",
       "      <th>Phosphorus</th>\n",
       "      <th>Potassium</th>\n",
       "      <th>Magnesium</th>\n",
       "      <th>Calcium</th>\n",
       "      <th>Iron</th>\n",
       "      <th>Boron</th>\n",
       "      <th>New Column Name</th>\n",
       "    </tr>\n",
       "  </thead>\n",
       "  <tbody>\n",
       "    <tr>\n",
       "      <th>0</th>\n",
       "      <td>3</td>\n",
       "      <td>Control</td>\n",
       "      <td>18761.904841</td>\n",
       "      <td>10306.002208</td>\n",
       "      <td>29067.272500</td>\n",
       "      <td>12684.874373</td>\n",
       "      <td>42136.987241</td>\n",
       "      <td>1504.5355</td>\n",
       "      <td>22010.605</td>\n",
       "      <td>222.039645</td>\n",
       "      <td>23.661832</td>\n",
       "      <td>NaN</td>\n",
       "    </tr>\n",
       "    <tr>\n",
       "      <th>2</th>\n",
       "      <td>8</td>\n",
       "      <td>Control</td>\n",
       "      <td>16838.258788</td>\n",
       "      <td>10632.168232</td>\n",
       "      <td>27469.952475</td>\n",
       "      <td>10355.950873</td>\n",
       "      <td>43390.354388</td>\n",
       "      <td>1,383.34</td>\n",
       "      <td>16,853.25</td>\n",
       "      <td>238.930000</td>\n",
       "      <td>19.138933</td>\n",
       "      <td>NaN</td>\n",
       "    </tr>\n",
       "  </tbody>\n",
       "</table>\n",
       "</div>"
      ],
      "text/plain": [
       "   Tank Treatment      NitrateN     AmmoniumN        TotalN    Phosphorus  \\\n",
       "0     3   Control  18761.904841  10306.002208  29067.272500  12684.874373   \n",
       "2     8   Control  16838.258788  10632.168232  27469.952475  10355.950873   \n",
       "\n",
       "      Potassium  Magnesium    Calcium        Iron      Boron  New Column Name  \n",
       "0  42136.987241  1504.5355  22010.605  222.039645  23.661832              NaN  \n",
       "2  43390.354388   1,383.34  16,853.25  238.930000  19.138933              NaN  "
      ]
     },
     "execution_count": 33,
     "metadata": {},
     "output_type": "execute_result"
    }
   ],
   "source": [
    "control_treatment = df_nutrients['Treatment']=='Control' # First condition\n",
    "\n",
    "low_nitrate = df_nutrients['NitrateN']<20000 # Second condition\n",
    "\n",
    "df_nutrients[ control_treatment & low_nitrate ]"
   ]
  },
  {
   "cell_type": "markdown",
   "metadata": {
    "slideshow": {
     "slide_type": "subslide"
    }
   },
   "source": [
    "Another example: Select the rows with low Iron or low Boron"
   ]
  },
  {
   "cell_type": "code",
   "execution_count": 34,
   "metadata": {
    "ExecuteTime": {
     "end_time": "2021-11-25T12:42:28.727710Z",
     "start_time": "2021-11-25T12:42:28.716572Z"
    },
    "slideshow": {
     "slide_type": "fragment"
    }
   },
   "outputs": [
    {
     "data": {
      "text/html": [
       "<div>\n",
       "<style scoped>\n",
       "    .dataframe tbody tr th:only-of-type {\n",
       "        vertical-align: middle;\n",
       "    }\n",
       "\n",
       "    .dataframe tbody tr th {\n",
       "        vertical-align: top;\n",
       "    }\n",
       "\n",
       "    .dataframe thead th {\n",
       "        text-align: right;\n",
       "    }\n",
       "</style>\n",
       "<table border=\"1\" class=\"dataframe\">\n",
       "  <thead>\n",
       "    <tr style=\"text-align: right;\">\n",
       "      <th></th>\n",
       "      <th>Tank</th>\n",
       "      <th>Treatment</th>\n",
       "      <th>NitrateN</th>\n",
       "      <th>AmmoniumN</th>\n",
       "      <th>TotalN</th>\n",
       "      <th>Phosphorus</th>\n",
       "      <th>Potassium</th>\n",
       "      <th>Magnesium</th>\n",
       "      <th>Calcium</th>\n",
       "      <th>Iron</th>\n",
       "      <th>Boron</th>\n",
       "      <th>New Column Name</th>\n",
       "    </tr>\n",
       "  </thead>\n",
       "  <tbody>\n",
       "    <tr>\n",
       "      <th>0</th>\n",
       "      <td>3</td>\n",
       "      <td>Control</td>\n",
       "      <td>18761.904841</td>\n",
       "      <td>10306.002208</td>\n",
       "      <td>29067.272500</td>\n",
       "      <td>12684.874373</td>\n",
       "      <td>42136.987241</td>\n",
       "      <td>1504.5355</td>\n",
       "      <td>22010.605</td>\n",
       "      <td>222.039645</td>\n",
       "      <td>23.661832</td>\n",
       "      <td>NaN</td>\n",
       "    </tr>\n",
       "    <tr>\n",
       "      <th>2</th>\n",
       "      <td>8</td>\n",
       "      <td>Control</td>\n",
       "      <td>16838.258788</td>\n",
       "      <td>10632.168232</td>\n",
       "      <td>27469.952475</td>\n",
       "      <td>10355.950873</td>\n",
       "      <td>43390.354388</td>\n",
       "      <td>1,383.34</td>\n",
       "      <td>16,853.25</td>\n",
       "      <td>238.930000</td>\n",
       "      <td>19.138933</td>\n",
       "      <td>NaN</td>\n",
       "    </tr>\n",
       "  </tbody>\n",
       "</table>\n",
       "</div>"
      ],
      "text/plain": [
       "   Tank Treatment      NitrateN     AmmoniumN        TotalN    Phosphorus  \\\n",
       "0     3   Control  18761.904841  10306.002208  29067.272500  12684.874373   \n",
       "2     8   Control  16838.258788  10632.168232  27469.952475  10355.950873   \n",
       "\n",
       "      Potassium  Magnesium    Calcium        Iron      Boron  New Column Name  \n",
       "0  42136.987241  1504.5355  22010.605  222.039645  23.661832              NaN  \n",
       "2  43390.354388   1,383.34  16,853.25  238.930000  19.138933              NaN  "
      ]
     },
     "execution_count": 34,
     "metadata": {},
     "output_type": "execute_result"
    }
   ],
   "source": [
    "low_iron = df_nutrients['Iron']<250 # First condition\n",
    "\n",
    "low_boron = df_nutrients['Boron']<20 # Second condition\n",
    "\n",
    "df_nutrients[ low_iron | low_boron ]"
   ]
  },
  {
   "cell_type": "markdown",
   "metadata": {
    "slideshow": {
     "slide_type": "subslide"
    }
   },
   "source": [
    "#### Calculate on part of a data frame"
   ]
  },
  {
   "cell_type": "markdown",
   "metadata": {
    "slideshow": {
     "slide_type": "fragment"
    }
   },
   "source": [
    "After selecting part of a data frame we can make calculations, like the average of a treatment."
   ]
  },
  {
   "cell_type": "code",
   "execution_count": 35,
   "metadata": {
    "ExecuteTime": {
     "end_time": "2021-11-25T12:42:28.732842Z",
     "start_time": "2021-11-25T12:42:28.728854Z"
    },
    "slideshow": {
     "slide_type": "fragment"
    }
   },
   "outputs": [],
   "source": [
    "control_selection = df_nutrients[ 'Treatment' ] == 'Control' # Selection condition\n",
    "# print( control_selection ) # You can activate this line if you feel curious about what is inside that list"
   ]
  },
  {
   "cell_type": "code",
   "execution_count": 36,
   "metadata": {
    "ExecuteTime": {
     "end_time": "2021-11-25T12:42:28.758996Z",
     "start_time": "2021-11-25T12:42:28.733758Z"
    },
    "slideshow": {
     "slide_type": "subslide"
    }
   },
   "outputs": [
    {
     "data": {
      "text/html": [
       "<div>\n",
       "<style scoped>\n",
       "    .dataframe tbody tr th:only-of-type {\n",
       "        vertical-align: middle;\n",
       "    }\n",
       "\n",
       "    .dataframe tbody tr th {\n",
       "        vertical-align: top;\n",
       "    }\n",
       "\n",
       "    .dataframe thead th {\n",
       "        text-align: right;\n",
       "    }\n",
       "</style>\n",
       "<table border=\"1\" class=\"dataframe\">\n",
       "  <thead>\n",
       "    <tr style=\"text-align: right;\">\n",
       "      <th></th>\n",
       "      <th>Tank</th>\n",
       "      <th>NitrateN</th>\n",
       "      <th>AmmoniumN</th>\n",
       "      <th>TotalN</th>\n",
       "      <th>Phosphorus</th>\n",
       "      <th>Potassium</th>\n",
       "      <th>Iron</th>\n",
       "      <th>Boron</th>\n",
       "      <th>New Column Name</th>\n",
       "    </tr>\n",
       "  </thead>\n",
       "  <tbody>\n",
       "    <tr>\n",
       "      <th>count</th>\n",
       "      <td>3.000000</td>\n",
       "      <td>3.000000</td>\n",
       "      <td>3.000000</td>\n",
       "      <td>3.000000</td>\n",
       "      <td>3.000000</td>\n",
       "      <td>3.000000</td>\n",
       "      <td>3.000000</td>\n",
       "      <td>3.000000</td>\n",
       "      <td>0.0</td>\n",
       "    </tr>\n",
       "    <tr>\n",
       "      <th>mean</th>\n",
       "      <td>5.000000</td>\n",
       "      <td>19081.839305</td>\n",
       "      <td>11125.080243</td>\n",
       "      <td>30206.289275</td>\n",
       "      <td>11510.775707</td>\n",
       "      <td>43194.145434</td>\n",
       "      <td>246.403215</td>\n",
       "      <td>23.514287</td>\n",
       "      <td>NaN</td>\n",
       "    </tr>\n",
       "    <tr>\n",
       "      <th>std</th>\n",
       "      <td>2.645751</td>\n",
       "      <td>2419.464886</td>\n",
       "      <td>1147.860827</td>\n",
       "      <td>3449.874174</td>\n",
       "      <td>1164.581374</td>\n",
       "      <td>973.990501</td>\n",
       "      <td>28.835858</td>\n",
       "      <td>4.303478</td>\n",
       "      <td>NaN</td>\n",
       "    </tr>\n",
       "    <tr>\n",
       "      <th>min</th>\n",
       "      <td>3.000000</td>\n",
       "      <td>16838.258788</td>\n",
       "      <td>10306.002208</td>\n",
       "      <td>27469.952475</td>\n",
       "      <td>10355.950873</td>\n",
       "      <td>42136.987241</td>\n",
       "      <td>222.039645</td>\n",
       "      <td>19.138933</td>\n",
       "      <td>NaN</td>\n",
       "    </tr>\n",
       "    <tr>\n",
       "      <th>25%</th>\n",
       "      <td>3.500000</td>\n",
       "      <td>17800.081814</td>\n",
       "      <td>10469.085220</td>\n",
       "      <td>28268.612487</td>\n",
       "      <td>10923.726373</td>\n",
       "      <td>42763.670815</td>\n",
       "      <td>230.484823</td>\n",
       "      <td>21.400383</td>\n",
       "      <td>NaN</td>\n",
       "    </tr>\n",
       "    <tr>\n",
       "      <th>50%</th>\n",
       "      <td>4.000000</td>\n",
       "      <td>18761.904841</td>\n",
       "      <td>10632.168232</td>\n",
       "      <td>29067.272500</td>\n",
       "      <td>11491.501873</td>\n",
       "      <td>43390.354388</td>\n",
       "      <td>238.930000</td>\n",
       "      <td>23.661832</td>\n",
       "      <td>NaN</td>\n",
       "    </tr>\n",
       "    <tr>\n",
       "      <th>75%</th>\n",
       "      <td>6.000000</td>\n",
       "      <td>20203.629564</td>\n",
       "      <td>11534.619261</td>\n",
       "      <td>31574.457675</td>\n",
       "      <td>12088.188123</td>\n",
       "      <td>43722.724531</td>\n",
       "      <td>258.585000</td>\n",
       "      <td>25.701964</td>\n",
       "      <td>NaN</td>\n",
       "    </tr>\n",
       "    <tr>\n",
       "      <th>max</th>\n",
       "      <td>8.000000</td>\n",
       "      <td>21645.354288</td>\n",
       "      <td>12437.070289</td>\n",
       "      <td>34081.642850</td>\n",
       "      <td>12684.874373</td>\n",
       "      <td>44055.094673</td>\n",
       "      <td>278.240000</td>\n",
       "      <td>27.742095</td>\n",
       "      <td>NaN</td>\n",
       "    </tr>\n",
       "  </tbody>\n",
       "</table>\n",
       "</div>"
      ],
      "text/plain": [
       "           Tank      NitrateN     AmmoniumN        TotalN    Phosphorus  \\\n",
       "count  3.000000      3.000000      3.000000      3.000000      3.000000   \n",
       "mean   5.000000  19081.839305  11125.080243  30206.289275  11510.775707   \n",
       "std    2.645751   2419.464886   1147.860827   3449.874174   1164.581374   \n",
       "min    3.000000  16838.258788  10306.002208  27469.952475  10355.950873   \n",
       "25%    3.500000  17800.081814  10469.085220  28268.612487  10923.726373   \n",
       "50%    4.000000  18761.904841  10632.168232  29067.272500  11491.501873   \n",
       "75%    6.000000  20203.629564  11534.619261  31574.457675  12088.188123   \n",
       "max    8.000000  21645.354288  12437.070289  34081.642850  12684.874373   \n",
       "\n",
       "          Potassium        Iron      Boron  New Column Name  \n",
       "count      3.000000    3.000000   3.000000              0.0  \n",
       "mean   43194.145434  246.403215  23.514287              NaN  \n",
       "std      973.990501   28.835858   4.303478              NaN  \n",
       "min    42136.987241  222.039645  19.138933              NaN  \n",
       "25%    42763.670815  230.484823  21.400383              NaN  \n",
       "50%    43390.354388  238.930000  23.661832              NaN  \n",
       "75%    43722.724531  258.585000  25.701964              NaN  \n",
       "max    44055.094673  278.240000  27.742095              NaN  "
      ]
     },
     "execution_count": 36,
     "metadata": {},
     "output_type": "execute_result"
    }
   ],
   "source": [
    "df_nutrients[ control_selection ].describe()"
   ]
  },
  {
   "cell_type": "markdown",
   "metadata": {
    "slideshow": {
     "slide_type": "subslide"
    }
   },
   "source": [
    "And we can also select several columns, either in a single line:"
   ]
  },
  {
   "cell_type": "code",
   "execution_count": 37,
   "metadata": {
    "ExecuteTime": {
     "end_time": "2021-11-25T12:42:28.765322Z",
     "start_time": "2021-11-25T12:42:28.759824Z"
    },
    "scrolled": true,
    "slideshow": {
     "slide_type": "fragment"
    }
   },
   "outputs": [
    {
     "data": {
      "text/plain": [
       "NitrateN    19081.839305\n",
       "Iron          246.403215\n",
       "dtype: float64"
      ]
     },
     "execution_count": 37,
     "metadata": {},
     "output_type": "execute_result"
    }
   ],
   "source": [
    "df_nutrients[ control_selection ][ [ 'NitrateN', 'Iron' ] ].mean()"
   ]
  },
  {
   "cell_type": "markdown",
   "metadata": {
    "slideshow": {
     "slide_type": "fragment"
    }
   },
   "source": [
    "or splitting in two lines of code:"
   ]
  },
  {
   "cell_type": "code",
   "execution_count": 38,
   "metadata": {
    "ExecuteTime": {
     "end_time": "2021-11-25T12:42:28.772639Z",
     "start_time": "2021-11-25T12:42:28.766303Z"
    },
    "slideshow": {
     "slide_type": "fragment"
    }
   },
   "outputs": [
    {
     "data": {
      "text/plain": [
       "NitrateN    19081.839305\n",
       "Iron          246.403215\n",
       "dtype: float64"
      ]
     },
     "execution_count": 38,
     "metadata": {},
     "output_type": "execute_result"
    }
   ],
   "source": [
    "interesting_elements = [ 'NitrateN', 'Iron' ]\n",
    "df_nutrients[ control_selection ][ interesting_elements ].mean()"
   ]
  },
  {
   "cell_type": "markdown",
   "metadata": {
    "slideshow": {
     "slide_type": "subslide"
    }
   },
   "source": [
    "Lastly, you can use the function `.groupby()` to get the descriptive statistics of the whole table, but by groups. For example, for each tratment:"
   ]
  },
  {
   "cell_type": "code",
   "execution_count": 39,
   "metadata": {
    "ExecuteTime": {
     "end_time": "2021-11-25T12:42:28.785677Z",
     "start_time": "2021-11-25T12:42:28.773578Z"
    },
    "slideshow": {
     "slide_type": "fragment"
    }
   },
   "outputs": [
    {
     "data": {
      "text/html": [
       "<div>\n",
       "<style scoped>\n",
       "    .dataframe tbody tr th:only-of-type {\n",
       "        vertical-align: middle;\n",
       "    }\n",
       "\n",
       "    .dataframe tbody tr th {\n",
       "        vertical-align: top;\n",
       "    }\n",
       "\n",
       "    .dataframe thead th {\n",
       "        text-align: right;\n",
       "    }\n",
       "</style>\n",
       "<table border=\"1\" class=\"dataframe\">\n",
       "  <thead>\n",
       "    <tr style=\"text-align: right;\">\n",
       "      <th></th>\n",
       "      <th>Tank</th>\n",
       "      <th>NitrateN</th>\n",
       "      <th>AmmoniumN</th>\n",
       "      <th>TotalN</th>\n",
       "      <th>Phosphorus</th>\n",
       "      <th>Potassium</th>\n",
       "      <th>Iron</th>\n",
       "      <th>Boron</th>\n",
       "      <th>New Column Name</th>\n",
       "    </tr>\n",
       "    <tr>\n",
       "      <th>Treatment</th>\n",
       "      <th></th>\n",
       "      <th></th>\n",
       "      <th></th>\n",
       "      <th></th>\n",
       "      <th></th>\n",
       "      <th></th>\n",
       "      <th></th>\n",
       "      <th></th>\n",
       "      <th></th>\n",
       "    </tr>\n",
       "  </thead>\n",
       "  <tbody>\n",
       "    <tr>\n",
       "      <th>Au47</th>\n",
       "      <td>3.0</td>\n",
       "      <td>20065.267146</td>\n",
       "      <td>12633.926871</td>\n",
       "      <td>32407.370175</td>\n",
       "      <td>11522.737215</td>\n",
       "      <td>43700.840983</td>\n",
       "      <td>302.947186</td>\n",
       "      <td>27.776674</td>\n",
       "      <td>NaN</td>\n",
       "    </tr>\n",
       "    <tr>\n",
       "      <th>Au53</th>\n",
       "      <td>7.0</td>\n",
       "      <td>21513.600415</td>\n",
       "      <td>13866.909693</td>\n",
       "      <td>35380.510108</td>\n",
       "      <td>8846.329981</td>\n",
       "      <td>44772.417738</td>\n",
       "      <td>284.014827</td>\n",
       "      <td>28.888103</td>\n",
       "      <td>NaN</td>\n",
       "    </tr>\n",
       "    <tr>\n",
       "      <th>Control</th>\n",
       "      <td>5.0</td>\n",
       "      <td>19081.839305</td>\n",
       "      <td>11125.080243</td>\n",
       "      <td>30206.289275</td>\n",
       "      <td>11510.775707</td>\n",
       "      <td>43194.145434</td>\n",
       "      <td>246.403215</td>\n",
       "      <td>23.514287</td>\n",
       "      <td>NaN</td>\n",
       "    </tr>\n",
       "  </tbody>\n",
       "</table>\n",
       "</div>"
      ],
      "text/plain": [
       "           Tank      NitrateN     AmmoniumN        TotalN    Phosphorus  \\\n",
       "Treatment                                                                 \n",
       "Au47        3.0  20065.267146  12633.926871  32407.370175  11522.737215   \n",
       "Au53        7.0  21513.600415  13866.909693  35380.510108   8846.329981   \n",
       "Control     5.0  19081.839305  11125.080243  30206.289275  11510.775707   \n",
       "\n",
       "              Potassium        Iron      Boron  New Column Name  \n",
       "Treatment                                                        \n",
       "Au47       43700.840983  302.947186  27.776674              NaN  \n",
       "Au53       44772.417738  284.014827  28.888103              NaN  \n",
       "Control    43194.145434  246.403215  23.514287              NaN  "
      ]
     },
     "execution_count": 39,
     "metadata": {},
     "output_type": "execute_result"
    }
   ],
   "source": [
    "df_nutrients.groupby( 'Treatment' ).mean()"
   ]
  },
  {
   "cell_type": "code",
   "execution_count": 40,
   "metadata": {
    "ExecuteTime": {
     "end_time": "2021-11-25T12:42:28.801790Z",
     "start_time": "2021-11-25T12:42:28.786563Z"
    },
    "slideshow": {
     "slide_type": "subslide"
    }
   },
   "outputs": [
    {
     "data": {
      "text/html": [
       "<div>\n",
       "<style scoped>\n",
       "    .dataframe tbody tr th:only-of-type {\n",
       "        vertical-align: middle;\n",
       "    }\n",
       "\n",
       "    .dataframe tbody tr th {\n",
       "        vertical-align: top;\n",
       "    }\n",
       "\n",
       "    .dataframe thead th {\n",
       "        text-align: right;\n",
       "    }\n",
       "</style>\n",
       "<table border=\"1\" class=\"dataframe\">\n",
       "  <thead>\n",
       "    <tr style=\"text-align: right;\">\n",
       "      <th></th>\n",
       "      <th>Tank</th>\n",
       "      <th>NitrateN</th>\n",
       "      <th>AmmoniumN</th>\n",
       "      <th>TotalN</th>\n",
       "      <th>Phosphorus</th>\n",
       "      <th>Potassium</th>\n",
       "      <th>Magnesium</th>\n",
       "      <th>Calcium</th>\n",
       "      <th>Iron</th>\n",
       "      <th>Boron</th>\n",
       "      <th>New Column Name</th>\n",
       "    </tr>\n",
       "    <tr>\n",
       "      <th>Treatment</th>\n",
       "      <th></th>\n",
       "      <th></th>\n",
       "      <th></th>\n",
       "      <th></th>\n",
       "      <th></th>\n",
       "      <th></th>\n",
       "      <th></th>\n",
       "      <th></th>\n",
       "      <th></th>\n",
       "      <th></th>\n",
       "      <th></th>\n",
       "    </tr>\n",
       "  </thead>\n",
       "  <tbody>\n",
       "    <tr>\n",
       "      <th>Au47</th>\n",
       "      <td>1</td>\n",
       "      <td>17620.295796</td>\n",
       "      <td>11967.706838</td>\n",
       "      <td>31557.012725</td>\n",
       "      <td>10672.216286</td>\n",
       "      <td>41029.996115</td>\n",
       "      <td>1439.81973474096</td>\n",
       "      <td>21585.5732755892</td>\n",
       "      <td>257.110626</td>\n",
       "      <td>25.003664</td>\n",
       "      <td>NaN</td>\n",
       "    </tr>\n",
       "    <tr>\n",
       "      <th>Au53</th>\n",
       "      <td>5</td>\n",
       "      <td>20342.654221</td>\n",
       "      <td>12648.008949</td>\n",
       "      <td>34281.496650</td>\n",
       "      <td>6988.360757</td>\n",
       "      <td>40841.131830</td>\n",
       "      <td>1348.28810098257</td>\n",
       "      <td>15865.5454860459</td>\n",
       "      <td>265.159355</td>\n",
       "      <td>25.868277</td>\n",
       "      <td>NaN</td>\n",
       "    </tr>\n",
       "    <tr>\n",
       "      <th>Control</th>\n",
       "      <td>3</td>\n",
       "      <td>16838.258788</td>\n",
       "      <td>10306.002208</td>\n",
       "      <td>27469.952475</td>\n",
       "      <td>10355.950873</td>\n",
       "      <td>42136.987241</td>\n",
       "      <td>1,383.34</td>\n",
       "      <td>16,853.25</td>\n",
       "      <td>222.039645</td>\n",
       "      <td>19.138933</td>\n",
       "      <td>NaN</td>\n",
       "    </tr>\n",
       "  </tbody>\n",
       "</table>\n",
       "</div>"
      ],
      "text/plain": [
       "           Tank      NitrateN     AmmoniumN        TotalN    Phosphorus  \\\n",
       "Treatment                                                                 \n",
       "Au47          1  17620.295796  11967.706838  31557.012725  10672.216286   \n",
       "Au53          5  20342.654221  12648.008949  34281.496650   6988.360757   \n",
       "Control       3  16838.258788  10306.002208  27469.952475  10355.950873   \n",
       "\n",
       "              Potassium         Magnesium           Calcium        Iron  \\\n",
       "Treatment                                                                 \n",
       "Au47       41029.996115  1439.81973474096  21585.5732755892  257.110626   \n",
       "Au53       40841.131830  1348.28810098257  15865.5454860459  265.159355   \n",
       "Control    42136.987241          1,383.34         16,853.25  222.039645   \n",
       "\n",
       "               Boron  New Column Name  \n",
       "Treatment                              \n",
       "Au47       25.003664              NaN  \n",
       "Au53       25.868277              NaN  \n",
       "Control    19.138933              NaN  "
      ]
     },
     "execution_count": 40,
     "metadata": {},
     "output_type": "execute_result"
    }
   ],
   "source": [
    "df_nutrients.groupby( 'Treatment' ).min()"
   ]
  },
  {
   "cell_type": "markdown",
   "metadata": {
    "slideshow": {
     "slide_type": "subslide"
    }
   },
   "source": [
    "There are many more applications and uses of these (and other) pandas functions, but they may be stuff for a more advanced course. This introduction aims at giving you only an idea of what can be done and the first steps to get you started!"
   ]
  },
  {
   "cell_type": "markdown",
   "metadata": {
    "slideshow": {
     "slide_type": "slide"
    }
   },
   "source": [
    "## Time Series. Resample."
   ]
  },
  {
   "cell_type": "markdown",
   "metadata": {
    "slideshow": {
     "slide_type": "subslide"
    }
   },
   "source": [
    "`pandas` has a very useful set of functions to deal with time series data, that is, data that are ordered in time."
   ]
  },
  {
   "cell_type": "markdown",
   "metadata": {
    "slideshow": {
     "slide_type": "fragment"
    }
   },
   "source": [
    "For this introductory tutorial, we will limit ourselves to the following:\n",
    "* making a time index for a data frame\n",
    "* selecting rows between times, using `pd.Timestamp`\n",
    "* using `pd.resample` to calculate averages"
   ]
  },
  {
   "cell_type": "markdown",
   "metadata": {
    "slideshow": {
     "slide_type": "subslide"
    }
   },
   "source": [
    "We will use data from climate sensors from the meteorological station at the agroforestry plot from the HNEE."
   ]
  },
  {
   "cell_type": "markdown",
   "metadata": {
    "ExecuteTime": {
     "end_time": "2021-11-10T21:51:24.146275Z",
     "start_time": "2021-11-10T21:51:24.137865Z"
    },
    "slideshow": {
     "slide_type": "fragment"
    }
   },
   "source": [
    "<img src='img/agroforst.png' width='300'>"
   ]
  },
  {
   "cell_type": "markdown",
   "metadata": {
    "slideshow": {
     "slide_type": "subslide"
    }
   },
   "source": [
    "The data is in another excel file, which we import as follows:"
   ]
  },
  {
   "cell_type": "code",
   "execution_count": 41,
   "metadata": {
    "ExecuteTime": {
     "end_time": "2021-11-25T12:42:28.821291Z",
     "start_time": "2021-11-25T12:42:28.802678Z"
    },
    "slideshow": {
     "slide_type": "fragment"
    }
   },
   "outputs": [],
   "source": [
    "df_climate = pd.read_csv( 'data/agroforst1.csv', sep=';' )"
   ]
  },
  {
   "cell_type": "code",
   "execution_count": 42,
   "metadata": {
    "ExecuteTime": {
     "end_time": "2021-11-25T12:42:28.828448Z",
     "start_time": "2021-11-25T12:42:28.822186Z"
    },
    "slideshow": {
     "slide_type": "subslide"
    }
   },
   "outputs": [
    {
     "data": {
      "text/html": [
       "<div>\n",
       "<style scoped>\n",
       "    .dataframe tbody tr th:only-of-type {\n",
       "        vertical-align: middle;\n",
       "    }\n",
       "\n",
       "    .dataframe tbody tr th {\n",
       "        vertical-align: top;\n",
       "    }\n",
       "\n",
       "    .dataframe thead th {\n",
       "        text-align: right;\n",
       "    }\n",
       "</style>\n",
       "<table border=\"1\" class=\"dataframe\">\n",
       "  <thead>\n",
       "    <tr style=\"text-align: right;\">\n",
       "      <th></th>\n",
       "      <th>Date</th>\n",
       "      <th>Temperature</th>\n",
       "      <th>Relative Humidity</th>\n",
       "      <th>Dew Point</th>\n",
       "      <th>Rain</th>\n",
       "    </tr>\n",
       "  </thead>\n",
       "  <tbody>\n",
       "    <tr>\n",
       "      <th>0</th>\n",
       "      <td>2019-07-05 10:50:00</td>\n",
       "      <td>18.25</td>\n",
       "      <td>64.68</td>\n",
       "      <td>11.50</td>\n",
       "      <td>0.0</td>\n",
       "    </tr>\n",
       "    <tr>\n",
       "      <th>1</th>\n",
       "      <td>2019-07-05 10:55:00</td>\n",
       "      <td>18.27</td>\n",
       "      <td>64.12</td>\n",
       "      <td>11.39</td>\n",
       "      <td>0.0</td>\n",
       "    </tr>\n",
       "    <tr>\n",
       "      <th>2</th>\n",
       "      <td>2019-07-05 11:00:00</td>\n",
       "      <td>17.31</td>\n",
       "      <td>66.58</td>\n",
       "      <td>11.04</td>\n",
       "      <td>0.0</td>\n",
       "    </tr>\n",
       "    <tr>\n",
       "      <th>3</th>\n",
       "      <td>2019-07-05 11:05:00</td>\n",
       "      <td>16.96</td>\n",
       "      <td>68.21</td>\n",
       "      <td>11.08</td>\n",
       "      <td>0.0</td>\n",
       "    </tr>\n",
       "    <tr>\n",
       "      <th>4</th>\n",
       "      <td>2019-07-05 11:10:00</td>\n",
       "      <td>17.22</td>\n",
       "      <td>68.62</td>\n",
       "      <td>11.42</td>\n",
       "      <td>0.0</td>\n",
       "    </tr>\n",
       "  </tbody>\n",
       "</table>\n",
       "</div>"
      ],
      "text/plain": [
       "                  Date  Temperature  Relative Humidity  Dew Point  Rain\n",
       "0  2019-07-05 10:50:00        18.25              64.68      11.50   0.0\n",
       "1  2019-07-05 10:55:00        18.27              64.12      11.39   0.0\n",
       "2  2019-07-05 11:00:00        17.31              66.58      11.04   0.0\n",
       "3  2019-07-05 11:05:00        16.96              68.21      11.08   0.0\n",
       "4  2019-07-05 11:10:00        17.22              68.62      11.42   0.0"
      ]
     },
     "execution_count": 42,
     "metadata": {},
     "output_type": "execute_result"
    }
   ],
   "source": [
    "df_climate.head()"
   ]
  },
  {
   "cell_type": "code",
   "execution_count": 43,
   "metadata": {
    "ExecuteTime": {
     "end_time": "2021-11-25T12:42:28.838659Z",
     "start_time": "2021-11-25T12:42:28.829402Z"
    },
    "slideshow": {
     "slide_type": "subslide"
    }
   },
   "outputs": [
    {
     "data": {
      "text/html": [
       "<div>\n",
       "<style scoped>\n",
       "    .dataframe tbody tr th:only-of-type {\n",
       "        vertical-align: middle;\n",
       "    }\n",
       "\n",
       "    .dataframe tbody tr th {\n",
       "        vertical-align: top;\n",
       "    }\n",
       "\n",
       "    .dataframe thead th {\n",
       "        text-align: right;\n",
       "    }\n",
       "</style>\n",
       "<table border=\"1\" class=\"dataframe\">\n",
       "  <thead>\n",
       "    <tr style=\"text-align: right;\">\n",
       "      <th></th>\n",
       "      <th>Date</th>\n",
       "      <th>Temperature</th>\n",
       "      <th>Relative Humidity</th>\n",
       "      <th>Dew Point</th>\n",
       "      <th>Rain</th>\n",
       "    </tr>\n",
       "  </thead>\n",
       "  <tbody>\n",
       "    <tr>\n",
       "      <th>19396</th>\n",
       "      <td>2019-09-11 23:20:00</td>\n",
       "      <td>16.02</td>\n",
       "      <td>63.59</td>\n",
       "      <td>9.13</td>\n",
       "      <td>0.0</td>\n",
       "    </tr>\n",
       "    <tr>\n",
       "      <th>19397</th>\n",
       "      <td>2019-09-11 23:25:00</td>\n",
       "      <td>16.30</td>\n",
       "      <td>62.20</td>\n",
       "      <td>9.07</td>\n",
       "      <td>0.0</td>\n",
       "    </tr>\n",
       "    <tr>\n",
       "      <th>19398</th>\n",
       "      <td>2019-09-11 23:30:00</td>\n",
       "      <td>16.36</td>\n",
       "      <td>62.61</td>\n",
       "      <td>9.23</td>\n",
       "      <td>0.0</td>\n",
       "    </tr>\n",
       "    <tr>\n",
       "      <th>19399</th>\n",
       "      <td>2019-09-11 23:35:00</td>\n",
       "      <td>16.04</td>\n",
       "      <td>64.15</td>\n",
       "      <td>9.28</td>\n",
       "      <td>0.0</td>\n",
       "    </tr>\n",
       "    <tr>\n",
       "      <th>19400</th>\n",
       "      <td>2019-09-11 23:40:00</td>\n",
       "      <td>15.87</td>\n",
       "      <td>65.25</td>\n",
       "      <td>9.37</td>\n",
       "      <td>0.0</td>\n",
       "    </tr>\n",
       "  </tbody>\n",
       "</table>\n",
       "</div>"
      ],
      "text/plain": [
       "                      Date  Temperature  Relative Humidity  Dew Point  Rain\n",
       "19396  2019-09-11 23:20:00        16.02              63.59       9.13   0.0\n",
       "19397  2019-09-11 23:25:00        16.30              62.20       9.07   0.0\n",
       "19398  2019-09-11 23:30:00        16.36              62.61       9.23   0.0\n",
       "19399  2019-09-11 23:35:00        16.04              64.15       9.28   0.0\n",
       "19400  2019-09-11 23:40:00        15.87              65.25       9.37   0.0"
      ]
     },
     "execution_count": 43,
     "metadata": {},
     "output_type": "execute_result"
    }
   ],
   "source": [
    "df_climate.tail()"
   ]
  },
  {
   "cell_type": "markdown",
   "metadata": {
    "slideshow": {
     "slide_type": "subslide"
    }
   },
   "source": [
    "We have data measurements in (about) 5-minutes intervales, measuring air temperature, relative humidity, dew point temperature and rainfall.\n",
    "\n",
    "The data span from 5th of July until the 11th of September of 2019, a little more than 2 months of data."
   ]
  },
  {
   "cell_type": "markdown",
   "metadata": {
    "slideshow": {
     "slide_type": "subslide"
    }
   },
   "source": [
    "Note that the index is numeric. We want to make it time-aware using the data in the ___Date and Time___ column to be able to select rows in time ranges.\n",
    "\n",
    "For that, we use the function `pd.DatetimeIndex`, and send as argument the column from te table that has the date and time."
   ]
  },
  {
   "cell_type": "code",
   "execution_count": 44,
   "metadata": {
    "ExecuteTime": {
     "end_time": "2021-11-25T12:42:28.848675Z",
     "start_time": "2021-11-25T12:42:28.839617Z"
    },
    "slideshow": {
     "slide_type": "fragment"
    }
   },
   "outputs": [
    {
     "data": {
      "text/html": [
       "<div>\n",
       "<style scoped>\n",
       "    .dataframe tbody tr th:only-of-type {\n",
       "        vertical-align: middle;\n",
       "    }\n",
       "\n",
       "    .dataframe tbody tr th {\n",
       "        vertical-align: top;\n",
       "    }\n",
       "\n",
       "    .dataframe thead th {\n",
       "        text-align: right;\n",
       "    }\n",
       "</style>\n",
       "<table border=\"1\" class=\"dataframe\">\n",
       "  <thead>\n",
       "    <tr style=\"text-align: right;\">\n",
       "      <th></th>\n",
       "      <th>Date</th>\n",
       "      <th>Temperature</th>\n",
       "      <th>Relative Humidity</th>\n",
       "      <th>Dew Point</th>\n",
       "      <th>Rain</th>\n",
       "    </tr>\n",
       "  </thead>\n",
       "  <tbody>\n",
       "    <tr>\n",
       "      <th>0</th>\n",
       "      <td>2019-07-05 10:50:00</td>\n",
       "      <td>18.25</td>\n",
       "      <td>64.68</td>\n",
       "      <td>11.50</td>\n",
       "      <td>0.0</td>\n",
       "    </tr>\n",
       "    <tr>\n",
       "      <th>1</th>\n",
       "      <td>2019-07-05 10:55:00</td>\n",
       "      <td>18.27</td>\n",
       "      <td>64.12</td>\n",
       "      <td>11.39</td>\n",
       "      <td>0.0</td>\n",
       "    </tr>\n",
       "    <tr>\n",
       "      <th>2</th>\n",
       "      <td>2019-07-05 11:00:00</td>\n",
       "      <td>17.31</td>\n",
       "      <td>66.58</td>\n",
       "      <td>11.04</td>\n",
       "      <td>0.0</td>\n",
       "    </tr>\n",
       "    <tr>\n",
       "      <th>3</th>\n",
       "      <td>2019-07-05 11:05:00</td>\n",
       "      <td>16.96</td>\n",
       "      <td>68.21</td>\n",
       "      <td>11.08</td>\n",
       "      <td>0.0</td>\n",
       "    </tr>\n",
       "    <tr>\n",
       "      <th>4</th>\n",
       "      <td>2019-07-05 11:10:00</td>\n",
       "      <td>17.22</td>\n",
       "      <td>68.62</td>\n",
       "      <td>11.42</td>\n",
       "      <td>0.0</td>\n",
       "    </tr>\n",
       "  </tbody>\n",
       "</table>\n",
       "</div>"
      ],
      "text/plain": [
       "                  Date  Temperature  Relative Humidity  Dew Point  Rain\n",
       "0  2019-07-05 10:50:00        18.25              64.68      11.50   0.0\n",
       "1  2019-07-05 10:55:00        18.27              64.12      11.39   0.0\n",
       "2  2019-07-05 11:00:00        17.31              66.58      11.04   0.0\n",
       "3  2019-07-05 11:05:00        16.96              68.21      11.08   0.0\n",
       "4  2019-07-05 11:10:00        17.22              68.62      11.42   0.0"
      ]
     },
     "execution_count": 44,
     "metadata": {},
     "output_type": "execute_result"
    }
   ],
   "source": [
    "df_climate.head()"
   ]
  },
  {
   "cell_type": "markdown",
   "metadata": {
    "slideshow": {
     "slide_type": "subslide"
    }
   },
   "source": [
    "Old index:"
   ]
  },
  {
   "cell_type": "code",
   "execution_count": 45,
   "metadata": {
    "ExecuteTime": {
     "end_time": "2021-11-25T12:42:28.854540Z",
     "start_time": "2021-11-25T12:42:28.849568Z"
    },
    "slideshow": {
     "slide_type": "fragment"
    }
   },
   "outputs": [
    {
     "data": {
      "text/plain": [
       "RangeIndex(start=0, stop=19401, step=1)"
      ]
     },
     "execution_count": 45,
     "metadata": {},
     "output_type": "execute_result"
    }
   ],
   "source": [
    "df_climate.index"
   ]
  },
  {
   "cell_type": "markdown",
   "metadata": {
    "slideshow": {
     "slide_type": "subslide"
    }
   },
   "source": [
    "New index:"
   ]
  },
  {
   "cell_type": "code",
   "execution_count": 46,
   "metadata": {
    "ExecuteTime": {
     "end_time": "2021-11-25T12:42:28.863081Z",
     "start_time": "2021-11-25T12:42:28.855255Z"
    },
    "slideshow": {
     "slide_type": "fragment"
    }
   },
   "outputs": [],
   "source": [
    "df_climate.index = pd.DatetimeIndex( df_climate[ 'Date' ] )"
   ]
  },
  {
   "cell_type": "markdown",
   "metadata": {
    "slideshow": {
     "slide_type": "subslide"
    }
   },
   "source": [
    "Note: A common source of error in this step is a confusion between days and monts (because of the order). It can also happen with the year, if only the last 2 numbers are written: Which are the day, month and year if the date is __10-11-12__?\n",
    "\n",
    "For the first case, you can specify if days or months go first:\n",
    "`df_climate.index = pd.DatetimeIndex( df_climate[ 'Date and Time' ], dayfirst=True, yearfirst=True )`"
   ]
  },
  {
   "cell_type": "markdown",
   "metadata": {
    "slideshow": {
     "slide_type": "subslide"
    }
   },
   "source": [
    "Now we have the index as a time object and can select rows according with it:"
   ]
  },
  {
   "cell_type": "code",
   "execution_count": 47,
   "metadata": {
    "ExecuteTime": {
     "end_time": "2021-11-25T12:42:28.873341Z",
     "start_time": "2021-11-25T12:42:28.864239Z"
    },
    "slideshow": {
     "slide_type": "fragment"
    }
   },
   "outputs": [
    {
     "data": {
      "text/html": [
       "<div>\n",
       "<style scoped>\n",
       "    .dataframe tbody tr th:only-of-type {\n",
       "        vertical-align: middle;\n",
       "    }\n",
       "\n",
       "    .dataframe tbody tr th {\n",
       "        vertical-align: top;\n",
       "    }\n",
       "\n",
       "    .dataframe thead th {\n",
       "        text-align: right;\n",
       "    }\n",
       "</style>\n",
       "<table border=\"1\" class=\"dataframe\">\n",
       "  <thead>\n",
       "    <tr style=\"text-align: right;\">\n",
       "      <th></th>\n",
       "      <th>Date</th>\n",
       "      <th>Temperature</th>\n",
       "      <th>Relative Humidity</th>\n",
       "      <th>Dew Point</th>\n",
       "      <th>Rain</th>\n",
       "    </tr>\n",
       "    <tr>\n",
       "      <th>Date</th>\n",
       "      <th></th>\n",
       "      <th></th>\n",
       "      <th></th>\n",
       "      <th></th>\n",
       "      <th></th>\n",
       "    </tr>\n",
       "  </thead>\n",
       "  <tbody>\n",
       "    <tr>\n",
       "      <th>2019-07-05 10:50:00</th>\n",
       "      <td>2019-07-05 10:50:00</td>\n",
       "      <td>18.25</td>\n",
       "      <td>64.68</td>\n",
       "      <td>11.50</td>\n",
       "      <td>0.0</td>\n",
       "    </tr>\n",
       "    <tr>\n",
       "      <th>2019-07-05 10:55:00</th>\n",
       "      <td>2019-07-05 10:55:00</td>\n",
       "      <td>18.27</td>\n",
       "      <td>64.12</td>\n",
       "      <td>11.39</td>\n",
       "      <td>0.0</td>\n",
       "    </tr>\n",
       "    <tr>\n",
       "      <th>2019-07-05 11:00:00</th>\n",
       "      <td>2019-07-05 11:00:00</td>\n",
       "      <td>17.31</td>\n",
       "      <td>66.58</td>\n",
       "      <td>11.04</td>\n",
       "      <td>0.0</td>\n",
       "    </tr>\n",
       "    <tr>\n",
       "      <th>2019-07-05 11:05:00</th>\n",
       "      <td>2019-07-05 11:05:00</td>\n",
       "      <td>16.96</td>\n",
       "      <td>68.21</td>\n",
       "      <td>11.08</td>\n",
       "      <td>0.0</td>\n",
       "    </tr>\n",
       "    <tr>\n",
       "      <th>2019-07-05 11:10:00</th>\n",
       "      <td>2019-07-05 11:10:00</td>\n",
       "      <td>17.22</td>\n",
       "      <td>68.62</td>\n",
       "      <td>11.42</td>\n",
       "      <td>0.0</td>\n",
       "    </tr>\n",
       "  </tbody>\n",
       "</table>\n",
       "</div>"
      ],
      "text/plain": [
       "                                    Date  Temperature  Relative Humidity  \\\n",
       "Date                                                                       \n",
       "2019-07-05 10:50:00  2019-07-05 10:50:00        18.25              64.68   \n",
       "2019-07-05 10:55:00  2019-07-05 10:55:00        18.27              64.12   \n",
       "2019-07-05 11:00:00  2019-07-05 11:00:00        17.31              66.58   \n",
       "2019-07-05 11:05:00  2019-07-05 11:05:00        16.96              68.21   \n",
       "2019-07-05 11:10:00  2019-07-05 11:10:00        17.22              68.62   \n",
       "\n",
       "                     Dew Point  Rain  \n",
       "Date                                  \n",
       "2019-07-05 10:50:00      11.50   0.0  \n",
       "2019-07-05 10:55:00      11.39   0.0  \n",
       "2019-07-05 11:00:00      11.04   0.0  \n",
       "2019-07-05 11:05:00      11.08   0.0  \n",
       "2019-07-05 11:10:00      11.42   0.0  "
      ]
     },
     "execution_count": 47,
     "metadata": {},
     "output_type": "execute_result"
    }
   ],
   "source": [
    "df_climate.head()"
   ]
  },
  {
   "cell_type": "markdown",
   "metadata": {
    "slideshow": {
     "slide_type": "subslide"
    }
   },
   "source": [
    "The **Date** column is now used as index and can therefore be dropped to avoid repeated information:"
   ]
  },
  {
   "cell_type": "code",
   "execution_count": 48,
   "metadata": {
    "ExecuteTime": {
     "end_time": "2021-11-25T12:42:28.883385Z",
     "start_time": "2021-11-25T12:42:28.874158Z"
    },
    "slideshow": {
     "slide_type": "fragment"
    }
   },
   "outputs": [
    {
     "data": {
      "text/html": [
       "<div>\n",
       "<style scoped>\n",
       "    .dataframe tbody tr th:only-of-type {\n",
       "        vertical-align: middle;\n",
       "    }\n",
       "\n",
       "    .dataframe tbody tr th {\n",
       "        vertical-align: top;\n",
       "    }\n",
       "\n",
       "    .dataframe thead th {\n",
       "        text-align: right;\n",
       "    }\n",
       "</style>\n",
       "<table border=\"1\" class=\"dataframe\">\n",
       "  <thead>\n",
       "    <tr style=\"text-align: right;\">\n",
       "      <th></th>\n",
       "      <th>Temperature</th>\n",
       "      <th>Relative Humidity</th>\n",
       "      <th>Dew Point</th>\n",
       "      <th>Rain</th>\n",
       "    </tr>\n",
       "    <tr>\n",
       "      <th>Date</th>\n",
       "      <th></th>\n",
       "      <th></th>\n",
       "      <th></th>\n",
       "      <th></th>\n",
       "    </tr>\n",
       "  </thead>\n",
       "  <tbody>\n",
       "    <tr>\n",
       "      <th>2019-07-05 10:50:00</th>\n",
       "      <td>18.25</td>\n",
       "      <td>64.68</td>\n",
       "      <td>11.50</td>\n",
       "      <td>0.0</td>\n",
       "    </tr>\n",
       "    <tr>\n",
       "      <th>2019-07-05 10:55:00</th>\n",
       "      <td>18.27</td>\n",
       "      <td>64.12</td>\n",
       "      <td>11.39</td>\n",
       "      <td>0.0</td>\n",
       "    </tr>\n",
       "    <tr>\n",
       "      <th>2019-07-05 11:00:00</th>\n",
       "      <td>17.31</td>\n",
       "      <td>66.58</td>\n",
       "      <td>11.04</td>\n",
       "      <td>0.0</td>\n",
       "    </tr>\n",
       "    <tr>\n",
       "      <th>2019-07-05 11:05:00</th>\n",
       "      <td>16.96</td>\n",
       "      <td>68.21</td>\n",
       "      <td>11.08</td>\n",
       "      <td>0.0</td>\n",
       "    </tr>\n",
       "    <tr>\n",
       "      <th>2019-07-05 11:10:00</th>\n",
       "      <td>17.22</td>\n",
       "      <td>68.62</td>\n",
       "      <td>11.42</td>\n",
       "      <td>0.0</td>\n",
       "    </tr>\n",
       "  </tbody>\n",
       "</table>\n",
       "</div>"
      ],
      "text/plain": [
       "                     Temperature  Relative Humidity  Dew Point  Rain\n",
       "Date                                                                \n",
       "2019-07-05 10:50:00        18.25              64.68      11.50   0.0\n",
       "2019-07-05 10:55:00        18.27              64.12      11.39   0.0\n",
       "2019-07-05 11:00:00        17.31              66.58      11.04   0.0\n",
       "2019-07-05 11:05:00        16.96              68.21      11.08   0.0\n",
       "2019-07-05 11:10:00        17.22              68.62      11.42   0.0"
      ]
     },
     "execution_count": 48,
     "metadata": {},
     "output_type": "execute_result"
    }
   ],
   "source": [
    "df_climate = df_climate[ ['Temperature', 'Relative Humidity', 'Dew Point', 'Rain'] ]\n",
    "df_climate.head()"
   ]
  },
  {
   "cell_type": "markdown",
   "metadata": {
    "slideshow": {
     "slide_type": "subslide"
    }
   },
   "source": [
    "To select a particular day, we can use `pd.Timestamp`.\n",
    "\n",
    "Let's say we want to check the data of the 23rd of August:"
   ]
  },
  {
   "cell_type": "code",
   "execution_count": 49,
   "metadata": {
    "ExecuteTime": {
     "end_time": "2021-11-25T12:42:28.889600Z",
     "start_time": "2021-11-25T12:42:28.884269Z"
    },
    "slideshow": {
     "slide_type": "fragment"
    }
   },
   "outputs": [],
   "source": [
    "start = pd.Timestamp( '2019-08-23, 00:00:00' )\n",
    "end = pd.Timestamp( '2019-08-24, 00:00:00' )"
   ]
  },
  {
   "cell_type": "code",
   "execution_count": 50,
   "metadata": {
    "ExecuteTime": {
     "end_time": "2021-11-25T12:42:28.895698Z",
     "start_time": "2021-11-25T12:42:28.890415Z"
    },
    "scrolled": false,
    "slideshow": {
     "slide_type": "subslide"
    }
   },
   "outputs": [],
   "source": [
    "condition_start = df_climate.index > start\n",
    "condition_end = df_climate.index < end"
   ]
  },
  {
   "cell_type": "markdown",
   "metadata": {
    "slideshow": {
     "slide_type": "subslide"
    }
   },
   "source": [
    "And we can use this new table to calculate the average (or max, min, etc) of the columns on that interval:"
   ]
  },
  {
   "cell_type": "code",
   "execution_count": 51,
   "metadata": {
    "ExecuteTime": {
     "end_time": "2021-11-25T12:42:28.902753Z",
     "start_time": "2021-11-25T12:42:28.896597Z"
    },
    "slideshow": {
     "slide_type": "fragment"
    }
   },
   "outputs": [
    {
     "data": {
      "text/plain": [
       "Temperature          22.495769\n",
       "Relative Humidity    54.059056\n",
       "Dew Point             9.872937\n",
       "Rain                  0.000000\n",
       "dtype: float64"
      ]
     },
     "execution_count": 51,
     "metadata": {},
     "output_type": "execute_result"
    }
   ],
   "source": [
    "df_climate.loc[ condition_start & condition_end ].mean()"
   ]
  },
  {
   "cell_type": "markdown",
   "metadata": {
    "slideshow": {
     "slide_type": "subslide"
    }
   },
   "source": [
    "Of course, we can also look for other periods with this technique, we just follow the steps:\n",
    "* Define a start time with `pd.Timestamp`\n",
    "* Define a finishing time with `pd.Timestamp`\n",
    "* Check condition: > start\n",
    "* Check condition: < end\n",
    "* Select from the table (query)"
   ]
  },
  {
   "cell_type": "code",
   "execution_count": 52,
   "metadata": {
    "ExecuteTime": {
     "end_time": "2021-11-25T12:42:28.914548Z",
     "start_time": "2021-11-25T12:42:28.903581Z"
    },
    "slideshow": {
     "slide_type": "subslide"
    }
   },
   "outputs": [
    {
     "data": {
      "text/html": [
       "<div>\n",
       "<style scoped>\n",
       "    .dataframe tbody tr th:only-of-type {\n",
       "        vertical-align: middle;\n",
       "    }\n",
       "\n",
       "    .dataframe tbody tr th {\n",
       "        vertical-align: top;\n",
       "    }\n",
       "\n",
       "    .dataframe thead th {\n",
       "        text-align: right;\n",
       "    }\n",
       "</style>\n",
       "<table border=\"1\" class=\"dataframe\">\n",
       "  <thead>\n",
       "    <tr style=\"text-align: right;\">\n",
       "      <th></th>\n",
       "      <th>Temperature</th>\n",
       "      <th>Relative Humidity</th>\n",
       "      <th>Dew Point</th>\n",
       "      <th>Rain</th>\n",
       "    </tr>\n",
       "    <tr>\n",
       "      <th>Date</th>\n",
       "      <th></th>\n",
       "      <th></th>\n",
       "      <th></th>\n",
       "      <th></th>\n",
       "    </tr>\n",
       "  </thead>\n",
       "  <tbody>\n",
       "    <tr>\n",
       "      <th>2019-08-23 08:05:00</th>\n",
       "      <td>18.04</td>\n",
       "      <td>74.63</td>\n",
       "      <td>13.48</td>\n",
       "      <td>0.0</td>\n",
       "    </tr>\n",
       "    <tr>\n",
       "      <th>2019-08-23 08:10:00</th>\n",
       "      <td>18.12</td>\n",
       "      <td>73.30</td>\n",
       "      <td>13.29</td>\n",
       "      <td>0.0</td>\n",
       "    </tr>\n",
       "    <tr>\n",
       "      <th>2019-08-23 08:15:00</th>\n",
       "      <td>18.40</td>\n",
       "      <td>72.33</td>\n",
       "      <td>13.35</td>\n",
       "      <td>0.0</td>\n",
       "    </tr>\n",
       "    <tr>\n",
       "      <th>2019-08-23 08:20:00</th>\n",
       "      <td>18.81</td>\n",
       "      <td>71.72</td>\n",
       "      <td>13.61</td>\n",
       "      <td>0.0</td>\n",
       "    </tr>\n",
       "    <tr>\n",
       "      <th>2019-08-23 08:25:00</th>\n",
       "      <td>19.45</td>\n",
       "      <td>70.54</td>\n",
       "      <td>13.98</td>\n",
       "      <td>0.0</td>\n",
       "    </tr>\n",
       "    <tr>\n",
       "      <th>2019-08-23 08:30:00</th>\n",
       "      <td>19.82</td>\n",
       "      <td>68.12</td>\n",
       "      <td>13.79</td>\n",
       "      <td>0.0</td>\n",
       "    </tr>\n",
       "    <tr>\n",
       "      <th>2019-08-23 08:35:00</th>\n",
       "      <td>20.27</td>\n",
       "      <td>66.61</td>\n",
       "      <td>13.87</td>\n",
       "      <td>0.0</td>\n",
       "    </tr>\n",
       "    <tr>\n",
       "      <th>2019-08-23 08:40:00</th>\n",
       "      <td>20.50</td>\n",
       "      <td>66.15</td>\n",
       "      <td>13.99</td>\n",
       "      <td>0.0</td>\n",
       "    </tr>\n",
       "    <tr>\n",
       "      <th>2019-08-23 08:45:00</th>\n",
       "      <td>21.00</td>\n",
       "      <td>64.95</td>\n",
       "      <td>14.17</td>\n",
       "      <td>0.0</td>\n",
       "    </tr>\n",
       "    <tr>\n",
       "      <th>2019-08-23 08:50:00</th>\n",
       "      <td>21.30</td>\n",
       "      <td>64.02</td>\n",
       "      <td>14.24</td>\n",
       "      <td>0.0</td>\n",
       "    </tr>\n",
       "    <tr>\n",
       "      <th>2019-08-23 08:55:00</th>\n",
       "      <td>21.53</td>\n",
       "      <td>62.02</td>\n",
       "      <td>13.97</td>\n",
       "      <td>0.0</td>\n",
       "    </tr>\n",
       "  </tbody>\n",
       "</table>\n",
       "</div>"
      ],
      "text/plain": [
       "                     Temperature  Relative Humidity  Dew Point  Rain\n",
       "Date                                                                \n",
       "2019-08-23 08:05:00        18.04              74.63      13.48   0.0\n",
       "2019-08-23 08:10:00        18.12              73.30      13.29   0.0\n",
       "2019-08-23 08:15:00        18.40              72.33      13.35   0.0\n",
       "2019-08-23 08:20:00        18.81              71.72      13.61   0.0\n",
       "2019-08-23 08:25:00        19.45              70.54      13.98   0.0\n",
       "2019-08-23 08:30:00        19.82              68.12      13.79   0.0\n",
       "2019-08-23 08:35:00        20.27              66.61      13.87   0.0\n",
       "2019-08-23 08:40:00        20.50              66.15      13.99   0.0\n",
       "2019-08-23 08:45:00        21.00              64.95      14.17   0.0\n",
       "2019-08-23 08:50:00        21.30              64.02      14.24   0.0\n",
       "2019-08-23 08:55:00        21.53              62.02      13.97   0.0"
      ]
     },
     "execution_count": 52,
     "metadata": {},
     "output_type": "execute_result"
    }
   ],
   "source": [
    "start = pd.Timestamp( '2019-08-23, 08:00:00' )\n",
    "end = pd.Timestamp( '2019-08-23, 09:00:00' )\n",
    "\n",
    "condition_start = df_climate.index > start\n",
    "condition_end = df_climate.index < end\n",
    "\n",
    "df_climate[ condition_start & condition_end ]"
   ]
  },
  {
   "cell_type": "markdown",
   "metadata": {
    "slideshow": {
     "slide_type": "subslide"
    }
   },
   "source": [
    "This techinque does not look for exact matches, as the measuring times in the table include seconds that are irregular. It is very useful because it also works in cases when there are empty or not equally distributed timestamps."
   ]
  },
  {
   "cell_type": "markdown",
   "metadata": {
    "slideshow": {
     "slide_type": "subslide"
    }
   },
   "source": [
    "It is now very easy to know the average temperature in the period between 8 and 9 that we selected previously:"
   ]
  },
  {
   "cell_type": "code",
   "execution_count": 53,
   "metadata": {
    "ExecuteTime": {
     "end_time": "2021-11-25T12:42:28.920495Z",
     "start_time": "2021-11-25T12:42:28.915455Z"
    },
    "slideshow": {
     "slide_type": "fragment"
    }
   },
   "outputs": [
    {
     "data": {
      "text/plain": [
       "Temperature          19.749091\n",
       "Relative Humidity    68.580909\n",
       "Dew Point            13.794545\n",
       "Rain                  0.000000\n",
       "dtype: float64"
      ]
     },
     "execution_count": 53,
     "metadata": {},
     "output_type": "execute_result"
    }
   ],
   "source": [
    "start = pd.Timestamp( '2019-08-23, 08:00:00' )\n",
    "end = pd.Timestamp( '2019-08-23, 09:00:00' )\n",
    "\n",
    "condition_start = df_climate.index > start\n",
    "condition_end = df_climate.index < end\n",
    "\n",
    "df_climate[ condition_start & condition_end ].mean()"
   ]
  },
  {
   "cell_type": "markdown",
   "metadata": {
    "slideshow": {
     "slide_type": "subslide"
    }
   },
   "source": [
    "#### Resample"
   ]
  },
  {
   "cell_type": "markdown",
   "metadata": {
    "slideshow": {
     "slide_type": "fragment"
    }
   },
   "source": [
    "Lastly, we will have a quick introduction to `.resample`, a function that allows us to change the interval in which some data are given, either ___upsample___ (get more points, at smaller intervals) or ___downsample___ (agreggating values in bigger intervals)."
   ]
  },
  {
   "cell_type": "markdown",
   "metadata": {
    "slideshow": {
     "slide_type": "subslide"
    }
   },
   "source": [
    "The data in the climate data frame is stored in intervals of about 5 minutes. \n",
    "\n",
    "We will first ___downsample___ it to hourly and daily values."
   ]
  },
  {
   "cell_type": "markdown",
   "metadata": {
    "slideshow": {
     "slide_type": "fragment"
    }
   },
   "source": [
    "There are two things that we have to have clear to correctly resample data:\n",
    "\n",
    "* What the new frequency will be. 1 hour? 15 minutes? 1 day?\n",
    "* How we will create the new values. Sum? Average?"
   ]
  },
  {
   "cell_type": "markdown",
   "metadata": {
    "slideshow": {
     "slide_type": "subslide"
    }
   },
   "source": [
    "About the first question, we will use the following letters to specifiy the new frequency:\n",
    "    \n",
    "* M → monthly frequency\n",
    "* W → weekly frequency\n",
    "* D → daily frequency\n",
    "* H → hourly frequency\n",
    "* T → minutely frequency\n",
    "* S → secondly frequency\n",
    "* L → milliseonds\n",
    "* U → microseconds\n",
    "* N → nanoseconds"
   ]
  },
  {
   "cell_type": "markdown",
   "metadata": {
    "slideshow": {
     "slide_type": "subslide"
    }
   },
   "source": [
    "About the second question, think that water (liter [L]) from irrigation in the morning and in the afternoon should ___add___ up for a daily value.\n",
    "\n",
    "On the other hand, the temperature in the morning, and the temperature in the afternoon should be ___averaged___ to give a daily value.\n",
    "\n",
    "Also, in cases we need the last value, or the first, or the most common in the interval. At the end of this notebook is a link to a very nice post where these options can be consulted."
   ]
  },
  {
   "cell_type": "markdown",
   "metadata": {
    "slideshow": {
     "slide_type": "subslide"
    }
   },
   "source": [
    "First we will resample the whole data frame to 1 hour, taking the average of the values in each hourly interval. \n",
    "\n",
    "It is like this now:"
   ]
  },
  {
   "cell_type": "code",
   "execution_count": 54,
   "metadata": {
    "ExecuteTime": {
     "end_time": "2021-11-25T12:42:28.931983Z",
     "start_time": "2021-11-25T12:42:28.921269Z"
    },
    "slideshow": {
     "slide_type": "fragment"
    }
   },
   "outputs": [
    {
     "data": {
      "text/html": [
       "<div>\n",
       "<style scoped>\n",
       "    .dataframe tbody tr th:only-of-type {\n",
       "        vertical-align: middle;\n",
       "    }\n",
       "\n",
       "    .dataframe tbody tr th {\n",
       "        vertical-align: top;\n",
       "    }\n",
       "\n",
       "    .dataframe thead th {\n",
       "        text-align: right;\n",
       "    }\n",
       "</style>\n",
       "<table border=\"1\" class=\"dataframe\">\n",
       "  <thead>\n",
       "    <tr style=\"text-align: right;\">\n",
       "      <th></th>\n",
       "      <th>Temperature</th>\n",
       "      <th>Relative Humidity</th>\n",
       "      <th>Dew Point</th>\n",
       "      <th>Rain</th>\n",
       "    </tr>\n",
       "    <tr>\n",
       "      <th>Date</th>\n",
       "      <th></th>\n",
       "      <th></th>\n",
       "      <th></th>\n",
       "      <th></th>\n",
       "    </tr>\n",
       "  </thead>\n",
       "  <tbody>\n",
       "    <tr>\n",
       "      <th>2019-07-05 10:50:00</th>\n",
       "      <td>18.25</td>\n",
       "      <td>64.68</td>\n",
       "      <td>11.50</td>\n",
       "      <td>0.0</td>\n",
       "    </tr>\n",
       "    <tr>\n",
       "      <th>2019-07-05 10:55:00</th>\n",
       "      <td>18.27</td>\n",
       "      <td>64.12</td>\n",
       "      <td>11.39</td>\n",
       "      <td>0.0</td>\n",
       "    </tr>\n",
       "    <tr>\n",
       "      <th>2019-07-05 11:00:00</th>\n",
       "      <td>17.31</td>\n",
       "      <td>66.58</td>\n",
       "      <td>11.04</td>\n",
       "      <td>0.0</td>\n",
       "    </tr>\n",
       "    <tr>\n",
       "      <th>2019-07-05 11:05:00</th>\n",
       "      <td>16.96</td>\n",
       "      <td>68.21</td>\n",
       "      <td>11.08</td>\n",
       "      <td>0.0</td>\n",
       "    </tr>\n",
       "    <tr>\n",
       "      <th>2019-07-05 11:10:00</th>\n",
       "      <td>17.22</td>\n",
       "      <td>68.62</td>\n",
       "      <td>11.42</td>\n",
       "      <td>0.0</td>\n",
       "    </tr>\n",
       "  </tbody>\n",
       "</table>\n",
       "</div>"
      ],
      "text/plain": [
       "                     Temperature  Relative Humidity  Dew Point  Rain\n",
       "Date                                                                \n",
       "2019-07-05 10:50:00        18.25              64.68      11.50   0.0\n",
       "2019-07-05 10:55:00        18.27              64.12      11.39   0.0\n",
       "2019-07-05 11:00:00        17.31              66.58      11.04   0.0\n",
       "2019-07-05 11:05:00        16.96              68.21      11.08   0.0\n",
       "2019-07-05 11:10:00        17.22              68.62      11.42   0.0"
      ]
     },
     "execution_count": 54,
     "metadata": {},
     "output_type": "execute_result"
    }
   ],
   "source": [
    "df_climate.head()"
   ]
  },
  {
   "cell_type": "code",
   "execution_count": 55,
   "metadata": {
    "ExecuteTime": {
     "end_time": "2021-11-25T12:42:28.941281Z",
     "start_time": "2021-11-25T12:42:28.933116Z"
    },
    "slideshow": {
     "slide_type": "subslide"
    }
   },
   "outputs": [],
   "source": [
    "df_climate_1h = df_climate.resample( '1H' ).mean()"
   ]
  },
  {
   "cell_type": "code",
   "execution_count": 56,
   "metadata": {
    "ExecuteTime": {
     "end_time": "2021-11-25T12:42:28.949317Z",
     "start_time": "2021-11-25T12:42:28.942293Z"
    },
    "slideshow": {
     "slide_type": "fragment"
    }
   },
   "outputs": [
    {
     "data": {
      "text/html": [
       "<div>\n",
       "<style scoped>\n",
       "    .dataframe tbody tr th:only-of-type {\n",
       "        vertical-align: middle;\n",
       "    }\n",
       "\n",
       "    .dataframe tbody tr th {\n",
       "        vertical-align: top;\n",
       "    }\n",
       "\n",
       "    .dataframe thead th {\n",
       "        text-align: right;\n",
       "    }\n",
       "</style>\n",
       "<table border=\"1\" class=\"dataframe\">\n",
       "  <thead>\n",
       "    <tr style=\"text-align: right;\">\n",
       "      <th></th>\n",
       "      <th>Temperature</th>\n",
       "      <th>Relative Humidity</th>\n",
       "      <th>Dew Point</th>\n",
       "      <th>Rain</th>\n",
       "    </tr>\n",
       "    <tr>\n",
       "      <th>Date</th>\n",
       "      <th></th>\n",
       "      <th></th>\n",
       "      <th></th>\n",
       "      <th></th>\n",
       "    </tr>\n",
       "  </thead>\n",
       "  <tbody>\n",
       "    <tr>\n",
       "      <th>2019-07-05 10:00:00</th>\n",
       "      <td>18.260000</td>\n",
       "      <td>64.400000</td>\n",
       "      <td>11.445000</td>\n",
       "      <td>0.0</td>\n",
       "    </tr>\n",
       "    <tr>\n",
       "      <th>2019-07-05 11:00:00</th>\n",
       "      <td>19.500833</td>\n",
       "      <td>61.140833</td>\n",
       "      <td>11.782500</td>\n",
       "      <td>0.0</td>\n",
       "    </tr>\n",
       "    <tr>\n",
       "      <th>2019-07-05 12:00:00</th>\n",
       "      <td>18.815000</td>\n",
       "      <td>62.984167</td>\n",
       "      <td>11.575833</td>\n",
       "      <td>0.0</td>\n",
       "    </tr>\n",
       "    <tr>\n",
       "      <th>2019-07-05 13:00:00</th>\n",
       "      <td>19.723333</td>\n",
       "      <td>58.096667</td>\n",
       "      <td>11.257500</td>\n",
       "      <td>0.0</td>\n",
       "    </tr>\n",
       "    <tr>\n",
       "      <th>2019-07-05 14:00:00</th>\n",
       "      <td>19.434545</td>\n",
       "      <td>62.000909</td>\n",
       "      <td>11.940000</td>\n",
       "      <td>0.0</td>\n",
       "    </tr>\n",
       "  </tbody>\n",
       "</table>\n",
       "</div>"
      ],
      "text/plain": [
       "                     Temperature  Relative Humidity  Dew Point  Rain\n",
       "Date                                                                \n",
       "2019-07-05 10:00:00    18.260000          64.400000  11.445000   0.0\n",
       "2019-07-05 11:00:00    19.500833          61.140833  11.782500   0.0\n",
       "2019-07-05 12:00:00    18.815000          62.984167  11.575833   0.0\n",
       "2019-07-05 13:00:00    19.723333          58.096667  11.257500   0.0\n",
       "2019-07-05 14:00:00    19.434545          62.000909  11.940000   0.0"
      ]
     },
     "execution_count": 56,
     "metadata": {},
     "output_type": "execute_result"
    }
   ],
   "source": [
    "df_climate_1h.head()"
   ]
  },
  {
   "cell_type": "code",
   "execution_count": 57,
   "metadata": {
    "ExecuteTime": {
     "end_time": "2021-11-25T12:42:28.958449Z",
     "start_time": "2021-11-25T12:42:28.950075Z"
    },
    "slideshow": {
     "slide_type": "subslide"
    }
   },
   "outputs": [
    {
     "data": {
      "text/html": [
       "<div>\n",
       "<style scoped>\n",
       "    .dataframe tbody tr th:only-of-type {\n",
       "        vertical-align: middle;\n",
       "    }\n",
       "\n",
       "    .dataframe tbody tr th {\n",
       "        vertical-align: top;\n",
       "    }\n",
       "\n",
       "    .dataframe thead th {\n",
       "        text-align: right;\n",
       "    }\n",
       "</style>\n",
       "<table border=\"1\" class=\"dataframe\">\n",
       "  <thead>\n",
       "    <tr style=\"text-align: right;\">\n",
       "      <th></th>\n",
       "      <th>Temperature</th>\n",
       "      <th>Relative Humidity</th>\n",
       "      <th>Dew Point</th>\n",
       "      <th>Rain</th>\n",
       "    </tr>\n",
       "    <tr>\n",
       "      <th>Date</th>\n",
       "      <th></th>\n",
       "      <th></th>\n",
       "      <th></th>\n",
       "      <th></th>\n",
       "    </tr>\n",
       "  </thead>\n",
       "  <tbody>\n",
       "    <tr>\n",
       "      <th>2019-09-11 19:00:00</th>\n",
       "      <td>16.753333</td>\n",
       "      <td>59.288333</td>\n",
       "      <td>8.757500</td>\n",
       "      <td>0.0</td>\n",
       "    </tr>\n",
       "    <tr>\n",
       "      <th>2019-09-11 20:00:00</th>\n",
       "      <td>14.031667</td>\n",
       "      <td>68.965000</td>\n",
       "      <td>8.430000</td>\n",
       "      <td>0.0</td>\n",
       "    </tr>\n",
       "    <tr>\n",
       "      <th>2019-09-11 21:00:00</th>\n",
       "      <td>13.535833</td>\n",
       "      <td>71.552500</td>\n",
       "      <td>8.502500</td>\n",
       "      <td>0.0</td>\n",
       "    </tr>\n",
       "    <tr>\n",
       "      <th>2019-09-11 22:00:00</th>\n",
       "      <td>15.013333</td>\n",
       "      <td>67.598333</td>\n",
       "      <td>9.081667</td>\n",
       "      <td>0.0</td>\n",
       "    </tr>\n",
       "    <tr>\n",
       "      <th>2019-09-11 23:00:00</th>\n",
       "      <td>15.812222</td>\n",
       "      <td>64.648889</td>\n",
       "      <td>9.176667</td>\n",
       "      <td>0.0</td>\n",
       "    </tr>\n",
       "  </tbody>\n",
       "</table>\n",
       "</div>"
      ],
      "text/plain": [
       "                     Temperature  Relative Humidity  Dew Point  Rain\n",
       "Date                                                                \n",
       "2019-09-11 19:00:00    16.753333          59.288333   8.757500   0.0\n",
       "2019-09-11 20:00:00    14.031667          68.965000   8.430000   0.0\n",
       "2019-09-11 21:00:00    13.535833          71.552500   8.502500   0.0\n",
       "2019-09-11 22:00:00    15.013333          67.598333   9.081667   0.0\n",
       "2019-09-11 23:00:00    15.812222          64.648889   9.176667   0.0"
      ]
     },
     "execution_count": 57,
     "metadata": {},
     "output_type": "execute_result"
    }
   ],
   "source": [
    "df_climate_1h.tail()"
   ]
  },
  {
   "cell_type": "markdown",
   "metadata": {
    "slideshow": {
     "slide_type": "subslide"
    }
   },
   "source": [
    "And now the same for daily values:"
   ]
  },
  {
   "cell_type": "code",
   "execution_count": 58,
   "metadata": {
    "ExecuteTime": {
     "end_time": "2021-11-25T12:42:28.964924Z",
     "start_time": "2021-11-25T12:42:28.959335Z"
    },
    "slideshow": {
     "slide_type": "fragment"
    }
   },
   "outputs": [],
   "source": [
    "df_climate_1d = df_climate.resample( '1D' ).mean()"
   ]
  },
  {
   "cell_type": "code",
   "execution_count": 59,
   "metadata": {
    "ExecuteTime": {
     "end_time": "2021-11-25T12:42:28.973557Z",
     "start_time": "2021-11-25T12:42:28.965758Z"
    },
    "slideshow": {
     "slide_type": "fragment"
    }
   },
   "outputs": [
    {
     "data": {
      "text/html": [
       "<div>\n",
       "<style scoped>\n",
       "    .dataframe tbody tr th:only-of-type {\n",
       "        vertical-align: middle;\n",
       "    }\n",
       "\n",
       "    .dataframe tbody tr th {\n",
       "        vertical-align: top;\n",
       "    }\n",
       "\n",
       "    .dataframe thead th {\n",
       "        text-align: right;\n",
       "    }\n",
       "</style>\n",
       "<table border=\"1\" class=\"dataframe\">\n",
       "  <thead>\n",
       "    <tr style=\"text-align: right;\">\n",
       "      <th></th>\n",
       "      <th>Temperature</th>\n",
       "      <th>Relative Humidity</th>\n",
       "      <th>Dew Point</th>\n",
       "      <th>Rain</th>\n",
       "    </tr>\n",
       "    <tr>\n",
       "      <th>Date</th>\n",
       "      <th></th>\n",
       "      <th></th>\n",
       "      <th></th>\n",
       "      <th></th>\n",
       "    </tr>\n",
       "  </thead>\n",
       "  <tbody>\n",
       "    <tr>\n",
       "      <th>2019-07-05</th>\n",
       "      <td>19.016710</td>\n",
       "      <td>63.214516</td>\n",
       "      <td>11.751871</td>\n",
       "      <td>0.00000</td>\n",
       "    </tr>\n",
       "    <tr>\n",
       "      <th>2019-07-06</th>\n",
       "      <td>16.392265</td>\n",
       "      <td>82.019965</td>\n",
       "      <td>13.144460</td>\n",
       "      <td>0.01115</td>\n",
       "    </tr>\n",
       "    <tr>\n",
       "      <th>2019-07-07</th>\n",
       "      <td>14.104965</td>\n",
       "      <td>71.401655</td>\n",
       "      <td>8.703134</td>\n",
       "      <td>0.00000</td>\n",
       "    </tr>\n",
       "    <tr>\n",
       "      <th>2019-07-08</th>\n",
       "      <td>15.036969</td>\n",
       "      <td>65.162300</td>\n",
       "      <td>8.171359</td>\n",
       "      <td>0.00000</td>\n",
       "    </tr>\n",
       "    <tr>\n",
       "      <th>2019-07-09</th>\n",
       "      <td>15.401777</td>\n",
       "      <td>66.716690</td>\n",
       "      <td>8.611254</td>\n",
       "      <td>0.00000</td>\n",
       "    </tr>\n",
       "  </tbody>\n",
       "</table>\n",
       "</div>"
      ],
      "text/plain": [
       "            Temperature  Relative Humidity  Dew Point     Rain\n",
       "Date                                                          \n",
       "2019-07-05    19.016710          63.214516  11.751871  0.00000\n",
       "2019-07-06    16.392265          82.019965  13.144460  0.01115\n",
       "2019-07-07    14.104965          71.401655   8.703134  0.00000\n",
       "2019-07-08    15.036969          65.162300   8.171359  0.00000\n",
       "2019-07-09    15.401777          66.716690   8.611254  0.00000"
      ]
     },
     "execution_count": 59,
     "metadata": {},
     "output_type": "execute_result"
    }
   ],
   "source": [
    "df_climate_1d.head()"
   ]
  },
  {
   "cell_type": "code",
   "execution_count": 60,
   "metadata": {
    "ExecuteTime": {
     "end_time": "2021-11-25T12:42:28.983223Z",
     "start_time": "2021-11-25T12:42:28.974360Z"
    },
    "slideshow": {
     "slide_type": "subslide"
    }
   },
   "outputs": [
    {
     "data": {
      "text/html": [
       "<div>\n",
       "<style scoped>\n",
       "    .dataframe tbody tr th:only-of-type {\n",
       "        vertical-align: middle;\n",
       "    }\n",
       "\n",
       "    .dataframe tbody tr th {\n",
       "        vertical-align: top;\n",
       "    }\n",
       "\n",
       "    .dataframe thead th {\n",
       "        text-align: right;\n",
       "    }\n",
       "</style>\n",
       "<table border=\"1\" class=\"dataframe\">\n",
       "  <thead>\n",
       "    <tr style=\"text-align: right;\">\n",
       "      <th></th>\n",
       "      <th>Temperature</th>\n",
       "      <th>Relative Humidity</th>\n",
       "      <th>Dew Point</th>\n",
       "      <th>Rain</th>\n",
       "    </tr>\n",
       "    <tr>\n",
       "      <th>Date</th>\n",
       "      <th></th>\n",
       "      <th></th>\n",
       "      <th></th>\n",
       "      <th></th>\n",
       "    </tr>\n",
       "  </thead>\n",
       "  <tbody>\n",
       "    <tr>\n",
       "      <th>2019-09-07</th>\n",
       "      <td>14.048287</td>\n",
       "      <td>66.988147</td>\n",
       "      <td>6.978601</td>\n",
       "      <td>0.002797</td>\n",
       "    </tr>\n",
       "    <tr>\n",
       "      <th>2019-09-08</th>\n",
       "      <td>17.745066</td>\n",
       "      <td>67.396960</td>\n",
       "      <td>10.596256</td>\n",
       "      <td>0.000881</td>\n",
       "    </tr>\n",
       "    <tr>\n",
       "      <th>2019-09-09</th>\n",
       "      <td>12.925236</td>\n",
       "      <td>95.580858</td>\n",
       "      <td>12.233648</td>\n",
       "      <td>0.082403</td>\n",
       "    </tr>\n",
       "    <tr>\n",
       "      <th>2019-09-10</th>\n",
       "      <td>14.739500</td>\n",
       "      <td>78.862429</td>\n",
       "      <td>10.755179</td>\n",
       "      <td>0.001429</td>\n",
       "    </tr>\n",
       "    <tr>\n",
       "      <th>2019-09-11</th>\n",
       "      <td>14.903534</td>\n",
       "      <td>68.934276</td>\n",
       "      <td>8.560318</td>\n",
       "      <td>0.000000</td>\n",
       "    </tr>\n",
       "  </tbody>\n",
       "</table>\n",
       "</div>"
      ],
      "text/plain": [
       "            Temperature  Relative Humidity  Dew Point      Rain\n",
       "Date                                                           \n",
       "2019-09-07    14.048287          66.988147   6.978601  0.002797\n",
       "2019-09-08    17.745066          67.396960  10.596256  0.000881\n",
       "2019-09-09    12.925236          95.580858  12.233648  0.082403\n",
       "2019-09-10    14.739500          78.862429  10.755179  0.001429\n",
       "2019-09-11    14.903534          68.934276   8.560318  0.000000"
      ]
     },
     "execution_count": 60,
     "metadata": {},
     "output_type": "execute_result"
    }
   ],
   "source": [
    "df_climate_1d.tail()"
   ]
  },
  {
   "cell_type": "markdown",
   "metadata": {
    "slideshow": {
     "slide_type": "subslide"
    }
   },
   "source": [
    "And that easily we get the daily average temperature and humidity from measurements in 5 minutes interval!"
   ]
  },
  {
   "cell_type": "markdown",
   "metadata": {
    "slideshow": {
     "slide_type": "subslide"
    }
   },
   "source": [
    "If we wanted to resample with different functions, sometimes the maximum value, for some other columns the sum or the mean, we need to use the following syntax.\n",
    "\n",
    "In this case, it resamples to the same 1-day frequency, but it returns the minimum temperature and averages the relative humidity.\n",
    "\n",
    "Remember to import numpy to use the functions `np.max` and `np.mean`!"
   ]
  },
  {
   "cell_type": "code",
   "execution_count": 61,
   "metadata": {
    "ExecuteTime": {
     "end_time": "2021-11-25T12:42:28.988425Z",
     "start_time": "2021-11-25T12:42:28.984139Z"
    },
    "slideshow": {
     "slide_type": "subslide"
    }
   },
   "outputs": [],
   "source": [
    "import numpy as np"
   ]
  },
  {
   "cell_type": "code",
   "execution_count": 62,
   "metadata": {
    "ExecuteTime": {
     "end_time": "2021-11-25T12:42:28.994885Z",
     "start_time": "2021-11-25T12:42:28.989299Z"
    }
   },
   "outputs": [
    {
     "data": {
      "text/plain": [
       "Index(['Temperature', 'Relative Humidity', 'Dew Point', 'Rain'], dtype='object')"
      ]
     },
     "execution_count": 62,
     "metadata": {},
     "output_type": "execute_result"
    }
   ],
   "source": [
    "df_climate.columns"
   ]
  },
  {
   "cell_type": "code",
   "execution_count": 63,
   "metadata": {
    "ExecuteTime": {
     "end_time": "2021-11-25T12:42:29.008649Z",
     "start_time": "2021-11-25T12:42:28.995738Z"
    },
    "slideshow": {
     "slide_type": "fragment"
    }
   },
   "outputs": [
    {
     "data": {
      "text/html": [
       "<div>\n",
       "<style scoped>\n",
       "    .dataframe tbody tr th:only-of-type {\n",
       "        vertical-align: middle;\n",
       "    }\n",
       "\n",
       "    .dataframe tbody tr th {\n",
       "        vertical-align: top;\n",
       "    }\n",
       "\n",
       "    .dataframe thead th {\n",
       "        text-align: right;\n",
       "    }\n",
       "</style>\n",
       "<table border=\"1\" class=\"dataframe\">\n",
       "  <thead>\n",
       "    <tr style=\"text-align: right;\">\n",
       "      <th></th>\n",
       "      <th>Temperature</th>\n",
       "      <th>Relative Humidity</th>\n",
       "      <th>Rain</th>\n",
       "    </tr>\n",
       "    <tr>\n",
       "      <th>Date</th>\n",
       "      <th></th>\n",
       "      <th></th>\n",
       "      <th></th>\n",
       "    </tr>\n",
       "  </thead>\n",
       "  <tbody>\n",
       "    <tr>\n",
       "      <th>2019-07-05</th>\n",
       "      <td>2947.59</td>\n",
       "      <td>63.214516</td>\n",
       "      <td>0.0</td>\n",
       "    </tr>\n",
       "    <tr>\n",
       "      <th>2019-07-06</th>\n",
       "      <td>4704.58</td>\n",
       "      <td>82.019965</td>\n",
       "      <td>3.2</td>\n",
       "    </tr>\n",
       "    <tr>\n",
       "      <th>2019-07-07</th>\n",
       "      <td>4005.81</td>\n",
       "      <td>71.401655</td>\n",
       "      <td>0.0</td>\n",
       "    </tr>\n",
       "    <tr>\n",
       "      <th>2019-07-08</th>\n",
       "      <td>4315.61</td>\n",
       "      <td>65.162300</td>\n",
       "      <td>0.0</td>\n",
       "    </tr>\n",
       "    <tr>\n",
       "      <th>2019-07-09</th>\n",
       "      <td>4420.31</td>\n",
       "      <td>66.716690</td>\n",
       "      <td>0.0</td>\n",
       "    </tr>\n",
       "    <tr>\n",
       "      <th>...</th>\n",
       "      <td>...</td>\n",
       "      <td>...</td>\n",
       "      <td>...</td>\n",
       "    </tr>\n",
       "    <tr>\n",
       "      <th>2019-09-07</th>\n",
       "      <td>4017.81</td>\n",
       "      <td>66.988147</td>\n",
       "      <td>0.8</td>\n",
       "    </tr>\n",
       "    <tr>\n",
       "      <th>2019-09-08</th>\n",
       "      <td>4028.13</td>\n",
       "      <td>67.396960</td>\n",
       "      <td>0.2</td>\n",
       "    </tr>\n",
       "    <tr>\n",
       "      <th>2019-09-09</th>\n",
       "      <td>3011.58</td>\n",
       "      <td>95.580858</td>\n",
       "      <td>19.2</td>\n",
       "    </tr>\n",
       "    <tr>\n",
       "      <th>2019-09-10</th>\n",
       "      <td>4127.06</td>\n",
       "      <td>78.862429</td>\n",
       "      <td>0.4</td>\n",
       "    </tr>\n",
       "    <tr>\n",
       "      <th>2019-09-11</th>\n",
       "      <td>4217.70</td>\n",
       "      <td>68.934276</td>\n",
       "      <td>0.0</td>\n",
       "    </tr>\n",
       "  </tbody>\n",
       "</table>\n",
       "<p>69 rows × 3 columns</p>\n",
       "</div>"
      ],
      "text/plain": [
       "            Temperature  Relative Humidity  Rain\n",
       "Date                                            \n",
       "2019-07-05      2947.59          63.214516   0.0\n",
       "2019-07-06      4704.58          82.019965   3.2\n",
       "2019-07-07      4005.81          71.401655   0.0\n",
       "2019-07-08      4315.61          65.162300   0.0\n",
       "2019-07-09      4420.31          66.716690   0.0\n",
       "...                 ...                ...   ...\n",
       "2019-09-07      4017.81          66.988147   0.8\n",
       "2019-09-08      4028.13          67.396960   0.2\n",
       "2019-09-09      3011.58          95.580858  19.2\n",
       "2019-09-10      4127.06          78.862429   0.4\n",
       "2019-09-11      4217.70          68.934276   0.0\n",
       "\n",
       "[69 rows x 3 columns]"
      ]
     },
     "execution_count": 63,
     "metadata": {},
     "output_type": "execute_result"
    }
   ],
   "source": [
    "df_climate.resample( '1D' ).apply( {'Temperature':np.sum,\n",
    "                                    'Relative Humidity':np.mean,\n",
    "                                    'Rain':np.sum} ) "
   ]
  },
  {
   "cell_type": "markdown",
   "metadata": {
    "slideshow": {
     "slide_type": "subslide"
    }
   },
   "source": [
    "Lastly, we will show what happens if the new frequency is bigger, i.e. the time intervals are smaller.\n",
    "\n",
    "In these cases, we get empty spaces, that need to be filled with _something_. Common options are the next or last values, or empty cells."
   ]
  },
  {
   "cell_type": "markdown",
   "metadata": {
    "slideshow": {
     "slide_type": "fragment"
    }
   },
   "source": [
    "For an example, we will change the frequency from 5 minutes to 1 minute."
   ]
  },
  {
   "cell_type": "markdown",
   "metadata": {
    "slideshow": {
     "slide_type": "subslide"
    }
   },
   "source": [
    "Mean, average and other functions that ___aggregate___ values do not have meaning in this case, because we are \"creating\" new values, cells that were not there before:"
   ]
  },
  {
   "cell_type": "code",
   "execution_count": 64,
   "metadata": {
    "ExecuteTime": {
     "end_time": "2021-11-25T12:42:29.017613Z",
     "start_time": "2021-11-25T12:42:29.009432Z"
    },
    "slideshow": {
     "slide_type": "fragment"
    }
   },
   "outputs": [
    {
     "data": {
      "text/plain": [
       "Date\n",
       "2019-07-05 10:50:00    18.25\n",
       "2019-07-05 10:51:00    18.25\n",
       "2019-07-05 10:52:00    18.25\n",
       "2019-07-05 10:53:00    18.25\n",
       "2019-07-05 10:54:00    18.25\n",
       "                       ...  \n",
       "2019-09-11 23:36:00    16.04\n",
       "2019-09-11 23:37:00    16.04\n",
       "2019-09-11 23:38:00    16.04\n",
       "2019-09-11 23:39:00    16.04\n",
       "2019-09-11 23:40:00    15.87\n",
       "Freq: T, Name: Temperature, Length: 98691, dtype: float64"
      ]
     },
     "execution_count": 64,
     "metadata": {},
     "output_type": "execute_result"
    }
   ],
   "source": [
    "df_climate['Temperature'].resample( '1min' ).ffill()"
   ]
  },
  {
   "cell_type": "markdown",
   "metadata": {
    "slideshow": {
     "slide_type": "slide"
    }
   },
   "source": [
    "## Exercises"
   ]
  },
  {
   "cell_type": "markdown",
   "metadata": {
    "slideshow": {
     "slide_type": "subslide"
    }
   },
   "source": [
    "### Lettuce freshweight"
   ]
  },
  {
   "cell_type": "markdown",
   "metadata": {
    "slideshow": {
     "slide_type": "fragment"
    }
   },
   "source": [
    "Consider the fresh weight measurements of the lettuce experiment, included in the excel file ___lettuce.xlsx___, on the sheet ___Freshweight___.\n",
    "\n",
    "Import the data and select each one of the treatments.\n",
    "\n",
    "For each treatment, create a data frame. You can call them `df_Au47`, `df_Au53` and `df_Control`."
   ]
  },
  {
   "cell_type": "markdown",
   "metadata": {
    "slideshow": {
     "slide_type": "subslide"
    }
   },
   "source": [
    "Once you have three data frames, save each one of them to a ___csv___ file, using the `.to_csv()` function.\n",
    "\n",
    "You might want to use the optional parameters:\n",
    "* sep=';' if you plan to read it easily using microsoft excel\n",
    "* index=False if you don't want an extra column with the index at the beginning of the file\n",
    "\n",
    "The general syntax is:\n",
    "\n",
    "`dataframe_name.to_csv( \"filename.csv\" )`"
   ]
  },
  {
   "cell_type": "markdown",
   "metadata": {
    "slideshow": {
     "slide_type": "subslide"
    }
   },
   "source": [
    "### Elements (fertilizers) in tanks"
   ]
  },
  {
   "cell_type": "markdown",
   "metadata": {
    "slideshow": {
     "slide_type": "fragment"
    }
   },
   "source": [
    "Open the sheet ___Elements___ in the same excel file to a new data frame. You can call it `df_elements`. \n",
    "\n",
    "It contains the use of fertilizers in the lettuce experiment. \n",
    "\n",
    "There are several rows for each tank of nutrient solution, and we want to know the descriptive statistics of each tank."
   ]
  },
  {
   "cell_type": "markdown",
   "metadata": {
    "slideshow": {
     "slide_type": "subslide"
    }
   },
   "source": [
    "Select the first tank and show its descriptive statistics using either of these forms:"
   ]
  },
  {
   "cell_type": "markdown",
   "metadata": {
    "slideshow": {
     "slide_type": "fragment"
    }
   },
   "source": [
    "`df_elements[ df_elements['Tank']==1 ].describe()`"
   ]
  },
  {
   "cell_type": "markdown",
   "metadata": {
    "slideshow": {
     "slide_type": "fragment"
    }
   },
   "source": [
    "`tank_condition = df_elements['Tank']==1`\n",
    "\n",
    "`df_elements[ tank_condition ].describe()`"
   ]
  },
  {
   "cell_type": "markdown",
   "metadata": {
    "slideshow": {
     "slide_type": "subslide"
    }
   },
   "source": [
    "Create a for loop that counts from 1 to 9, which are the tank numbers. In the loop, include the code you just used to print the statistics and:\n",
    "* wrap it in a `print()` function to see the statistics for all tanks\n",
    "* append the following code to the same line to obtain 9 files with the statistics: `.to_csv(str(i)+'.csv')`\n",
    "* correct the code from last line to make the files names agree with the tank number"
   ]
  },
  {
   "cell_type": "markdown",
   "metadata": {
    "slideshow": {
     "slide_type": "subslide"
    }
   },
   "source": [
    "## Links"
   ]
  },
  {
   "cell_type": "markdown",
   "metadata": {
    "slideshow": {
     "slide_type": "fragment"
    }
   },
   "source": [
    "[Pandas official documentation](https://pandas.pydata.org/pandas-docs/stable/)\n",
    "\n",
    "[A tutorial on pandas](https://towardsdatascience.com/a-quick-introduction-to-the-pandas-python-library-f1b678f34673)\n",
    "\n",
    "[Example about row selection on conditions](https://chrisalbon.com/python/data_wrangling/pandas_selecting_rows_on_conditions/)\n",
    "\n",
    "[Resampling options, frequency and aggregation functions](http://benalexkeen.com/resampling-time-series-data-with-pandas/)"
   ]
  },
  {
   "cell_type": "markdown",
   "metadata": {
    "slideshow": {
     "slide_type": "fragment"
    }
   },
   "source": [
    "---"
   ]
  }
 ],
 "metadata": {
  "celltoolbar": "Slideshow",
  "kernelspec": {
   "display_name": "Python 3 (ipykernel)",
   "language": "python",
   "name": "python3"
  },
  "language_info": {
   "codemirror_mode": {
    "name": "ipython",
    "version": 3
   },
   "file_extension": ".py",
   "mimetype": "text/x-python",
   "name": "python",
   "nbconvert_exporter": "python",
   "pygments_lexer": "ipython3",
   "version": "3.8.10"
  },
  "toc": {
   "base_numbering": 1,
   "nav_menu": {},
   "number_sections": true,
   "sideBar": true,
   "skip_h1_title": true,
   "title_cell": "Table of Contents",
   "title_sidebar": "Contents",
   "toc_cell": true,
   "toc_position": {
    "height": "calc(100% - 180px)",
    "left": "10px",
    "top": "150px",
    "width": "327.6px"
   },
   "toc_section_display": true,
   "toc_window_display": false
  },
  "varInspector": {
   "cols": {
    "lenName": 16,
    "lenType": 16,
    "lenVar": 40
   },
   "kernels_config": {
    "python": {
     "delete_cmd_postfix": "",
     "delete_cmd_prefix": "del ",
     "library": "var_list.py",
     "varRefreshCmd": "print(var_dic_list())"
    },
    "r": {
     "delete_cmd_postfix": ") ",
     "delete_cmd_prefix": "rm(",
     "library": "var_list.r",
     "varRefreshCmd": "cat(var_dic_list()) "
    }
   },
   "types_to_exclude": [
    "module",
    "function",
    "builtin_function_or_method",
    "instance",
    "_Feature"
   ],
   "window_display": false
  }
 },
 "nbformat": 4,
 "nbformat_minor": 2
}
